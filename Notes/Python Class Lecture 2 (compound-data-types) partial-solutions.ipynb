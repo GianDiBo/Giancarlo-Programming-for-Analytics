{
 "cells": [
  {
   "cell_type": "markdown",
   "metadata": {},
   "source": [
    "# Programming For Analytics\n",
    "##### © Pratik Agrawal, 2016\n",
    "\n",
    "### Compound Data Types\n",
    "\n",
    "- Lists\n",
    " - List Objects\n",
    " - Range\n",
    " - Indexing\n",
    " - Slicing\n",
    " - Operations on Lists\n",
    " - Heterogenous Lists\n",
    " - List Methods\n",
    " - Exercises!\n",
    "- Dictionaries\n",
    " - Keys\n",
    " - get()\n",
    " - del\n",
    " - Miscellaneous\n",
    " - Exercises! \n",
    "- Sets\n",
    " - Construction\n",
    " - Examples\n",
    " - Set Operations\n",
    "   - union()\n",
    "   - intersection()\n",
    "   - difference()\n",
    "   - symmetric_difference()\n",
    "   - issubset()/issuperset()\n",
    "   - isdisjoint()\n",
    "   - add()\n",
    "   - update()\n",
    "   - remove()\n",
    "   - discard()\n",
    " - frozenset\n",
    " - Exercises!\n",
    "- List Comprehensions\n",
    " - Generator Expressions\n",
    " - Exercises!\n",
    "\n",
    " \n",
    "## Lists\n",
    "List is an ordered sequence of any kind of object, and is the workhorse data structure in Python\n",
    "\n",
    "### List Objects\n",
    "Use square brackets to create a list"
   ]
  },
  {
   "cell_type": "code",
   "execution_count": null,
   "metadata": {
    "collapsed": false
   },
   "outputs": [],
   "source": [
    "list_1 = [0, 1, 2, 3, 4]\n",
    "print list_1"
   ]
  },
  {
   "cell_type": "markdown",
   "metadata": {},
   "source": [
    "You can concatenate lists with a `+` sign"
   ]
  },
  {
   "cell_type": "code",
   "execution_count": null,
   "metadata": {
    "collapsed": false
   },
   "outputs": [],
   "source": [
    "[0, 1] + [2, 3, 4]"
   ]
  },
  {
   "cell_type": "markdown",
   "metadata": {},
   "source": [
    "You can multiply a list by an integer to create a repeating sequence"
   ]
  },
  {
   "cell_type": "code",
   "execution_count": null,
   "metadata": {
    "collapsed": false
   },
   "outputs": [],
   "source": [
    "[0, 1] * 4"
   ]
  },
  {
   "cell_type": "markdown",
   "metadata": {},
   "source": [
    "### Range\n",
    "Creating a sequential list by manually typing in all items can be tedious. Lets take a shortcut by using a built-in function - `range()`"
   ]
  },
  {
   "cell_type": "code",
   "execution_count": null,
   "metadata": {
    "collapsed": false
   },
   "outputs": [],
   "source": [
    "range(5)"
   ]
  },
  {
   "cell_type": "markdown",
   "metadata": {},
   "source": [
    "`range()` accepts a single number or 2 numbers or 3 numbers-\n",
    "\n",
    "`range(x,y)` - will print numbers from `x` through `y`\n",
    "\n",
    "`range(x,y,step)` - will print numbers from `x` through `y` in steps of `step`"
   ]
  },
  {
   "cell_type": "code",
   "execution_count": null,
   "metadata": {
    "collapsed": false
   },
   "outputs": [],
   "source": [
    "range(2,7)"
   ]
  },
  {
   "cell_type": "code",
   "execution_count": null,
   "metadata": {
    "collapsed": false
   },
   "outputs": [],
   "source": [
    "range(2,7,2)"
   ]
  },
  {
   "cell_type": "markdown",
   "metadata": {},
   "source": [
    "### Indexing\n",
    "To select the first element of a list use an index of `0`"
   ]
  },
  {
   "cell_type": "code",
   "execution_count": null,
   "metadata": {
    "collapsed": false
   },
   "outputs": [],
   "source": [
    "list_1 = [1, 2, 3, 4, 4]\n",
    "list_1[0]"
   ]
  },
  {
   "cell_type": "markdown",
   "metadata": {},
   "source": [
    "To select the last element in the list use the index `-1`"
   ]
  },
  {
   "cell_type": "code",
   "execution_count": null,
   "metadata": {
    "collapsed": false
   },
   "outputs": [],
   "source": [
    "list_1[-1]"
   ]
  },
  {
   "cell_type": "markdown",
   "metadata": {},
   "source": [
    "### Change an element in the list"
   ]
  },
  {
   "cell_type": "code",
   "execution_count": null,
   "metadata": {
    "collapsed": false
   },
   "outputs": [],
   "source": [
    "list_1[-1]=5\n",
    "list_1"
   ]
  },
  {
   "cell_type": "markdown",
   "metadata": {},
   "source": [
    "### Slicing"
   ]
  },
  {
   "cell_type": "code",
   "execution_count": null,
   "metadata": {
    "collapsed": false
   },
   "outputs": [],
   "source": [
    "list_1 = [1, 2, 3, 4, 4]\n",
    "list_1[1:3]"
   ]
  },
  {
   "cell_type": "markdown",
   "metadata": {},
   "source": [
    "You can also use negative indices"
   ]
  },
  {
   "cell_type": "code",
   "execution_count": null,
   "metadata": {
    "collapsed": false
   },
   "outputs": [],
   "source": [
    "list_1[1:-2]"
   ]
  },
  {
   "cell_type": "markdown",
   "metadata": {},
   "source": [
    "To get the first `n` items of the list"
   ]
  },
  {
   "cell_type": "code",
   "execution_count": null,
   "metadata": {
    "collapsed": false
   },
   "outputs": [],
   "source": [
    "n=3\n",
    "list_1[:n]"
   ]
  },
  {
   "cell_type": "markdown",
   "metadata": {},
   "source": [
    "Overwriting a sequence of items in the list is as simple as- "
   ]
  },
  {
   "cell_type": "code",
   "execution_count": null,
   "metadata": {
    "collapsed": false
   },
   "outputs": [],
   "source": [
    "list_1[1:3] = [6, 7, 8, 9]\n",
    "list_1"
   ]
  },
  {
   "cell_type": "markdown",
   "metadata": {},
   "source": [
    "The above operation will use the slice `1:3` and replace it with the new list, thereby extending the original list"
   ]
  },
  {
   "cell_type": "markdown",
   "metadata": {},
   "source": [
    "### Operations on Lists\n",
    "The `len()` function"
   ]
  },
  {
   "cell_type": "code",
   "execution_count": null,
   "metadata": {
    "collapsed": false
   },
   "outputs": [],
   "source": [
    "list_1 = [1, 2, 3, 4, 4]\n",
    "len(list_1)"
   ]
  },
  {
   "cell_type": "markdown",
   "metadata": {},
   "source": [
    "Delete an item from a list"
   ]
  },
  {
   "cell_type": "code",
   "execution_count": null,
   "metadata": {
    "collapsed": false
   },
   "outputs": [],
   "source": [
    "del list_1[-1]\n",
    "list_1"
   ]
  },
  {
   "cell_type": "markdown",
   "metadata": {},
   "source": [
    "One very useful operation is using the `in` keyword. This allows you to test whether a value is present in the list-"
   ]
  },
  {
   "cell_type": "code",
   "execution_count": null,
   "metadata": {
    "collapsed": false
   },
   "outputs": [],
   "source": [
    "list_1 = [1, 2, 3, 4, 4]\n",
    "3 in list_1"
   ]
  },
  {
   "cell_type": "code",
   "execution_count": null,
   "metadata": {
    "collapsed": false
   },
   "outputs": [],
   "source": [
    "5 in list_1"
   ]
  },
  {
   "cell_type": "code",
   "execution_count": null,
   "metadata": {
    "collapsed": false
   },
   "outputs": [],
   "source": [
    "5 not in list_1"
   ]
  },
  {
   "cell_type": "code",
   "execution_count": null,
   "metadata": {
    "collapsed": false
   },
   "outputs": [],
   "source": [
    "3 not in list_1"
   ]
  },
  {
   "cell_type": "markdown",
   "metadata": {},
   "source": [
    "### Heterogenous Lists\n",
    "Lists can hold multiple datatypes"
   ]
  },
  {
   "cell_type": "code",
   "execution_count": null,
   "metadata": {
    "collapsed": true
   },
   "outputs": [],
   "source": [
    "list_2 = [1, [2, 3], \"word\"]"
   ]
  },
  {
   "cell_type": "code",
   "execution_count": null,
   "metadata": {
    "collapsed": false
   },
   "outputs": [],
   "source": [
    "list_2[1]"
   ]
  },
  {
   "cell_type": "code",
   "execution_count": null,
   "metadata": {
    "collapsed": false
   },
   "outputs": [],
   "source": [
    "list_2[2]"
   ]
  },
  {
   "cell_type": "markdown",
   "metadata": {},
   "source": [
    "If you want to access an item within a list which itself is in a list. In this case the list `[2, 3]` is within the list `list_2` "
   ]
  },
  {
   "cell_type": "code",
   "execution_count": null,
   "metadata": {
    "collapsed": false
   },
   "outputs": [],
   "source": [
    "list_2[1][0]"
   ]
  },
  {
   "cell_type": "markdown",
   "metadata": {},
   "source": [
    "### List Methods\n",
    "- `append()` - will add a new element to the list"
   ]
  },
  {
   "cell_type": "code",
   "execution_count": null,
   "metadata": {
    "collapsed": false
   },
   "outputs": [],
   "source": [
    "list_1 = [1, 2, 3, 4, 5]\n",
    "list_1"
   ]
  },
  {
   "cell_type": "code",
   "execution_count": null,
   "metadata": {
    "collapsed": false
   },
   "outputs": [],
   "source": [
    "list_1.append(6)\n",
    "list_1"
   ]
  },
  {
   "cell_type": "markdown",
   "metadata": {},
   "source": [
    "What if you would like to extend this list with another list?"
   ]
  },
  {
   "cell_type": "code",
   "execution_count": null,
   "metadata": {
    "collapsed": false
   },
   "outputs": [],
   "source": [
    "list_2 = [7, 8, 9]\n",
    "list_2"
   ]
  },
  {
   "cell_type": "code",
   "execution_count": null,
   "metadata": {
    "collapsed": false
   },
   "outputs": [],
   "source": [
    "list_1.extend(list_2)\n",
    "list_1"
   ]
  },
  {
   "cell_type": "markdown",
   "metadata": {},
   "source": [
    "However if you try to `append()` the second list?"
   ]
  },
  {
   "cell_type": "code",
   "execution_count": null,
   "metadata": {
    "collapsed": false
   },
   "outputs": [],
   "source": [
    "list_3 = [10, 11]\n",
    "list_3"
   ]
  },
  {
   "cell_type": "code",
   "execution_count": null,
   "metadata": {
    "collapsed": false
   },
   "outputs": [],
   "source": [
    "list_1.append(list_3)\n",
    "list_1"
   ]
  },
  {
   "cell_type": "markdown",
   "metadata": {},
   "source": [
    "- `count()` - will count the occurences of a particular item"
   ]
  },
  {
   "cell_type": "code",
   "execution_count": null,
   "metadata": {
    "collapsed": false
   },
   "outputs": [],
   "source": [
    "list_1 = [1, 2, 3, 4, 5, 4, [4, 7, 4, 4, 4, 4]]\n",
    "list_1"
   ]
  },
  {
   "cell_type": "code",
   "execution_count": null,
   "metadata": {
    "collapsed": false
   },
   "outputs": [],
   "source": [
    "list_1.count(4)"
   ]
  },
  {
   "cell_type": "code",
   "execution_count": null,
   "metadata": {
    "collapsed": false
   },
   "outputs": [],
   "source": [
    "list_1[-1].count(4)"
   ]
  },
  {
   "cell_type": "markdown",
   "metadata": {},
   "source": [
    "You have to define the scope where the `count()` function should look for values. It will only search in the current list specified.\n",
    "- `insert()` - inserts a value at a specified index"
   ]
  },
  {
   "cell_type": "code",
   "execution_count": null,
   "metadata": {
    "collapsed": false
   },
   "outputs": [],
   "source": [
    "list_1 = [1, 2, 3, 4, 5]\n",
    "list_1"
   ]
  },
  {
   "cell_type": "code",
   "execution_count": null,
   "metadata": {
    "collapsed": false
   },
   "outputs": [],
   "source": [
    "list_1.insert(1, 22)\n",
    "list_1"
   ]
  },
  {
   "cell_type": "markdown",
   "metadata": {},
   "source": [
    "This in effect moves the item at index 1, and inserts the new element at the index 1.\n",
    "\n",
    "*Inserting an element will extend the length of the list*\n",
    "\n",
    "- `remove()` - allows you to remove an element at a particular index of a list"
   ]
  },
  {
   "cell_type": "code",
   "execution_count": null,
   "metadata": {
    "collapsed": false
   },
   "outputs": [],
   "source": [
    "list_1 = [1, 2, 3, 4, 5]\n",
    "list_1"
   ]
  },
  {
   "cell_type": "code",
   "execution_count": null,
   "metadata": {
    "collapsed": false
   },
   "outputs": [],
   "source": [
    "list_1.remove(2)\n",
    "list_1"
   ]
  },
  {
   "cell_type": "markdown",
   "metadata": {},
   "source": [
    "- `pop()` - remove just got rid of the element without showing you what it got rid of. `pop()` shows you what it got rid of."
   ]
  },
  {
   "cell_type": "code",
   "execution_count": null,
   "metadata": {
    "collapsed": false
   },
   "outputs": [],
   "source": [
    "#list_1 = [1, 2, 3, 4, 5]\n",
    "list_1"
   ]
  },
  {
   "cell_type": "code",
   "execution_count": null,
   "metadata": {
    "collapsed": false
   },
   "outputs": [],
   "source": [
    "list_1.pop(2)"
   ]
  },
  {
   "cell_type": "markdown",
   "metadata": {},
   "source": [
    "- `del` - is similar to remove, but it is not a function of lists, it is an independent keyword"
   ]
  },
  {
   "cell_type": "code",
   "execution_count": null,
   "metadata": {
    "collapsed": false
   },
   "outputs": [],
   "source": [
    "list_1 = [1, 2, 3, 4, 5]\n",
    "list_1"
   ]
  },
  {
   "cell_type": "code",
   "execution_count": null,
   "metadata": {
    "collapsed": false
   },
   "outputs": [],
   "source": [
    "del list_1[2]\n",
    "list_1"
   ]
  },
  {
   "cell_type": "markdown",
   "metadata": {},
   "source": [
    "- `sort()` - as it says, sorts the list. This function will sort the list in place, which means the original list will get modified and will have sorted items after carrying out this operation"
   ]
  },
  {
   "cell_type": "code",
   "execution_count": null,
   "metadata": {
    "collapsed": false
   },
   "outputs": [],
   "source": [
    "list_1 = [1, 4, 3, 2, 5]\n",
    "list_1"
   ]
  },
  {
   "cell_type": "code",
   "execution_count": null,
   "metadata": {
    "collapsed": false
   },
   "outputs": [],
   "source": [
    "list_1.sort()\n",
    "list_1"
   ]
  },
  {
   "cell_type": "markdown",
   "metadata": {},
   "source": [
    "If you would like to sort a list without affecting the stored list permanently- "
   ]
  },
  {
   "cell_type": "code",
   "execution_count": null,
   "metadata": {
    "collapsed": false
   },
   "outputs": [],
   "source": [
    "list_1 = [1, 4, 3, 2, 5]\n",
    "list_1"
   ]
  },
  {
   "cell_type": "code",
   "execution_count": null,
   "metadata": {
    "collapsed": false
   },
   "outputs": [],
   "source": [
    "list_2 = sorted(list_1)\n",
    "list_2"
   ]
  },
  {
   "cell_type": "code",
   "execution_count": null,
   "metadata": {
    "collapsed": false
   },
   "outputs": [],
   "source": [
    "list_1"
   ]
  },
  {
   "cell_type": "markdown",
   "metadata": {},
   "source": [
    "- `reverse()` - reverses the contents of the list in place. Which means the list gets affected permanenly"
   ]
  },
  {
   "cell_type": "code",
   "execution_count": null,
   "metadata": {
    "collapsed": false
   },
   "outputs": [],
   "source": [
    "list_1 = [1, 4, 3, 2, 5]\n",
    "list_1"
   ]
  },
  {
   "cell_type": "code",
   "execution_count": null,
   "metadata": {
    "collapsed": false
   },
   "outputs": [],
   "source": [
    "list_1.reverse()\n",
    "list_1"
   ]
  },
  {
   "cell_type": "markdown",
   "metadata": {},
   "source": [
    "*Remember- reversing does not mean reversing and sorting. It only reverses the contents of the list*\n",
    "\n",
    "To reverse the contents without affecting the list permanently"
   ]
  },
  {
   "cell_type": "code",
   "execution_count": null,
   "metadata": {
    "collapsed": false
   },
   "outputs": [],
   "source": [
    "list_1 = [1, 4, 3, 2, 5]\n",
    "list_1"
   ]
  },
  {
   "cell_type": "code",
   "execution_count": null,
   "metadata": {
    "collapsed": false
   },
   "outputs": [],
   "source": [
    "list_1[::-1]"
   ]
  },
  {
   "cell_type": "markdown",
   "metadata": {},
   "source": [
    "### Exercises\n",
    "1. Create a list `cw_1` with the elements `13, 15, 19, 11, 5`. Maintain the ordering as provided in the question.\n",
    "2. Modify the first and last element of the list to be `15`\n",
    "3. Use list methods for the following-\n",
    " - Add `17` to the end of the list\n",
    " - How many times does `15` occur in the list?\n",
    " - Extend your original list with the list `[\"hey\", 19]`\n",
    " - What is the location of the first `19`?\n",
    " - Insert `23` as the 4th element in the list (*Hint: Indexing starts at `0`*)\n",
    " - Remove the third element, and print the value removed. Accomplish this with one function call (*Hint: Indexing starts at `0`*)\n",
    " - Sort the list, but do not do this in-place.\n",
    " - Reverse the list, but do not do this in-place.\n",
    " - Calculate the length of the list\n",
    " - Test to see if `19` is in the list\n",
    "4. From the (few lines) of the poem- \n",
    "   <br>`lyrics= '''the wind was a torrent of darkness among the gusty trees   \n",
    "   the moon was a ghostly galleon tossed upon cloudy seas   \n",
    "   the road was a ribbon of moonlight over the purple moor   \n",
    "   and the highwayman came riding \n",
    "   riding riding \n",
    "   the highwayman came riding, up to the old inn-door \n",
    "   '''`\n",
    "   <br>Print out all words beginning with `r`\n",
    "   <br>*Hint: Use the split function - lyrics.split to split the sentence into a list of words*\n",
    "   \n",
    "<br>\n",
    "<br>\n",
    "<br>\n",
    "<br>\n",
    "<br>\n",
    "<br>\n",
    "<br>\n",
    "<br>\n",
    "### Solutions\n",
    "1."
   ]
  },
  {
   "cell_type": "code",
   "execution_count": null,
   "metadata": {
    "collapsed": false
   },
   "outputs": [],
   "source": [
    "cw_1 = [13, 15, 19, 11, 5]\n",
    "cw_1"
   ]
  },
  {
   "cell_type": "markdown",
   "metadata": {},
   "source": [
    "<br>\n",
    "<br>\n",
    "2."
   ]
  },
  {
   "cell_type": "code",
   "execution_count": null,
   "metadata": {
    "collapsed": false
   },
   "outputs": [],
   "source": [
    "cw_1[0] = 15\n",
    "cw_1[-1] = 15\n",
    "cw_1"
   ]
  },
  {
   "cell_type": "markdown",
   "metadata": {},
   "source": [
    "<br>\n",
    "<br>\n",
    "3. "
   ]
  },
  {
   "cell_type": "code",
   "execution_count": null,
   "metadata": {
    "collapsed": false
   },
   "outputs": [],
   "source": [
    "cw_1.append(17)\n",
    "cw_1"
   ]
  },
  {
   "cell_type": "markdown",
   "metadata": {},
   "source": [
    "<br>\n",
    "<br>"
   ]
  },
  {
   "cell_type": "code",
   "execution_count": null,
   "metadata": {
    "collapsed": false
   },
   "outputs": [],
   "source": [
    "cw_1.count(15)"
   ]
  },
  {
   "cell_type": "markdown",
   "metadata": {},
   "source": [
    "<br>\n",
    "<br>"
   ]
  },
  {
   "cell_type": "code",
   "execution_count": null,
   "metadata": {
    "collapsed": true
   },
   "outputs": [],
   "source": [
    "cw_1.extend([\"hey\",19])"
   ]
  },
  {
   "cell_type": "code",
   "execution_count": null,
   "metadata": {
    "collapsed": false
   },
   "outputs": [],
   "source": [
    "cw_1"
   ]
  },
  {
   "cell_type": "markdown",
   "metadata": {},
   "source": [
    "<br>\n",
    "<br>"
   ]
  },
  {
   "cell_type": "code",
   "execution_count": null,
   "metadata": {
    "collapsed": false
   },
   "outputs": [],
   "source": [
    "cw_1.index(19)"
   ]
  },
  {
   "cell_type": "markdown",
   "metadata": {},
   "source": [
    "<br>\n",
    "<br>"
   ]
  },
  {
   "cell_type": "code",
   "execution_count": null,
   "metadata": {
    "collapsed": false
   },
   "outputs": [],
   "source": [
    "cw_1.insert(3,23)\n",
    "cw_1"
   ]
  },
  {
   "cell_type": "markdown",
   "metadata": {},
   "source": [
    "<br>\n",
    "<br>"
   ]
  },
  {
   "cell_type": "code",
   "execution_count": null,
   "metadata": {
    "collapsed": false
   },
   "outputs": [],
   "source": [
    "sorted(cw_1)"
   ]
  },
  {
   "cell_type": "markdown",
   "metadata": {},
   "source": [
    "<br>\n",
    "<br>"
   ]
  },
  {
   "cell_type": "code",
   "execution_count": null,
   "metadata": {
    "collapsed": false
   },
   "outputs": [],
   "source": [
    "#[start:stop:step_size]\n",
    "cw_1[::-1]"
   ]
  },
  {
   "cell_type": "markdown",
   "metadata": {},
   "source": [
    "<br>\n",
    "<br>"
   ]
  },
  {
   "cell_type": "code",
   "execution_count": null,
   "metadata": {
    "collapsed": false
   },
   "outputs": [],
   "source": [
    "len(cw_1)"
   ]
  },
  {
   "cell_type": "markdown",
   "metadata": {},
   "source": [
    "<br>\n",
    "<br>"
   ]
  },
  {
   "cell_type": "code",
   "execution_count": null,
   "metadata": {
    "collapsed": false
   },
   "outputs": [],
   "source": [
    "19 in cw_1"
   ]
  },
  {
   "cell_type": "markdown",
   "metadata": {},
   "source": [
    "<br>\n",
    "<br>"
   ]
  },
  {
   "cell_type": "code",
   "execution_count": null,
   "metadata": {
    "collapsed": true
   },
   "outputs": [],
   "source": [
    "lyrics= '''the wind was a torrent of darkness among the gusty trees   \n",
    "the moon was a ghostly galleon tossed upon cloudy seas   \n",
    "the road was a ribbon of moonlight over the purple moor   \n",
    "and the highwayman came riding \n",
    "riding riding \n",
    "the highwayman came riding, up to the old inn-door \n",
    "''' "
   ]
  },
  {
   "cell_type": "code",
   "execution_count": null,
   "metadata": {
    "collapsed": true
   },
   "outputs": [],
   "source": [
    "words = lyrics.split(' ')"
   ]
  },
  {
   "cell_type": "code",
   "execution_count": null,
   "metadata": {
    "collapsed": false
   },
   "outputs": [],
   "source": [
    "for word in words:\n",
    "    if word.startswith('r'):\n",
    "        print word "
   ]
  },
  {
   "cell_type": "markdown",
   "metadata": {},
   "source": [
    " \n",
    "<br>\n",
    "<br>\n",
    "<br>\n",
    "## Dictionaries\n",
    "For those unfamiliar with Python dictionaries, we can use an actual dictionary as a mental model. In a dictionary you have words, and those words have definitions that are associated with them. You might have multiple definitions, but they are all associated with one word's entry in the dictionary.\n",
    "<br>This maps to the data structure very well: each entry is a key-value pair, where the keys are the words, and the values are the definitions. If there are multiple definitions, you might instead have a list of definitions instead of a single definition for the value, but the idea is the same.\n",
    "<br>So in Python we can create an empty dictionary with a pair of braces (curly brackets):"
   ]
  },
  {
   "cell_type": "code",
   "execution_count": null,
   "metadata": {
    "collapsed": true
   },
   "outputs": [],
   "source": [
    "dict_1 = {}"
   ]
  },
  {
   "cell_type": "markdown",
   "metadata": {},
   "source": [
    "Adding entries to a dictionary is as simple as- "
   ]
  },
  {
   "cell_type": "code",
   "execution_count": null,
   "metadata": {
    "collapsed": false
   },
   "outputs": [],
   "source": [
    "dict_1[\"word-one\"] = \"meaning-one\"\n",
    "dict_1"
   ]
  },
  {
   "cell_type": "code",
   "execution_count": null,
   "metadata": {
    "collapsed": false
   },
   "outputs": [],
   "source": [
    "dict_1[\"word-two\"] = \"meaning-two\"\n",
    "dict_1"
   ]
  },
  {
   "cell_type": "markdown",
   "metadata": {},
   "source": [
    "You can look up dictionary values with- "
   ]
  },
  {
   "cell_type": "code",
   "execution_count": null,
   "metadata": {
    "collapsed": false
   },
   "outputs": [],
   "source": [
    "dict_1[\"word-one\"]"
   ]
  },
  {
   "cell_type": "markdown",
   "metadata": {},
   "source": [
    "### What can be a key?\n",
    "- Values in a dictionary can be anything, however keys have to be immutable.\n",
    "- numbers and strings are commonly used as keys.\n",
    "- tuples and frozensets are used as keys as well.\n",
    "- lists and dictionaries are not allowed as keys, as they are mutable."
   ]
  },
  {
   "cell_type": "markdown",
   "metadata": {},
   "source": [
    "### `get()`\n",
    "values in dictionaries can also be accessed via the `dict.get()` fucntion"
   ]
  },
  {
   "cell_type": "code",
   "execution_count": null,
   "metadata": {
    "collapsed": false
   },
   "outputs": [],
   "source": [
    "dict_1.get('word-one')"
   ]
  },
  {
   "cell_type": "markdown",
   "metadata": {},
   "source": [
    "### `del`\n",
    "the `del` keyword allows for removing items from dictionaries, just like in `lists`. You will have to specify the key of the item you want to delete"
   ]
  },
  {
   "cell_type": "code",
   "execution_count": null,
   "metadata": {
    "collapsed": false
   },
   "outputs": [],
   "source": [
    "dict_1"
   ]
  },
  {
   "cell_type": "code",
   "execution_count": null,
   "metadata": {
    "collapsed": false
   },
   "outputs": [],
   "source": [
    "del dict_1['word-two']\n",
    "dict_1"
   ]
  },
  {
   "cell_type": "markdown",
   "metadata": {},
   "source": [
    "### `in` keyword\n",
    "you can use the `in` keyword to check if a key is present in the dictionary"
   ]
  },
  {
   "cell_type": "code",
   "execution_count": null,
   "metadata": {
    "collapsed": false
   },
   "outputs": [],
   "source": [
    "dict_1"
   ]
  },
  {
   "cell_type": "code",
   "execution_count": null,
   "metadata": {
    "collapsed": false
   },
   "outputs": [],
   "source": [
    "dict_1[\"word-two\"] = \"meaning-two\"\n",
    "dict_1"
   ]
  },
  {
   "cell_type": "code",
   "execution_count": null,
   "metadata": {
    "collapsed": false
   },
   "outputs": [],
   "source": [
    "'word-one' in dict_1"
   ]
  },
  {
   "cell_type": "markdown",
   "metadata": {},
   "source": [
    "### `keys()`\n",
    "this method shows you all the keys present in a dictionary"
   ]
  },
  {
   "cell_type": "code",
   "execution_count": null,
   "metadata": {
    "collapsed": false
   },
   "outputs": [],
   "source": [
    "dict_1.keys()"
   ]
  },
  {
   "cell_type": "markdown",
   "metadata": {},
   "source": [
    "### `values()`\n",
    "this method shows you all the values present in a dictionary"
   ]
  },
  {
   "cell_type": "code",
   "execution_count": null,
   "metadata": {
    "collapsed": false
   },
   "outputs": [],
   "source": [
    "dict_1.values()"
   ]
  },
  {
   "cell_type": "markdown",
   "metadata": {},
   "source": [
    "### `update()`\n",
    "this function allows you to add an existing dictionary to another dictionary"
   ]
  },
  {
   "cell_type": "code",
   "execution_count": null,
   "metadata": {
    "collapsed": false
   },
   "outputs": [],
   "source": [
    "dict_2 = {}\n",
    "dict_2[\"word-three\"] = \"meaning-three\"\n",
    "dict_2[\"word-four\"] = \"meaning-four\"\n",
    "dict_2"
   ]
  },
  {
   "cell_type": "code",
   "execution_count": null,
   "metadata": {
    "collapsed": false
   },
   "outputs": [],
   "source": [
    "dict_1.update(dict_2)\n",
    "dict_1"
   ]
  },
  {
   "cell_type": "markdown",
   "metadata": {},
   "source": [
    "### Exercises\n",
    "Mark keeps a list of the people he knows in several dictionaries \n",
    "based on their relationship to him-\n",
    "\n",
    "friends = {'julius': '100 via apian', 'cleopatra': '000 pyramid parkway'}\n",
    "   \n",
    "romans = dict(brutus='234 via tratorium', cassius='111 aqueduct lane')\n",
    "\n",
    "countrymen = dict([('plebius','786 via bunius'), ('plebia', '786 via bunius')])\n",
    "\n",
    "1. Print names of all friends\n",
    "2. Print all addresses\n",
    "3. Print all as pairs, i.e. name with address\n",
    "4. Unfortunate incident happened. Remove the friend Julius from the list.\n",
    "5. Mark is making a second party, add everyone to single dictionary.\n",
    "6. Mark will be going to Egypt, and might visit Cleopatra. `get` her address.\n",
    "<br>\n",
    "<br>\n",
    "<br>\n",
    "<br>\n",
    "<br>\n",
    "<br>\n",
    "\n",
    "### Solutions\n",
    "\n",
    "1. "
   ]
  },
  {
   "cell_type": "code",
   "execution_count": null,
   "metadata": {
    "collapsed": true
   },
   "outputs": [],
   "source": [
    "friends = {'julius': '100 via apian', 'cleopatra': '000 pyramid parkway'}\n",
    "romans = dict(brutus='234 via tratorium', cassius='111 aqueduct lane')\n",
    "countrymen = dict([('plebius','786 via bunius'), ('plebia', '786 via bunius')])"
   ]
  },
  {
   "cell_type": "code",
   "execution_count": null,
   "metadata": {
    "collapsed": false
   },
   "outputs": [],
   "source": [
    "print \"friend names: \", friends.keys()"
   ]
  },
  {
   "cell_type": "markdown",
   "metadata": {},
   "source": [
    "<br>\n",
    "<br>\n",
    "2."
   ]
  },
  {
   "cell_type": "code",
   "execution_count": null,
   "metadata": {
    "collapsed": false
   },
   "outputs": [],
   "source": [
    "print \"addresses: \", friends.values(), romans.values(), countrymen.values()"
   ]
  },
  {
   "cell_type": "markdown",
   "metadata": {},
   "source": [
    "<br>\n",
    "<br>\n",
    "3. "
   ]
  },
  {
   "cell_type": "code",
   "execution_count": null,
   "metadata": {
    "collapsed": false
   },
   "outputs": [],
   "source": [
    "print \"friend (name,address): \", friends.items()"
   ]
  },
  {
   "cell_type": "markdown",
   "metadata": {},
   "source": [
    "<br>\n",
    "<br>\n",
    "4. "
   ]
  },
  {
   "cell_type": "code",
   "execution_count": null,
   "metadata": {
    "collapsed": false
   },
   "outputs": [],
   "source": [
    "del friends[\"julius\"]\n",
    "friends"
   ]
  },
  {
   "cell_type": "markdown",
   "metadata": {},
   "source": [
    "<br>\n",
    "<br>\n",
    "5. "
   ]
  },
  {
   "cell_type": "code",
   "execution_count": null,
   "metadata": {
    "collapsed": false
   },
   "outputs": [],
   "source": [
    "mail_dict = {}\n",
    "mail_dict.update(friends)\n",
    "mail_dict.update(romans)\n",
    "mail_dict.update(countrymen)\n",
    "mail_dict"
   ]
  },
  {
   "cell_type": "markdown",
   "metadata": {},
   "source": [
    "<br>\n",
    "<br>\n",
    "6."
   ]
  },
  {
   "cell_type": "code",
   "execution_count": null,
   "metadata": {
    "collapsed": false
   },
   "outputs": [],
   "source": [
    "mail_dict.get(\"cleopatra\")"
   ]
  },
  {
   "cell_type": "markdown",
   "metadata": {},
   "source": [
    "<br>\n",
    "<br>\n",
    "<br>\n",
    "## Sets\n",
    "Sets are similar to lists in that they are a collection of items as well. However, `sets` are unordered. \n",
    "<br>For our example `list_1 = [1, 2, 3, 4, 2]`, if we were to declare this as a `set`, then everything would be fine till we reach `4`, after that it encounters a `2`, which it already has. This repeated value will not be stored in the `set`. \n",
    "<br>\n",
    "#### You cannot have duplicates in a `set`\n",
    "Therefore `sets` enforce uniqueness in the values stored. \n",
    "#### Another difference that sets (pun intended) them apart from lists is that they are immutable. \n",
    "Therefore you cannot store `lists` and `dictionaries` in the `set`\n",
    "<br>\n",
    "### Construction\n",
    "`sets` can be constructed with the `set()` function"
   ]
  },
  {
   "cell_type": "code",
   "execution_count": null,
   "metadata": {
    "collapsed": false
   },
   "outputs": [],
   "source": [
    "set_1 = set()\n",
    "set_1"
   ]
  },
  {
   "cell_type": "markdown",
   "metadata": {},
   "source": [
    "Lets try using a list, and cast that to a `set`"
   ]
  },
  {
   "cell_type": "code",
   "execution_count": null,
   "metadata": {
    "collapsed": false
   },
   "outputs": [],
   "source": [
    "list_1 = [1, 2, 3, 4, 2]\n",
    "list_1"
   ]
  },
  {
   "cell_type": "code",
   "execution_count": null,
   "metadata": {
    "collapsed": false
   },
   "outputs": [],
   "source": [
    "set_1 = set(list_1)\n",
    "set_1"
   ]
  },
  {
   "cell_type": "markdown",
   "metadata": {},
   "source": [
    "- You will notice from the above that the duplicate value was removed\n",
    "- Curly braces represent sets, however they cannot be used to declare an empty set such as- `set_1 = {}`.\n",
    "- Curly braces can be used to declare a set with some values such as- `set_1 = {1, 2, 3, 4, 2}`.\n"
   ]
  },
  {
   "cell_type": "code",
   "execution_count": null,
   "metadata": {
    "collapsed": false
   },
   "outputs": [],
   "source": [
    "set_1 = {}\n",
    "print set_1\n",
    "type(set_1)"
   ]
  },
  {
   "cell_type": "code",
   "execution_count": null,
   "metadata": {
    "collapsed": false
   },
   "outputs": [],
   "source": [
    "set_1 = {1, 2, 3, 4, 2}\n",
    "type(set_1)"
   ]
  },
  {
   "cell_type": "markdown",
   "metadata": {},
   "source": [
    "- Dictionaries have been around way before `sets` and have always used `{}` to declare a new `dict`.\n",
    "- Always use the function `set()` to declare a new set, or cast/convert an existing `list` to `set`\n",
    "<br>\n",
    "### Examples\n",
    "Removing duplicates from a list of email addresses"
   ]
  },
  {
   "cell_type": "code",
   "execution_count": null,
   "metadata": {
    "collapsed": true
   },
   "outputs": [],
   "source": [
    "email_list = ['capn@avengers.com', 'thor@avengers.com', 'capn@avengers.com',\n",
    "              'super_m@league.com', 'b_widow@avengers.com',\n",
    "              'b_man@league.com', 'b_widow@avengers.com']"
   ]
  },
  {
   "cell_type": "markdown",
   "metadata": {},
   "source": [
    "In the above list the email addresses `capn@avengers.com` and `b_widow@avengers` have been repeated. You can use `set()` to get rid of duplicates"
   ]
  },
  {
   "cell_type": "code",
   "execution_count": null,
   "metadata": {
    "collapsed": false
   },
   "outputs": [],
   "source": [
    "emails = set(email_list)\n",
    "emails"
   ]
  },
  {
   "cell_type": "markdown",
   "metadata": {},
   "source": [
    "<br>\n",
    "### Set Operations"
   ]
  },
  {
   "cell_type": "code",
   "execution_count": null,
   "metadata": {
    "collapsed": true
   },
   "outputs": [],
   "source": [
    "set_1 = {1, 2 ,3, 4}\n",
    "set_2 = {3, 4, 5, 6}"
   ]
  },
  {
   "cell_type": "markdown",
   "metadata": {},
   "source": [
    "##### Sets are like their mathematical counterparts\n",
    "You should be able to perform similar functions as the math operations performed on sets\n",
    "\n",
    "### `union()` \n",
    "- creates a single set with unique values from `set_1` and `set_2`, while removing duplicates"
   ]
  },
  {
   "cell_type": "code",
   "execution_count": null,
   "metadata": {
    "collapsed": false
   },
   "outputs": [],
   "source": [
    "set_3 = set_1.union(set_2)\n",
    "set_3"
   ]
  },
  {
   "cell_type": "markdown",
   "metadata": {},
   "source": [
    "`set` operations are similar to binary operations, and you should be able to use the operators such as - `|`"
   ]
  },
  {
   "cell_type": "code",
   "execution_count": null,
   "metadata": {
    "collapsed": false
   },
   "outputs": [],
   "source": [
    "set_3 = set_1 | set_2\n",
    "set_3"
   ]
  },
  {
   "cell_type": "markdown",
   "metadata": {},
   "source": [
    "### `intersection()`\n",
    "- creates a `set` containing the intersection of two sets. Alternatively, it creates a `set` with values found in both sets"
   ]
  },
  {
   "cell_type": "code",
   "execution_count": null,
   "metadata": {
    "collapsed": true
   },
   "outputs": [],
   "source": [
    "set_1 = {1, 2 ,3, 4}\n",
    "set_2 = {3, 4, 5, 6}"
   ]
  },
  {
   "cell_type": "code",
   "execution_count": null,
   "metadata": {
    "collapsed": false
   },
   "outputs": [],
   "source": [
    "set_3 = set_1.intersection(set_2)\n",
    "set_3"
   ]
  },
  {
   "cell_type": "markdown",
   "metadata": {},
   "source": [
    "You can also use the binary operator `&` "
   ]
  },
  {
   "cell_type": "code",
   "execution_count": null,
   "metadata": {
    "collapsed": false
   },
   "outputs": [],
   "source": [
    "set_3 = set_1 & set_2\n",
    "set_3"
   ]
  },
  {
   "cell_type": "markdown",
   "metadata": {},
   "source": [
    "### `difference()`\n",
    "This function gives all the elements which are present in `set_1` and not in `set_2`"
   ]
  },
  {
   "cell_type": "code",
   "execution_count": null,
   "metadata": {
    "collapsed": true
   },
   "outputs": [],
   "source": [
    "set_1 = {1, 2 ,3, 4}\n",
    "set_2 = {3, 4, 5, 6}"
   ]
  },
  {
   "cell_type": "code",
   "execution_count": null,
   "metadata": {
    "collapsed": false
   },
   "outputs": [],
   "source": [
    "set_3 = set_1.difference(set_2)\n",
    "set_3"
   ]
  },
  {
   "cell_type": "markdown",
   "metadata": {},
   "source": [
    "you can also use the `-` (minus) operator"
   ]
  },
  {
   "cell_type": "code",
   "execution_count": null,
   "metadata": {
    "collapsed": false
   },
   "outputs": [],
   "source": [
    "set_3 = set_1 - set_2\n",
    "set_3"
   ]
  },
  {
   "cell_type": "markdown",
   "metadata": {},
   "source": [
    "*However, `set_3 = set_1 - set_2` is not the same as `set_3 = set_2 - set_1`*"
   ]
  },
  {
   "cell_type": "markdown",
   "metadata": {},
   "source": [
    "###  `symmetric_difference()`\n",
    "This function provides all the elements present in set_1 and set_2 which are not also present in both- "
   ]
  },
  {
   "cell_type": "code",
   "execution_count": null,
   "metadata": {
    "collapsed": true
   },
   "outputs": [],
   "source": [
    "set_1 = {1, 2 ,3, 4}\n",
    "set_2 = {3, 4, 5, 6}"
   ]
  },
  {
   "cell_type": "code",
   "execution_count": null,
   "metadata": {
    "collapsed": false
   },
   "outputs": [],
   "source": [
    "set_3 = set_1.symmetric_difference(set_2)\n",
    "set_3"
   ]
  },
  {
   "cell_type": "code",
   "execution_count": null,
   "metadata": {
    "collapsed": false
   },
   "outputs": [],
   "source": [
    "set_3.symmetric_difference_update({6,1})\n",
    "set_3"
   ]
  },
  {
   "cell_type": "markdown",
   "metadata": {},
   "source": [
    "You can also use `^` to run a `symmetric_difference`"
   ]
  },
  {
   "cell_type": "code",
   "execution_count": null,
   "metadata": {
    "collapsed": false
   },
   "outputs": [],
   "source": [
    "set_3 = set_1 ^ set_2\n",
    "set_3"
   ]
  },
  {
   "cell_type": "markdown",
   "metadata": {},
   "source": [
    "### `issubset()`\n",
    "You can use this function to check if a set of values is contained with another set"
   ]
  },
  {
   "cell_type": "code",
   "execution_count": null,
   "metadata": {
    "collapsed": true
   },
   "outputs": [],
   "source": [
    "set_1 = {1, 2 ,3, 4}\n",
    "set_2 = {3, 4}"
   ]
  },
  {
   "cell_type": "code",
   "execution_count": null,
   "metadata": {
    "collapsed": false
   },
   "outputs": [],
   "source": [
    "set_2.issubset(set_1)"
   ]
  },
  {
   "cell_type": "code",
   "execution_count": null,
   "metadata": {
    "collapsed": false
   },
   "outputs": [],
   "source": [
    "set_1.issubset(set_2)"
   ]
  },
  {
   "cell_type": "markdown",
   "metadata": {},
   "source": [
    "Alternatively you can also use `<=` "
   ]
  },
  {
   "cell_type": "code",
   "execution_count": null,
   "metadata": {
    "collapsed": false
   },
   "outputs": [],
   "source": [
    "set_2 <= set_1"
   ]
  },
  {
   "cell_type": "code",
   "execution_count": null,
   "metadata": {
    "collapsed": false
   },
   "outputs": [],
   "source": [
    "set_1 <= set_2"
   ]
  },
  {
   "cell_type": "markdown",
   "metadata": {},
   "source": [
    "### `issuperset()`\n",
    "This function tests the opposite condition of `issubset()`"
   ]
  },
  {
   "cell_type": "code",
   "execution_count": null,
   "metadata": {
    "collapsed": true
   },
   "outputs": [],
   "source": [
    "set_1 = {1, 2 ,3, 4}\n",
    "set_2 = {3, 4}"
   ]
  },
  {
   "cell_type": "code",
   "execution_count": null,
   "metadata": {
    "collapsed": false
   },
   "outputs": [],
   "source": [
    "set_1.issuperset(set_2)"
   ]
  },
  {
   "cell_type": "code",
   "execution_count": null,
   "metadata": {
    "collapsed": false
   },
   "outputs": [],
   "source": [
    "set_2.issuperset(set_1)"
   ]
  },
  {
   "cell_type": "markdown",
   "metadata": {},
   "source": [
    "Alternatively you can use `>=`"
   ]
  },
  {
   "cell_type": "code",
   "execution_count": null,
   "metadata": {
    "collapsed": false
   },
   "outputs": [],
   "source": [
    "set_1 >= set_2"
   ]
  },
  {
   "cell_type": "code",
   "execution_count": null,
   "metadata": {
    "collapsed": false
   },
   "outputs": [],
   "source": [
    "set_2 >= set_1"
   ]
  },
  {
   "cell_type": "markdown",
   "metadata": {},
   "source": [
    "### `isdisjoint()`\n",
    "This functions tests if the two sets being compared do not have any values in common"
   ]
  },
  {
   "cell_type": "code",
   "execution_count": null,
   "metadata": {
    "collapsed": true
   },
   "outputs": [],
   "source": [
    "set_1 = {1, 2, 3, 4}\n",
    "set_2 = {5, 6, 7, 8}\n",
    "set_3 = {3, 4, 5, 6}"
   ]
  },
  {
   "cell_type": "code",
   "execution_count": null,
   "metadata": {
    "collapsed": false
   },
   "outputs": [],
   "source": [
    "set_1.isdisjoint(set_2)"
   ]
  },
  {
   "cell_type": "code",
   "execution_count": null,
   "metadata": {
    "collapsed": false
   },
   "outputs": [],
   "source": [
    "set_1.isdisjoint(set_3)"
   ]
  },
  {
   "cell_type": "markdown",
   "metadata": {},
   "source": [
    "### `add()`\n",
    "In lists you used the functions `append()` and `extend()` to add elements but because `sets` are unordered the function name is different-"
   ]
  },
  {
   "cell_type": "code",
   "execution_count": null,
   "metadata": {
    "collapsed": false
   },
   "outputs": [],
   "source": [
    "set_1 = {1, 2, 3, 4}\n",
    "set_1"
   ]
  },
  {
   "cell_type": "code",
   "execution_count": null,
   "metadata": {
    "collapsed": false
   },
   "outputs": [],
   "source": [
    "set_1.add(5)\n",
    "set_1"
   ]
  },
  {
   "cell_type": "markdown",
   "metadata": {},
   "source": [
    "Try adding a value that is already present in the set"
   ]
  },
  {
   "cell_type": "code",
   "execution_count": null,
   "metadata": {
    "collapsed": false
   },
   "outputs": [],
   "source": [
    "set_1.add(5)\n",
    "set_1"
   ]
  },
  {
   "cell_type": "markdown",
   "metadata": {},
   "source": [
    "### `update()`\n",
    "This function can be used to add a collection of values to an existing set"
   ]
  },
  {
   "cell_type": "code",
   "execution_count": null,
   "metadata": {
    "collapsed": false
   },
   "outputs": [],
   "source": [
    "list_1 = [5, 6, 7]\n",
    "list_1"
   ]
  },
  {
   "cell_type": "code",
   "execution_count": null,
   "metadata": {
    "collapsed": false
   },
   "outputs": [],
   "source": [
    "set_1"
   ]
  },
  {
   "cell_type": "code",
   "execution_count": null,
   "metadata": {
    "collapsed": false
   },
   "outputs": [],
   "source": [
    "set_1.update(list_1)\n",
    "set_1"
   ]
  },
  {
   "cell_type": "markdown",
   "metadata": {},
   "source": [
    "### Removing elements from a set\n",
    "There are three ways to remove elements from a set<br>\n",
    "### `remove()`\n",
    "this function works similar to how the `list.remove()` function works \n"
   ]
  },
  {
   "cell_type": "code",
   "execution_count": null,
   "metadata": {
    "collapsed": false
   },
   "outputs": [],
   "source": [
    "set_1"
   ]
  },
  {
   "cell_type": "code",
   "execution_count": null,
   "metadata": {
    "collapsed": false
   },
   "outputs": [],
   "source": [
    "set_1.remove(7)\n",
    "set_1"
   ]
  },
  {
   "cell_type": "markdown",
   "metadata": {},
   "source": [
    "However if you try to remove an element that is not present in the set- "
   ]
  },
  {
   "cell_type": "code",
   "execution_count": null,
   "metadata": {
    "collapsed": false
   },
   "outputs": [],
   "source": [
    "set_1.remove(7)"
   ]
  },
  {
   "cell_type": "markdown",
   "metadata": {},
   "source": [
    "### `discard()`\n",
    "this function will remove an element from the set, however if the element does not exist, it will not throw a `KeyError`"
   ]
  },
  {
   "cell_type": "code",
   "execution_count": null,
   "metadata": {
    "collapsed": false
   },
   "outputs": [],
   "source": [
    "set_1.discard(6)\n",
    "set_1"
   ]
  },
  {
   "cell_type": "code",
   "execution_count": null,
   "metadata": {
    "collapsed": false
   },
   "outputs": [],
   "source": [
    "set_1.discard(6)\n",
    "set_1"
   ]
  },
  {
   "cell_type": "markdown",
   "metadata": {},
   "source": [
    "### Frozen sets\n",
    "If someone asks you to create a dictionary with the distance between pairs of cities, you would use a `dict`.\n",
    "A `dict` is comprised of a `key`:`value` pair. For the `key` you could use `sets`"
   ]
  },
  {
   "cell_type": "code",
   "execution_count": null,
   "metadata": {
    "collapsed": true
   },
   "outputs": [],
   "source": [
    "distance = {}"
   ]
  },
  {
   "cell_type": "code",
   "execution_count": null,
   "metadata": {
    "collapsed": false
   },
   "outputs": [],
   "source": [
    "c_pair = {'LAX','NYC'}\n",
    "distance[c_pair] = 2498"
   ]
  },
  {
   "cell_type": "markdown",
   "metadata": {},
   "source": [
    "#### Only immutable data-types can be used as a `key`. \n",
    "You can use a special `set` called `frozenset`"
   ]
  },
  {
   "cell_type": "code",
   "execution_count": null,
   "metadata": {
    "collapsed": true
   },
   "outputs": [],
   "source": [
    "c_pair = frozenset(['LAX','NYC'])\n",
    "distance[c_pair] = 2498"
   ]
  },
  {
   "cell_type": "code",
   "execution_count": null,
   "metadata": {
    "collapsed": true
   },
   "outputs": [],
   "source": [
    "distance[frozenset(['ORD','NYC'])] = 733\n",
    "distance[frozenset(['ORD','LAX'])] = 1746"
   ]
  },
  {
   "cell_type": "markdown",
   "metadata": {},
   "source": [
    "Now to check the distance between ORD and NYC"
   ]
  },
  {
   "cell_type": "code",
   "execution_count": null,
   "metadata": {
    "collapsed": false
   },
   "outputs": [],
   "source": [
    "distance[frozenset(['ORD','NYC'])]"
   ]
  },
  {
   "cell_type": "code",
   "execution_count": null,
   "metadata": {
    "collapsed": false
   },
   "outputs": [],
   "source": [
    "distance[frozenset(['NYC','ORD'])]"
   ]
  },
  {
   "cell_type": "markdown",
   "metadata": {},
   "source": [
    "Like mentioned before, in sets the ordering does not matter which is why even though we stored the distance for ORD to NYC, we can query the dictionary for NYC to ORD"
   ]
  },
  {
   "cell_type": "markdown",
   "metadata": {},
   "source": [
    "### Exercises\n",
    "\n",
    "An Airline flies between the following cities (with distances):\n",
    "\n",
    "<pre>\n",
    "    Atlanta-Chicago:                    590.0\n",
    "    Atlanta-Dallas:                     720.0\n",
    "    Atlanta-Houston:                    700.0\n",
    "    Atlanta-New York:                   750.0\n",
    "    Austin-Dallas:                      180.0\n",
    "    Austin-Houston:                     150.0\n",
    "    Boston-Chicago:                     850.0\n",
    "    Boston-Miami:                      1260.0\n",
    "    Boston-New York:                    190.0\n",
    "    Chicago-Denver:                     920.0\n",
    "    Chicago-Houston:                    940.0\n",
    "    Chicago-Los Angeles:               1740.0\n",
    "    Chicago-New York:                   710.0\n",
    "    Chicago-Seattle:                   1730.0\n",
    "    Dallas-Denver:                      660.0\n",
    "    Dallas-Los Angeles:                1240.0\n",
    "    Dallas-New York:                   1370.0\n",
    "    Denver-Los Angeles:                 830.0\n",
    "    Denver-New York:                   1630.0\n",
    "    Denver-Seattle:                    1020.0\n",
    "    Houston-Los Angeles:               1370.0\n",
    "    Houston-Miami:                      970.0\n",
    "    Houston-San Francisco:             1640.0\n",
    "    Los Angeles-New York:              2450.0\n",
    "    Los Angeles-San Francisco:          350.0\n",
    "    Los Angeles-Seattle:                960.0\n",
    "    Miami-New York:                    1090.0\n",
    "    New York-San Francisco:            2570.0\n",
    "    San Francisco-Seattle:              680.0\n",
    "</pre>\n",
    "\n",
    "We can represent this data in a dictionary mapping the pair of cities to the distance between them. Because the distance between cities isn't directional information, a set of the cities (without any order) seems like the right way to store the keys (pairs of cities). \n",
    "\n",
    "#### 1.  \n",
    "Do you remember why a regular set cannot be a key in a dictionary? We will therefore use frozen sets instead. Build a frozen set with Atlanta and Chicago and another one with Atlanta and Dallas. Make a dictionary called `flight_distances` mapping these sets to their distances (590 and 720 respectively).\n",
    "#### 2. \n",
    "The full dictionary `flight_distances`. Use it to print the distance from Seattle to Chicago."
   ]
  },
  {
   "cell_type": "code",
   "execution_count": null,
   "metadata": {
    "collapsed": true
   },
   "outputs": [],
   "source": [
    "flight_distances = {\n",
    "    frozenset(['Atlanta', 'Chicago']): 590.0,\n",
    "    frozenset(['Atlanta', 'Dallas']): 720.0,\n",
    "    frozenset(['Atlanta', 'Houston']): 700.0,\n",
    "    frozenset(['Atlanta', 'New York']): 750.0,\n",
    "    frozenset(['Austin', 'Dallas']): 180.0,\n",
    "    frozenset(['Austin', 'Houston']): 150.0,\n",
    "    frozenset(['Boston', 'Chicago']): 850.0,\n",
    "    frozenset(['Boston', 'Miami']): 1260.0,\n",
    "    frozenset(['Boston', 'New York']): 190.0,\n",
    "    frozenset(['Chicago', 'Denver']): 920.0,\n",
    "    frozenset(['Chicago', 'Houston']): 940.0,\n",
    "    frozenset(['Chicago', 'Los Angeles']): 1740.0,\n",
    "    frozenset(['Chicago', 'New York']): 710.0,\n",
    "    frozenset(['Chicago', 'Seattle']): 1730.0,\n",
    "    frozenset(['Dallas', 'Denver']): 660.0,\n",
    "    frozenset(['Dallas', 'Los Angeles']): 1240.0,\n",
    "    frozenset(['Dallas', 'New York']): 1370.0,\n",
    "    frozenset(['Denver', 'Los Angeles']): 830.0,\n",
    "    frozenset(['Denver', 'New York']): 1630.0,\n",
    "    frozenset(['Denver', 'Seattle']): 1020.0,\n",
    "    frozenset(['Houston', 'Los Angeles']): 1370.0,\n",
    "    frozenset(['Houston', 'Miami']): 970.0,\n",
    "    frozenset(['Houston', 'San Francisco']): 1640.0,\n",
    "    frozenset(['Los Angeles', 'New York']): 2450.0,\n",
    "    frozenset(['Los Angeles', 'San Francisco']): 350.0,\n",
    "    frozenset(['Los Angeles', 'Seattle']): 960.0,\n",
    "    frozenset(['Miami', 'New York']): 1090.0,\n",
    "    frozenset(['New York', 'San Francisco']): 2570.0,\n",
    "    frozenset(['San Francisco', 'Seattle']): 680.0,\n",
    "}"
   ]
  },
  {
   "cell_type": "markdown",
   "metadata": {},
   "source": [
    "#### 3. \n",
    "Compute the total distance flying from Austin to Houston to San Francisco and compare it to the distance if you fly Austin to Dallas to Los Angeles to San Francisco.\n",
    "#### 4. \n",
    "Add a direct flight between Austin and San Francisco, which is 1500 miles. Update the flight distances data structure to reflect this.\n",
    "#### 5.\n",
    "Service from Boston to Miami has been cancelled. Remove it from the flight distances."
   ]
  },
  {
   "cell_type": "markdown",
   "metadata": {},
   "source": [
    "<br>\n",
    "<br>\n",
    "<br>\n",
    "<br>\n",
    "<br>\n",
    "<br>\n",
    "### Solution\n",
    "1."
   ]
  },
  {
   "cell_type": "code",
   "execution_count": null,
   "metadata": {
    "collapsed": false
   },
   "outputs": [],
   "source": [
    "flight_distances={}\n",
    "flight_distances[frozenset(['Atlanta','Chicago'])] = 590.0\n",
    "flight_distances[frozenset(['Atlanta','Dallas'])] = 720.0\n",
    "flight_distances"
   ]
  },
  {
   "cell_type": "markdown",
   "metadata": {},
   "source": [
    "<br>\n",
    "<br>\n",
    "2."
   ]
  },
  {
   "cell_type": "code",
   "execution_count": null,
   "metadata": {
    "collapsed": false
   },
   "outputs": [],
   "source": [
    "flight_distances[frozenset(['Seattle','Chicago'])]"
   ]
  },
  {
   "cell_type": "markdown",
   "metadata": {},
   "source": [
    "<br>\n",
    "<br>\n",
    "3."
   ]
  },
  {
   "cell_type": "code",
   "execution_count": null,
   "metadata": {
    "collapsed": true
   },
   "outputs": [],
   "source": [
    "route_1 = flight_distances[frozenset(['Austin','Houston'])] + flight_distances[frozenset(['Houston','San Francisco'])]"
   ]
  },
  {
   "cell_type": "code",
   "execution_count": null,
   "metadata": {
    "collapsed": true
   },
   "outputs": [],
   "source": [
    "route_2 = flight_distances[frozenset(['Austin','Dallas'])] + flight_distances[frozenset(['Dallas','Los Angeles'])] + flight_distances[frozenset(['Los Angeles','San Francisco'])]"
   ]
  },
  {
   "cell_type": "code",
   "execution_count": null,
   "metadata": {
    "collapsed": false
   },
   "outputs": [],
   "source": [
    "print route_1, route_2"
   ]
  },
  {
   "cell_type": "markdown",
   "metadata": {},
   "source": [
    "<br>\n",
    "<br>\n",
    "4.\n"
   ]
  },
  {
   "cell_type": "code",
   "execution_count": null,
   "metadata": {
    "collapsed": false
   },
   "outputs": [],
   "source": [
    "flight_distances[frozenset(['Austin','San Francisco'])] = 1500.00\n",
    "flight_distances[frozenset(['Austin','San Francisco'])]"
   ]
  },
  {
   "cell_type": "markdown",
   "metadata": {},
   "source": [
    "<br>\n",
    "<br>\n",
    "5.\n"
   ]
  },
  {
   "cell_type": "code",
   "execution_count": null,
   "metadata": {
    "collapsed": false
   },
   "outputs": [],
   "source": [
    "del flight_distances[frozenset(['Boston','Miami'])]\n",
    "flight_distances[frozenset(['Boston','Miami'])]"
   ]
  },
  {
   "cell_type": "markdown",
   "metadata": {},
   "source": [
    "<br> \n",
    "<br> \n",
    "## List Comprehensions\n",
    "The easiest way to build a new list by transforming the elements of an existing list is to use a `for` loop"
   ]
  },
  {
   "cell_type": "code",
   "execution_count": null,
   "metadata": {
    "collapsed": true
   },
   "outputs": [],
   "source": [
    "list_1 = [5, 3, 4, 1, 2]"
   ]
  },
  {
   "cell_type": "code",
   "execution_count": null,
   "metadata": {
    "collapsed": false
   },
   "outputs": [],
   "source": [
    "cubes = []\n",
    "for value in list_1:\n",
    "    cubes.append(value**3)\n",
    "cubes"
   ]
  },
  {
   "cell_type": "markdown",
   "metadata": {},
   "source": [
    "This is an acceptable solution, but we could make it more concise, and elegant-"
   ]
  },
  {
   "cell_type": "code",
   "execution_count": null,
   "metadata": {
    "collapsed": false
   },
   "outputs": [],
   "source": [
    "cubes = [value**3 for value in list_1]\n",
    "cubes"
   ]
  },
  {
   "cell_type": "markdown",
   "metadata": {},
   "source": [
    "Now if we had to perform this operation only certain values of the original list-"
   ]
  },
  {
   "cell_type": "code",
   "execution_count": null,
   "metadata": {
    "collapsed": false
   },
   "outputs": [],
   "source": [
    "list_1 = [5, 3, 4, 1, 2]\n",
    "filtered_cubes=[]\n",
    "for value in list_1:\n",
    "    if value < 4:\n",
    "        filtered_cubes.append(value**3)\n",
    "filtered_cubes"
   ]
  },
  {
   "cell_type": "markdown",
   "metadata": {},
   "source": [
    "With list comprehensions we can handle all this code more elegantly-"
   ]
  },
  {
   "cell_type": "code",
   "execution_count": null,
   "metadata": {
    "collapsed": false
   },
   "outputs": [],
   "source": [
    "list_1 = [5, 3, 4, 1, 2]\n",
    "filtered_cubes = [value**3 for value in list_1 if value < 4]\n",
    "filtered_cubes"
   ]
  },
  {
   "cell_type": "markdown",
   "metadata": {},
   "source": [
    "You can run the same set of operations for `sets` and `dictionaries`"
   ]
  },
  {
   "cell_type": "code",
   "execution_count": null,
   "metadata": {
    "collapsed": false
   },
   "outputs": [],
   "source": [
    "filtered_cubes_set = {value**3 for value in list_1 if value < 4}\n",
    "filtered_cubes_set"
   ]
  },
  {
   "cell_type": "code",
   "execution_count": null,
   "metadata": {
    "collapsed": false
   },
   "outputs": [],
   "source": [
    "filtered_cubes_dict = {value: value**3 for value in list_1 if value < 4}\n",
    "filtered_cubes_dict"
   ]
  },
  {
   "cell_type": "markdown",
   "metadata": {},
   "source": [
    "### Exercises!\n",
    "1. From the last question of the previous exercise set. Use the same string (lyrics). Print all words beginning with `r`, but only use list comprehension this time.\n",
    "   *Hint: You can use the function `startswith` on a string to get words that begin with a certain character*\n",
    "2. There are a bunch of repetitions. Lets get rid of them by using a compound data-structure that will enforce uniqueness. After using this data-structure, print out the unique set of words.\n",
    "3. Rather than build a list and then use another data-structure to enforce uniqueness, try using the data-structure, that enforces uniqueness, in your list comprehension statement.\n",
    "4. Use a dictionary to print all unique words that start with `r` and print their frequencies as well\n",
    "<br>\n",
    "<br>\n",
    "<br>\n",
    "<br>\n",
    "<br>\n",
    "<br>\n",
    "\n",
    "### Solutions\n",
    "1."
   ]
  }
 ],
 "metadata": {
  "kernelspec": {
   "display_name": "Python 2",
   "language": "python",
   "name": "python2"
  },
  "language_info": {
   "codemirror_mode": {
    "name": "ipython",
    "version": 2
   },
   "file_extension": ".py",
   "mimetype": "text/x-python",
   "name": "python",
   "nbconvert_exporter": "python",
   "pygments_lexer": "ipython2",
   "version": "2.7.11"
  }
 },
 "nbformat": 4,
 "nbformat_minor": 0
}
