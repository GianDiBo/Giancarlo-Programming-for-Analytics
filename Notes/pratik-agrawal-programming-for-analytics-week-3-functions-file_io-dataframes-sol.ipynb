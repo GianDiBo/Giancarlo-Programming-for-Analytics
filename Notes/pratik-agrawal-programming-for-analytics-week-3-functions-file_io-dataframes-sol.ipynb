{
 "cells": [
  {
   "cell_type": "markdown",
   "metadata": {},
   "source": [
    "# Programming For Analytics\n",
    "##### © Pratik Agrawal, 2016\n",
    "\n",
    "## Functions, File I/O, Data Frames\n",
    "- Functions\n",
    " - Structure\n",
    " - Docstring (Document String or Help Text)\n",
    " - Arguments\n",
    " - Exercises!\n",
    "- File I/O\n",
    " - `glob()`\n",
    " - Reading Files\n",
    "   - `open()`/`file()`\n",
    "   - `read()`\n",
    "   - `readline()`/`readlines()`\n",
    "   - `seek()`\n",
    "   - `close()`\n",
    " - Writing Files\n",
    "   - `write()`\n",
    "   - `writelines()`\n",
    " - Closing Files\n",
    "   - `try`/`finally()`\n",
    "   - `with`\n",
    " - Exercises!\n",
    "- DataFrames! \n",
    " - `pandas`\n",
    "   - `read_csv()`\n",
    "   - `head()`\n",
    "   - `tail()`\n",
    "   - `describe()`\n",
    "   - Reading specific columns\n",
    "   - Creating new columns\n",
    "   - `unique()`\n",
    "   - `nunique()`\n",
    "   - `value_counts()`\n",
    " - Exercises!\n",
    " \n",
    " \n",
    "## Functions\n",
    "### 1. Structure\n",
    "A function in Python is defined using the keyword `def`, followed by a function name, a signature within parentheses `()`, and a colon `:`."
   ]
  },
  {
   "cell_type": "code",
   "execution_count": null,
   "metadata": {
    "collapsed": true
   },
   "outputs": [],
   "source": [
    "def func_0(arg_0, arg_1):\n",
    "    \"\"\"func_0 check for equivalence of the two arguments\n",
    "       arguments-\n",
    "       arg_0: first value to compare\n",
    "       arg_1: second value to compare\n",
    "       return-\n",
    "       boolean: True or False based on comparison\n",
    "    \"\"\"\n",
    "    return (arg_0==arg_1)"
   ]
  },
  {
   "cell_type": "code",
   "execution_count": null,
   "metadata": {
    "collapsed": false
   },
   "outputs": [],
   "source": [
    "func_0(\"a\",\"a\")"
   ]
  },
  {
   "cell_type": "markdown",
   "metadata": {},
   "source": [
    "### 2. Docstring \n",
    "A document string helps identify what the function does, and also allows a user of the function to invoke the help function on the function."
   ]
  },
  {
   "cell_type": "code",
   "execution_count": null,
   "metadata": {
    "collapsed": true
   },
   "outputs": [],
   "source": [
    "def func_0(arg_0, arg_1):\n",
    "    \"\"\"func_0 check for equivalence of the two arguments\n",
    "       arguments-\n",
    "       arg_0: first value to compare\n",
    "       arg_1: second value to compare\n",
    "       return-\n",
    "       boolean: True or False based on comparison\n",
    "    \"\"\"\n",
    "    return (arg_0==arg_1)"
   ]
  },
  {
   "cell_type": "code",
   "execution_count": null,
   "metadata": {
    "collapsed": false
   },
   "outputs": [],
   "source": [
    "help(func_0)"
   ]
  },
  {
   "cell_type": "markdown",
   "metadata": {},
   "source": [
    "### 3. Arguments\n",
    "We can pass anywhere from 0 to limitless number of variables to a function, so as to allow the function to perform some operation using them.\n",
    "Note: If your function does not utilize an argument, then consider removing it from the arguments in the function definition.\n",
    "\n",
    "- With one argument"
   ]
  },
  {
   "cell_type": "code",
   "execution_count": null,
   "metadata": {
    "collapsed": true
   },
   "outputs": [],
   "source": [
    "def func_0(arg_0):\n",
    "    \"\"\"func_0 prints the argument passed within\n",
    "       arguments-\n",
    "       arg_0: value to be printed\n",
    "       return-\n",
    "       None\n",
    "    \"\"\"\n",
    "    print arg_0"
   ]
  },
  {
   "cell_type": "markdown",
   "metadata": {},
   "source": [
    "- With multiple arguments"
   ]
  },
  {
   "cell_type": "code",
   "execution_count": null,
   "metadata": {
    "collapsed": true
   },
   "outputs": [],
   "source": [
    "def sum_all_values(*args):\n",
    "    \"\"\"Sum all values passed to the function\n",
    "       arguments-\n",
    "       args: comma separated values that need to be passed in to the function\n",
    "       return-\n",
    "       Sum of all values passed in to function\n",
    "    \"\"\"\n",
    "    return sum(args)"
   ]
  },
  {
   "cell_type": "code",
   "execution_count": null,
   "metadata": {
    "collapsed": false
   },
   "outputs": [],
   "source": [
    "sum_all_values(1)"
   ]
  },
  {
   "cell_type": "code",
   "execution_count": null,
   "metadata": {
    "collapsed": false
   },
   "outputs": [],
   "source": [
    "sum_all_values(1,2,3)"
   ]
  },
  {
   "cell_type": "markdown",
   "metadata": {},
   "source": [
    "- With compound data types such as dictionaries"
   ]
  },
  {
   "cell_type": "code",
   "execution_count": null,
   "metadata": {
    "collapsed": true
   },
   "outputs": [],
   "source": [
    "def instantiate_model(params):\n",
    "    \"\"\"Function to train a model\n",
    "       arguments-\n",
    "       params: dictionary of parameters required to instantiate model\n",
    "       return-\n",
    "       instantiated model object\n",
    "    \"\"\"\n",
    "    lr = LogisticRegression(alpha=params[\"alpha\"], tol=params[\"tol\"])\n",
    "    return lr"
   ]
  },
  {
   "cell_type": "markdown",
   "metadata": {},
   "source": [
    "### 4. Exercises\n",
    "The shortest distance between two points on the globe, assuming it is perfectly spherical, is the length of the  _great circle_ path.  If you are given two locations in latitude and longitude, then the [Haversine Formula](http://en.wikipedia.org/wiki/Haversine_formula) gives this shortest distance in a numerically stable way:\n",
    "\n",
    "$a = \\sin^{2}(\\Delta \\phi/2) + \\cos(\\phi_{1})\\cos(\\phi_{2})\\sin^{2}(\\Delta \\lambda/2)$\n",
    "\n",
    "$c = 2 \\arcsin(\\sqrt{a})$\n",
    "\n",
    "$d = rc$\n",
    "\n",
    "Where $\\phi_{i}$ is latitude and $\\lambda_{i}$ is the longitude of point $i$ and $r$ is the radius of the globe.\n",
    "\n",
    "#### Q1\n",
    "\n",
    "Write a function that takes as inputs a `radius` and two points specified by tuples of `(latitude, longitude)` and returns the distance between the points along a great circle.\n",
    "\n",
    "NOTE: Remember to convert your angles to radians!!"
   ]
  },
  {
   "cell_type": "code",
   "execution_count": null,
   "metadata": {
    "collapsed": true
   },
   "outputs": [],
   "source": [
    "from math import sin, cos, asin, radians    "
   ]
  },
  {
   "cell_type": "code",
   "execution_count": null,
   "metadata": {
    "collapsed": true
   },
   "outputs": [],
   "source": [
    "# test your answer: should be roughly 7895 km\n",
    "r_earth = 6371.0 # km\n",
    "austin = (30.2500, -97.7500)\n",
    "cambridge = (52.2050, 0.1190)\n",
    "\n",
    "print round(haversine_formula(r_earth, austin, cambridge))"
   ]
  },
  {
   "cell_type": "markdown",
   "metadata": {},
   "source": [
    "<br>\n",
    "<br>\n",
    "<br>\n",
    "<br>\n",
    "#### Solution"
   ]
  },
  {
   "cell_type": "code",
   "execution_count": null,
   "metadata": {
    "collapsed": true
   },
   "outputs": [],
   "source": [
    "def haversine_formula(r, p1, p2):\n",
    "    # unpack points\n",
    "    phi_1, lambda_1 = p1\n",
    "    phi_2, lambda_2 = p2\n",
    "    \n",
    "    # convert to radians\n",
    "    phi_1 = radians(phi_1)\n",
    "    phi_2 = radians(phi_2)\n",
    "    lambda_1 = radians(lambda_1)\n",
    "    lambda_2 = radians(lambda_2)\n",
    "    \n",
    "    # compute haversine formula\n",
    "    a = sin((phi_1-phi_2)/2)**2 + cos(phi_1)*cos(phi_2)*sin((lambda_1-lambda_2)/2.0)**2\n",
    "    c = 2*asin(a**0.5)\n",
    "    return r*c"
   ]
  },
  {
   "cell_type": "markdown",
   "metadata": {},
   "source": [
    "#### Q2\n",
    "\n",
    "Given the list of cities, and their latitude and longitudes:"
   ]
  },
  {
   "cell_type": "code",
   "execution_count": null,
   "metadata": {
    "collapsed": true
   },
   "outputs": [],
   "source": [
    "cities = {\n",
    "    'Atlanta': (33.7569444444, -84.3902777778),\n",
    "    'Austin': (30.3, -97.7333333333),\n",
    "    'Boston': (42.3577777778, -71.0616666667),\n",
    "    'Chicago': (41.9, -87.65),\n",
    "    'Dallas': (32.7825, -96.7975),\n",
    "    'Denver': (39.7391666667, -104.984722222),\n",
    "    'Houston': (29.7627777778, -95.3830555556),\n",
    "    'Los Angeles': (34.05, -118.25),\n",
    "    'Miami': (25.7833333333, -80.2166666667),\n",
    "    'New York': (40.67, -73.94),\n",
    "    'San Francisco': (37.7666666667, -122.433333333),\n",
    "    'Seattle': (47.6, -122.316666667),\n",
    "}"
   ]
  },
  {
   "cell_type": "markdown",
   "metadata": {},
   "source": [
    "write a function that, given a dictionary of city names and locations, plus the names of two cities, returns the great circle distance between the two cities.  The result should be rounded to the nearest 10 km.\n",
    "\n",
    "    def city_distance(cities, city_1, city_2):\n",
    "        ...\n",
    "\n",
    "HINT: The built-in `round()` function takes an optional second argument for the number of digits of precision.  This argument can be negative."
   ]
  },
  {
   "cell_type": "markdown",
   "metadata": {},
   "source": [
    "<br>\n",
    "<br>\n",
    "<br>\n",
    "<br>\n",
    "#### Solution"
   ]
  },
  {
   "cell_type": "code",
   "execution_count": null,
   "metadata": {
    "collapsed": false
   },
   "outputs": [],
   "source": [
    "def calc_distance(cities, city_1, city_2):\n",
    "    r_earth = 6371.0 # km\n",
    "    return haversine_formula(r_earth, city_1, city_2)\n",
    "\n",
    "round(calc_distance(cities, cities[\"Atlanta\"], cities[\"Austin\"]),-1)"
   ]
  },
  {
   "cell_type": "markdown",
   "metadata": {},
   "source": [
    "#### Q3\n",
    "\n",
    "Write a function that, given a set of cities returns a dictionary whose keys are pairs of cities and whose values are the distances between them.  You should use an appropriate data structure for the keys, and round distances to the nearest 10 km.\n",
    "\n",
    "    def compute_distances(cities):\n",
    "        ...\n",
    "\n",
    "Bonus points if you compute the distance for a given pair of cities only once."
   ]
  },
  {
   "cell_type": "markdown",
   "metadata": {},
   "source": [
    "<br>\n",
    "<br>\n",
    "<br>\n",
    "<br>\n",
    "#### Solution"
   ]
  },
  {
   "cell_type": "code",
   "execution_count": null,
   "metadata": {
    "collapsed": true
   },
   "outputs": [],
   "source": [
    "def compute_distances(cities):\n",
    "    r_earth = 6371.0 # km\n",
    "    \n",
    "    distances = {}\n",
    "    # create a set so we can track visited cities\n",
    "    # tracking this is optional, but otherwise we will double the computations\n",
    "    unvisited = set(cities)\n",
    "    for city_1 in cities:\n",
    "        # remove city_1 from cities to visit\n",
    "        unvisited.remove(city_1)\n",
    "        \n",
    "        location_1 = cities[city_1]\n",
    "        for city_2 in unvisited:\n",
    "            location_2 = cities[city_2]\n",
    "            distance = haversine_formula(r_earth, location_1, location_2)\n",
    "            distances[frozenset((city_1, city_2))] = round(distance, -1)\n",
    "            \n",
    "    return distances"
   ]
  },
  {
   "cell_type": "code",
   "execution_count": null,
   "metadata": {
    "collapsed": false
   },
   "outputs": [],
   "source": [
    "compute_distances(cities)"
   ]
  },
  {
   "cell_type": "markdown",
   "metadata": {},
   "source": [
    "## File I/O\n",
    "Most of the time you will be interacting with files. We need a way to access the files, but at the same time we also need ways to discover files.\n",
    "### 1. `glob`\n",
    "The `glob` module finds all the pathnames matching a specified pattern according to the rules used by the Unix shell. No tilde expansion is done, but \\*, ?, and character ranges expressed with [] will be correctly matched."
   ]
  },
  {
   "cell_type": "code",
   "execution_count": null,
   "metadata": {
    "collapsed": true
   },
   "outputs": [],
   "source": [
    "import glob"
   ]
  },
  {
   "cell_type": "markdown",
   "metadata": {},
   "source": [
    "#### `glob()`\n",
    "The function glob() which can be invoked by `glob.glob()` will run discovery of files. In the example below, we pass only the directory name. Execute the code snippet to see what the output is."
   ]
  },
  {
   "cell_type": "code",
   "execution_count": null,
   "metadata": {
    "collapsed": false
   },
   "outputs": [],
   "source": [
    "complete_list_of_files = glob.glob(\"../programming-for-analytics-course-material/data/\")\n",
    "complete_list_of_files"
   ]
  },
  {
   "cell_type": "markdown",
   "metadata": {},
   "source": [
    "Now lets add a * at the end of the directory path."
   ]
  },
  {
   "cell_type": "code",
   "execution_count": null,
   "metadata": {
    "collapsed": false
   },
   "outputs": [],
   "source": [
    "complete_list_of_files = glob.glob(\"../programming-for-analytics-course-material/data/*\")\n",
    "complete_list_of_files"
   ]
  },
  {
   "cell_type": "markdown",
   "metadata": {},
   "source": [
    "As seen above, a * is a wildcard, and allows for specifying to the `glob()` function, that you are interested in all files under `../programming-for-analytics-course-material/data`\n",
    "\n",
    "If we are only interested in a particular set of files, then we could also do something like-"
   ]
  },
  {
   "cell_type": "code",
   "execution_count": null,
   "metadata": {
    "collapsed": false
   },
   "outputs": [],
   "source": [
    "files_msft = glob.glob(\"../programming-for-analytics-course-material/data/msft*.csv\")\n",
    "files_msft"
   ]
  },
  {
   "cell_type": "markdown",
   "metadata": {},
   "source": [
    "#### or"
   ]
  },
  {
   "cell_type": "code",
   "execution_count": null,
   "metadata": {
    "collapsed": false
   },
   "outputs": [],
   "source": [
    "files_aapl = glob.glob(\"../programming-for-analytics-course-material/data/aapl*\")\n",
    "files_aapl"
   ]
  },
  {
   "cell_type": "markdown",
   "metadata": {},
   "source": [
    "#### or"
   ]
  },
  {
   "cell_type": "code",
   "execution_count": null,
   "metadata": {
    "collapsed": false
   },
   "outputs": [],
   "source": [
    "files_2014 = glob.glob(\"../programming-for-analytics-course-material/data/*14*14*\")\n",
    "files_2014"
   ]
  },
  {
   "cell_type": "markdown",
   "metadata": {},
   "source": [
    "### 2. Reading Files\n",
    "\n",
    "Let's say we have a file 'rcs.txt' which contains data in text format like this:\n",
    "\n",
    "    #freq (MHz)     vv (dB)     hh (dB)\n",
    "      100          -20.3       -31.2\n",
    "      200          -22.7       -33.6\n",
    "\n",
    "We'd like to get the data into a list of lists of floating point numbers in\n",
    "Python:\n",
    "\n",
    "    [[100.0, -20.3, -31.2],\n",
    "     [200.0, -22.7, -33.6]]\n",
    "\n",
    "We can open the file with the `open` function or the `file` type:\n",
    "\n",
    "#### `open()`/`file()`\n",
    "There are two ways to open files"
   ]
  },
  {
   "cell_type": "code",
   "execution_count": null,
   "metadata": {
    "collapsed": false
   },
   "outputs": [],
   "source": [
    "file_in = open('../programming-for-analytics-course-material/data/rcs.txt')"
   ]
  },
  {
   "cell_type": "markdown",
   "metadata": {},
   "source": [
    "#### or"
   ]
  },
  {
   "cell_type": "code",
   "execution_count": null,
   "metadata": {
    "collapsed": true
   },
   "outputs": [],
   "source": [
    "file_in = file('../programming-for-analytics-course-material/data/rcs.txt')"
   ]
  },
  {
   "cell_type": "markdown",
   "metadata": {},
   "source": [
    "#### or"
   ]
  },
  {
   "cell_type": "code",
   "execution_count": null,
   "metadata": {
    "collapsed": true
   },
   "outputs": [],
   "source": [
    "file_in = open('../programming-for-analytics-course-material/data/rcs.txt','r')"
   ]
  },
  {
   "cell_type": "markdown",
   "metadata": {},
   "source": [
    "Here the `'r'` specifies read-only mode\n",
    "\n",
    "#### `read()`\n",
    "You can read in the contents as a string using the `read()` method of the file object"
   ]
  },
  {
   "cell_type": "code",
   "execution_count": null,
   "metadata": {
    "collapsed": true
   },
   "outputs": [],
   "source": [
    "text = file_in.read()"
   ]
  },
  {
   "cell_type": "code",
   "execution_count": null,
   "metadata": {
    "collapsed": false
   },
   "outputs": [],
   "source": [
    "print text"
   ]
  },
  {
   "cell_type": "code",
   "execution_count": null,
   "metadata": {
    "collapsed": false
   },
   "outputs": [],
   "source": [
    "type(text)"
   ]
  },
  {
   "cell_type": "markdown",
   "metadata": {},
   "source": [
    "#### `readline()/readlines()`\n",
    "These functions allow you to read either a single line `readline()` or all lines as a list of lines `readlines()`\n",
    "<br>Lets open the file again"
   ]
  },
  {
   "cell_type": "code",
   "execution_count": null,
   "metadata": {
    "collapsed": true
   },
   "outputs": [],
   "source": [
    "file_in = open('../programming-for-analytics-course-material/data/rcs.txt','r')"
   ]
  },
  {
   "cell_type": "code",
   "execution_count": null,
   "metadata": {
    "collapsed": false
   },
   "outputs": [],
   "source": [
    "file_in.readline()"
   ]
  },
  {
   "cell_type": "markdown",
   "metadata": {},
   "source": [
    "Call `readline()` again"
   ]
  },
  {
   "cell_type": "code",
   "execution_count": null,
   "metadata": {
    "collapsed": false
   },
   "outputs": [],
   "source": [
    "file_in.readline()"
   ]
  },
  {
   "cell_type": "markdown",
   "metadata": {},
   "source": [
    "One more time-"
   ]
  },
  {
   "cell_type": "code",
   "execution_count": null,
   "metadata": {
    "collapsed": false
   },
   "outputs": [],
   "source": [
    "file_in.readline()"
   ]
  },
  {
   "cell_type": "markdown",
   "metadata": {},
   "source": [
    "And now the last time!"
   ]
  },
  {
   "cell_type": "code",
   "execution_count": null,
   "metadata": {
    "collapsed": false
   },
   "outputs": [],
   "source": [
    "file_in.readline()"
   ]
  },
  {
   "cell_type": "markdown",
   "metadata": {},
   "source": [
    "So from the above you note that `readline()` just went through each line in the file, however it did not go back to the start of the file once all lines were iterated over.\n",
    "<br><br> We also had to call the `readline()` function multiple times, which would mean any application requiring all lines to be read from a file, would need the programmer to write a `for` loop to get all lines. \n",
    "<br>A solution to this problem is using `readlines()`"
   ]
  },
  {
   "cell_type": "code",
   "execution_count": null,
   "metadata": {
    "collapsed": true
   },
   "outputs": [],
   "source": [
    "file_in = open('../programming-for-analytics-course-material/data/rcs.txt','r')"
   ]
  },
  {
   "cell_type": "code",
   "execution_count": null,
   "metadata": {
    "collapsed": false
   },
   "outputs": [],
   "source": [
    "file_in.readlines()"
   ]
  },
  {
   "cell_type": "code",
   "execution_count": null,
   "metadata": {
    "collapsed": false
   },
   "outputs": [],
   "source": [
    "file_in.readlines()"
   ]
  },
  {
   "cell_type": "markdown",
   "metadata": {},
   "source": [
    "From the above we see that `readlines()` returns a list of lines, where each line in the file is an item in the list. \n",
    "\n",
    "<br>We did make a mistake, after reading all lines into a list, we never stored this anywhere"
   ]
  },
  {
   "cell_type": "code",
   "execution_count": null,
   "metadata": {
    "collapsed": true
   },
   "outputs": [],
   "source": [
    "file_in = open('../programming-for-analytics-course-material/data/rcs.txt','r')"
   ]
  },
  {
   "cell_type": "code",
   "execution_count": null,
   "metadata": {
    "collapsed": true
   },
   "outputs": [],
   "source": [
    "all_lines = file_in.readlines()"
   ]
  },
  {
   "cell_type": "code",
   "execution_count": null,
   "metadata": {
    "collapsed": false
   },
   "outputs": [],
   "source": [
    "all_lines"
   ]
  },
  {
   "cell_type": "markdown",
   "metadata": {},
   "source": [
    "#### `seek()`\n",
    "Up until now, each time we wanted to read lines from the file, we were opening the file repeatedly. There are a multitude of issues in carrying out this method of opening the same files repeatedly\n",
    "<br>1. There are multiple file handles open, all requiring memory! \n",
    "<br>2. There are file locks placed on each instance of opening the file\n",
    "<br><br>\n",
    "If all you need is to read the file from the top-"
   ]
  },
  {
   "cell_type": "code",
   "execution_count": null,
   "metadata": {
    "collapsed": true
   },
   "outputs": [],
   "source": [
    "file_in.seek(0)"
   ]
  },
  {
   "cell_type": "code",
   "execution_count": null,
   "metadata": {
    "collapsed": false
   },
   "outputs": [],
   "source": [
    "file_in.readlines()"
   ]
  },
  {
   "cell_type": "markdown",
   "metadata": {},
   "source": [
    "The `seek(0)` function call tells the file handler to place i/o position at the beginning of the file. You can also place the i/o operation to take place at the end of the file with a `seek(-1)` call."
   ]
  },
  {
   "cell_type": "markdown",
   "metadata": {},
   "source": [
    "#### `close()`\n",
    "Each time we open a file, there should be a corresponding `close()` call that we should make at the end of the file i/o. This closes access to the file on the system disk"
   ]
  },
  {
   "cell_type": "code",
   "execution_count": null,
   "metadata": {
    "collapsed": true
   },
   "outputs": [],
   "source": [
    "file_in.close()"
   ]
  },
  {
   "cell_type": "markdown",
   "metadata": {},
   "source": [
    "### 3. Writing Files\n",
    "You will, from time-to-time, write files to disk as well-"
   ]
  },
  {
   "cell_type": "code",
   "execution_count": null,
   "metadata": {
    "collapsed": true
   },
   "outputs": [],
   "source": [
    "file_out = open('../programming-for-analytics-course-material/data/index.txt','w')"
   ]
  },
  {
   "cell_type": "code",
   "execution_count": null,
   "metadata": {
    "collapsed": true
   },
   "outputs": [],
   "source": [
    "file_in = open('../programming-for-analytics-course-material/data/index.txt','r')"
   ]
  },
  {
   "cell_type": "code",
   "execution_count": null,
   "metadata": {
    "collapsed": false
   },
   "outputs": [],
   "source": [
    "file_in.readlines()"
   ]
  },
  {
   "cell_type": "markdown",
   "metadata": {},
   "source": [
    "The only difference between reading and writing to a file is switching the mode from `'r'` to `'w'`"
   ]
  },
  {
   "cell_type": "markdown",
   "metadata": {},
   "source": [
    "Lets get a complete list of files for our data directory"
   ]
  },
  {
   "cell_type": "code",
   "execution_count": null,
   "metadata": {
    "collapsed": true
   },
   "outputs": [],
   "source": [
    "complete_list_of_files = glob.glob('../programming-for-analytics-course-material/data/*')"
   ]
  },
  {
   "cell_type": "code",
   "execution_count": null,
   "metadata": {
    "collapsed": false
   },
   "outputs": [],
   "source": [
    "complete_list_of_files"
   ]
  },
  {
   "cell_type": "markdown",
   "metadata": {},
   "source": [
    "#### `write()`\n",
    "function to write a single line to a file. \n",
    "<br>\n",
    "We are going to store the list of files and their paths to a text file called `index.txt`"
   ]
  },
  {
   "cell_type": "code",
   "execution_count": null,
   "metadata": {
    "collapsed": false
   },
   "outputs": [],
   "source": [
    "for line in complete_list_of_files:\n",
    "    file_out.write(line)\n",
    "    file_out.write('\\n')\n",
    "file_out.close()"
   ]
  },
  {
   "cell_type": "markdown",
   "metadata": {},
   "source": [
    "##### Open the index.txt file, and check what you wrote to the file"
   ]
  },
  {
   "cell_type": "markdown",
   "metadata": {},
   "source": [
    "Everything seems to be in a single paragraph. This is because you are not specifying that each line should be on its own line in the file.\n",
    "\n",
    "#### `writelines()`\n",
    "No more for loops requires for writing each line."
   ]
  },
  {
   "cell_type": "code",
   "execution_count": null,
   "metadata": {
    "collapsed": true
   },
   "outputs": [],
   "source": [
    "file_out = open('../programming-for-analytics-course-material/data/index.txt','w')\n",
    "file_out.writelines('\\n'.join(complete_list_of_files))\n",
    "file_out.close()"
   ]
  },
  {
   "cell_type": "markdown",
   "metadata": {},
   "source": [
    "### 4. Closing Files\n",
    "We have already seen the function `close()` to close files.\n",
    "\n",
    "There is definitely a drawback with this method. It has to be called explicity. If in case your program suddenly stops execution and exits, your file handles will not be closed, and as such the files will have write locks on them.\n",
    "\n",
    "#### `try` - `finally`\n",
    "This block of statement makes sure your file is closed in case the program exits abruptly"
   ]
  },
  {
   "cell_type": "code",
   "execution_count": null,
   "metadata": {
    "collapsed": true
   },
   "outputs": [],
   "source": [
    "file_in = open('../programming-for-analytics-course-material/data/rcs.txt','r')"
   ]
  },
  {
   "cell_type": "code",
   "execution_count": null,
   "metadata": {
    "collapsed": false
   },
   "outputs": [],
   "source": [
    "try:\n",
    "    all_lines = file_in.readlines()\n",
    "finally:\n",
    "    file_in.close()\n",
    "all_lines"
   ]
  },
  {
   "cell_type": "markdown",
   "metadata": {},
   "source": [
    "However we had to write quite a few statements to get this working. We can make this a lot nicer - \n",
    "\n",
    "#### `with`\n",
    "\n",
    "first lets clear our variable `all_lines`"
   ]
  },
  {
   "cell_type": "code",
   "execution_count": null,
   "metadata": {
    "collapsed": true
   },
   "outputs": [],
   "source": [
    "all_lines = []"
   ]
  },
  {
   "cell_type": "code",
   "execution_count": null,
   "metadata": {
    "collapsed": false
   },
   "outputs": [],
   "source": [
    "with open('../programming-for-analytics-course-material/data/rcs.txt','r') as file_in:\n",
    "    all_lines = file_in.readlines()\n",
    "all_lines"
   ]
  },
  {
   "cell_type": "markdown",
   "metadata": {},
   "source": [
    "### 5. Exercises!\n",
    "#### Q1. \n",
    "Read in a set of logs from an ASCII file.\n",
    "\n",
    "Read in the logs found in the file `short_logs.crv`.\n",
    "The logs are arranged as follows::\n",
    "\n",
    "    DEPTH    S-SONIC    P-SONIC ...\n",
    "    8922.0   171.7472   86.5657\n",
    "    8922.5   171.7398   86.5638\n",
    "    8923.0   171.7325   86.5619\n",
    "    8923.5   171.7287   86.5600\n",
    "    ...\n",
    "\n",
    "So the first line is a list of log names for each column of numbers.\n",
    "The columns are the log values for the given log.\n",
    "\n",
    "Make a dictionary with keys as the log names and values as the\n",
    "log data::\n",
    "\n",
    "    logs['DEPTH']\n",
    "    [8922.0, 8922.5, 8923.0, ...]\n",
    "    logs['S-SONIC']\n",
    "    [171.7472, 171.7398, 171.7325, ...]\n",
    "    "
   ]
  },
  {
   "cell_type": "markdown",
   "metadata": {},
   "source": [
    "<br>\n",
    "<br>\n",
    "<br>\n",
    "<br>\n",
    "#### Solution"
   ]
  },
  {
   "cell_type": "code",
   "execution_count": null,
   "metadata": {
    "collapsed": false
   },
   "outputs": [],
   "source": [
    "log_file = open('../programming-for-analytics-course-material/data/short_logs.crv')\n",
    "\n",
    "# The first line is a header that has all the log names:\n",
    "header = log_file.readline()\n",
    "log_names = header.split()\n",
    "log_count = len(log_names)\n",
    "\n",
    "# Read in each row of values, converting them to floats as\n",
    "# they are read in.  Assign them to the log name for their\n",
    "# particular column:\n",
    "logs = {}\n",
    "\n",
    "# Initialize the logs dictionary so that it contains the log names\n",
    "# as keys, and an empty list for the values.\n",
    "for name in log_names:\n",
    "    logs[name] = []\n",
    "\n",
    "for line in log_file:\n",
    "    values = [float(val) for val in line.split()]\n",
    "    for i, name in enumerate(log_names):\n",
    "        logs[name].append(values[i])\n",
    "\n",
    "log_file.close()\n",
    "\n",
    "# output the first 10 values for the DEPTH log.\n",
    "\n",
    "print 'DEPTH:', logs['DEPTH'][:10]\n"
   ]
  },
  {
   "cell_type": "markdown",
   "metadata": {},
   "source": [
    "#### Q2.\n",
    "The files aapl\\*, msft\\* contain trading data.  Data is\n",
    "arranged in the file is in comma seprarated format-\n",
    "\n",
    "    Date,Open,High,Low,Close,Volume,Adj Close\n",
    "    2015-10-21,114.00,115.580002,113.699997,113.760002,41795200,113.760002\n",
    "    2015-10-20,111.339996,114.169998,110.82,113.769997,48778800,113.769997\n",
    "    2015-10-19,110.800003,111.75,110.110001,111.730003,29606100,111.730003\n",
    "    2015-10-16,111.779999,112.00,110.529999,111.040001,38236300,111.040001\n",
    "    2015-10-15,110.93,112.099998,110.489998,111.860001,37341000,111.860001\n",
    "\n",
    "In this exercise you will write two functions: one that reads\n",
    "in data from files of this format, and one which writes data\n",
    "out to files of this format.\n",
    "##### a)\n",
    "You should be able to provide a name of the company such as- `aapl` alongwith the directory where the files might be located, and let the read function discover all the files. \n",
    "The data read in should be stored in a `dict` object and keyed on the date.\n",
    "##### b) \n",
    "Append all `dict` objects together.\n",
    "##### c) \n",
    "Write a function that accepts name of the company such as - `aapl` and a `dict` object with all the financial data concatenated. \n",
    "This function should write out all the data to a single file with the name such as- \n",
    "`aapl-mmmyy-mmmyy.csv`"
   ]
  },
  {
   "cell_type": "markdown",
   "metadata": {},
   "source": [
    "## DataFrames!\n",
    "Our data is represented by a DataFrame. You can think of data frames as a giant spreadsheet which you can program. It's a collection of series (or columns) with a common set of commands that make managing data in Python super easy.\n",
    "\n",
    "### 1. `pandas`\n",
    "`pandas` is an open source, BSD-licensed library providing high-performance, easy-to-use data structures and data analysis tools for the Python programming language."
   ]
  },
  {
   "cell_type": "code",
   "execution_count": null,
   "metadata": {
    "collapsed": true
   },
   "outputs": [],
   "source": [
    "import pandas as pd"
   ]
  },
  {
   "cell_type": "markdown",
   "metadata": {},
   "source": [
    "#### `read_csv()`\n",
    "this function, and a variety of other read functions under pandas have been created to read in different file formats\n",
    "\n",
    "Lets read in the `best-sandwiches` dataset"
   ]
  },
  {
   "cell_type": "code",
   "execution_count": null,
   "metadata": {
    "collapsed": true
   },
   "outputs": [],
   "source": [
    "best_sws_df = pd.read_csv('../programming-for-analytics-course-material/data/best-sandwiches.csv')"
   ]
  },
  {
   "cell_type": "markdown",
   "metadata": {},
   "source": [
    "#### `head()`\n",
    "the head function allows us to peek at the first few rows of the df"
   ]
  },
  {
   "cell_type": "code",
   "execution_count": null,
   "metadata": {
    "collapsed": false
   },
   "outputs": [],
   "source": [
    "best_sws_df.head()"
   ]
  },
  {
   "cell_type": "markdown",
   "metadata": {},
   "source": [
    "By default the `head()` function only displays the first few rows of data... to be precise, 5 rows. \n",
    "\n",
    "We can display `n` rows of data from the top-"
   ]
  },
  {
   "cell_type": "code",
   "execution_count": null,
   "metadata": {
    "collapsed": false
   },
   "outputs": [],
   "source": [
    "best_sws_df.head(10)"
   ]
  },
  {
   "cell_type": "markdown",
   "metadata": {},
   "source": [
    "#### `tail()`\n",
    "the tail function allows us to peek at the last few rows of the df"
   ]
  },
  {
   "cell_type": "code",
   "execution_count": null,
   "metadata": {
    "collapsed": false
   },
   "outputs": [],
   "source": [
    "best_sws_df.tail()"
   ]
  },
  {
   "cell_type": "markdown",
   "metadata": {},
   "source": [
    "By default the `tail()` function only displays the last few rows of data... to be precise, 5 rows.\n",
    "We can display n rows of data from the bottom-"
   ]
  },
  {
   "cell_type": "code",
   "execution_count": null,
   "metadata": {
    "collapsed": false
   },
   "outputs": [],
   "source": [
    "best_sws_df.tail(10)"
   ]
  },
  {
   "cell_type": "markdown",
   "metadata": {},
   "source": [
    "#### `describe()`\n",
    "the `describe()` function can be used to present descriptive stats on each column of the df"
   ]
  },
  {
   "cell_type": "code",
   "execution_count": null,
   "metadata": {
    "collapsed": false
   },
   "outputs": [],
   "source": [
    "best_sws_df.describe()"
   ]
  },
  {
   "cell_type": "markdown",
   "metadata": {},
   "source": [
    "However, describe will not work like your `R` function `summary()` and does not automatically present frequency information for categorical data"
   ]
  },
  {
   "cell_type": "markdown",
   "metadata": {},
   "source": [
    "#### Reading a specific column\n",
    "you do not need to display the entire df, or use the entire df for each calculation or output. One can also select a single column. "
   ]
  },
  {
   "cell_type": "code",
   "execution_count": null,
   "metadata": {
    "collapsed": false
   },
   "outputs": [],
   "source": [
    "best_sws_df.sandwich"
   ]
  },
  {
   "cell_type": "markdown",
   "metadata": {},
   "source": [
    "We can also call the functions `head()`, `tail()`, and `describe()` on a single column-"
   ]
  },
  {
   "cell_type": "code",
   "execution_count": null,
   "metadata": {
    "collapsed": false
   },
   "outputs": [],
   "source": [
    "best_sws_df.sandwich.head()"
   ]
  },
  {
   "cell_type": "code",
   "execution_count": null,
   "metadata": {
    "collapsed": false
   },
   "outputs": [],
   "source": [
    "best_sws_df.sandwich.tail()"
   ]
  },
  {
   "cell_type": "code",
   "execution_count": null,
   "metadata": {
    "collapsed": false
   },
   "outputs": [],
   "source": [
    "best_sws_df.sandwich.describe()"
   ]
  },
  {
   "cell_type": "markdown",
   "metadata": {},
   "source": [
    "#### Note\n",
    "This method of referring to a column only returns a `read-only` copy. So you cannot modify the column. \n",
    "\n",
    "#### Creating a new column\n",
    "The way to create or modify a new column is to refer to the column using the following format-"
   ]
  },
  {
   "cell_type": "code",
   "execution_count": null,
   "metadata": {
    "collapsed": false
   },
   "outputs": [],
   "source": [
    "best_sws_df[\"sandwich\"].head()"
   ]
  },
  {
   "cell_type": "markdown",
   "metadata": {},
   "source": [
    "We should probably normalize the names, by converting all the names to upper case."
   ]
  },
  {
   "cell_type": "code",
   "execution_count": null,
   "metadata": {
    "collapsed": false
   },
   "outputs": [],
   "source": [
    "best_sws_df[\"sandwich\"] = best_sws_df.sandwich.apply(lambda x: x.upper())\n",
    "best_sws_df.sandwich.head()"
   ]
  },
  {
   "cell_type": "markdown",
   "metadata": {},
   "source": [
    "#### `unique()`\n",
    "the `unique()` function provides a list of unique values in a given columns"
   ]
  },
  {
   "cell_type": "code",
   "execution_count": null,
   "metadata": {
    "collapsed": false
   },
   "outputs": [],
   "source": [
    "list(best_sws_df.price.unique())"
   ]
  },
  {
   "cell_type": "markdown",
   "metadata": {},
   "source": [
    "The number of unique values in the price column can be calculated using the `len()` function"
   ]
  },
  {
   "cell_type": "code",
   "execution_count": null,
   "metadata": {
    "collapsed": false
   },
   "outputs": [],
   "source": [
    "len(list(best_sws_df.price.unique()))"
   ]
  },
  {
   "cell_type": "markdown",
   "metadata": {},
   "source": [
    "#### or"
   ]
  },
  {
   "cell_type": "code",
   "execution_count": null,
   "metadata": {
    "collapsed": false
   },
   "outputs": [],
   "source": [
    "best_sws_df.price.nunique()"
   ]
  },
  {
   "cell_type": "markdown",
   "metadata": {},
   "source": [
    "#### `value_counts()`\n",
    "the function `value_counts()` provides a frequency for each unique level in a column-"
   ]
  },
  {
   "cell_type": "code",
   "execution_count": null,
   "metadata": {
    "collapsed": false
   },
   "outputs": [],
   "source": [
    "import matplotlib.pyplot as plt\n",
    "%pylab inline\n",
    "best_sws_df.price.value_counts().plot(\"bar\")\n",
    "plt.show"
   ]
  },
  {
   "cell_type": "markdown",
   "metadata": {},
   "source": [
    "### 2. Exercises!\n",
    "#### Q1\n",
    "Read in the financial data file you have created as a dataframe (concatenation of all the files for a company).\n",
    "#### Q2\n",
    "Provide descriptive statistics for all columns of this data"
   ]
  }
 ],
 "metadata": {
  "kernelspec": {
   "display_name": "Python 2",
   "language": "python",
   "name": "python2"
  },
  "language_info": {
   "codemirror_mode": {
    "name": "ipython",
    "version": 2
   },
   "file_extension": ".py",
   "mimetype": "text/x-python",
   "name": "python",
   "nbconvert_exporter": "python",
   "pygments_lexer": "ipython2",
   "version": "2.7.11"
  }
 },
 "nbformat": 4,
 "nbformat_minor": 0
}
