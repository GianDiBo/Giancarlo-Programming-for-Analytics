{
 "cells": [
  {
   "cell_type": "markdown",
   "metadata": {},
   "source": [
    "# Programming For Analytics\n",
    "##### © Pratik Agrawal, 2016\n",
    "\n",
    "## Functions, File I/O, Data Frames\n",
    "- Functions\n",
    " - Structure\n",
    " - Docstring (Document String or Help Text)\n",
    " - Arguments\n",
    " - Exercises!\n",
    "- File I/O\n",
    " - `glob()`\n",
    " - Reading Files\n",
    "   - `open()`/`file()`\n",
    "   - `read()`\n",
    "   - `readline()`/`readlines()`\n",
    "   - `seek()`\n",
    "   - `close()`\n",
    " - Writing Files\n",
    "   - `write()`\n",
    "   - `writelines()`\n",
    " - Closing Files\n",
    "   - `try`/`finally()`\n",
    "   - `with`\n",
    " - Exercises!\n",
    "- DataFrames! \n",
    " - `pandas`\n",
    "   - `read_csv()`\n",
    "   - `head()`\n",
    "   - `tail()`\n",
    "   - `describe()`\n",
    "   - Reading specific columns\n",
    "   - Creating new columns\n",
    "   - `unique()`\n",
    "   - `nunique()`\n",
    "   - `value_counts()`\n",
    " - Exercises!\n",
    " \n",
    " \n",
    "## Functions\n",
    "### 1. Structure\n",
    "A function in Python is defined using the keyword `def`, followed by a function name, a signature within parentheses `()`, and a colon `:`."
   ]
  },
  {
   "cell_type": "code",
   "execution_count": 1,
   "metadata": {
    "collapsed": true
   },
   "outputs": [],
   "source": [
    "def func_0(arg_0, arg_1):\n",
    "    \"\"\"func_0 check for equivalence of the two arguments\n",
    "       arguments-\n",
    "       arg_0: first value to compare\n",
    "       arg_1: second value to compare\n",
    "       return-\n",
    "       boolean: True or False based on comparison\n",
    "    \"\"\"\n",
    "    return (arg_0==arg_1)"
   ]
  },
  {
   "cell_type": "code",
   "execution_count": 2,
   "metadata": {
    "collapsed": false
   },
   "outputs": [
    {
     "data": {
      "text/plain": [
       "True"
      ]
     },
     "execution_count": 2,
     "metadata": {},
     "output_type": "execute_result"
    }
   ],
   "source": [
    "func_0(\"a\",\"a\")"
   ]
  },
  {
   "cell_type": "markdown",
   "metadata": {},
   "source": [
    "### 2. Docstring \n",
    "A document string helps identify what the function does, and also allows a user of the function to invoke the help function on the function."
   ]
  },
  {
   "cell_type": "code",
   "execution_count": 3,
   "metadata": {
    "collapsed": true
   },
   "outputs": [],
   "source": [
    "def func_0(arg_0, arg_1):\n",
    "    \"\"\"func_0 check for equivalence of the two arguments\n",
    "       arguments-\n",
    "       arg_0: first value to compare\n",
    "       arg_1: second value to compare\n",
    "       return-\n",
    "       boolean: True or False based on comparison\n",
    "    \"\"\"\n",
    "    return (arg_0==arg_1)"
   ]
  },
  {
   "cell_type": "code",
   "execution_count": 4,
   "metadata": {
    "collapsed": false
   },
   "outputs": [
    {
     "name": "stdout",
     "output_type": "stream",
     "text": [
      "Help on function func_0 in module __main__:\n",
      "\n",
      "func_0(arg_0, arg_1)\n",
      "    func_0 check for equivalence of the two arguments\n",
      "    arguments-\n",
      "    arg_0: first value to compare\n",
      "    arg_1: second value to compare\n",
      "    return-\n",
      "    boolean: True or False based on comparison\n",
      "\n"
     ]
    }
   ],
   "source": [
    "help(func_0)"
   ]
  },
  {
   "cell_type": "markdown",
   "metadata": {},
   "source": [
    "### 3. Arguments\n",
    "We can pass anywhere from 0 to limitless number of variables to a function, so as to allow the function to perform some operation using them.\n",
    "Note: If your function does not utilize an argument, then consider removing it from the arguments in the function definition.\n",
    "\n",
    "- With one argument"
   ]
  },
  {
   "cell_type": "code",
   "execution_count": 5,
   "metadata": {
    "collapsed": true
   },
   "outputs": [],
   "source": [
    "def func_0(arg_0):\n",
    "    \"\"\"func_0 prints the argument passed within\n",
    "       arguments-\n",
    "       arg_0: value to be printed\n",
    "       return-\n",
    "       None\n",
    "    \"\"\"\n",
    "    print arg_0"
   ]
  },
  {
   "cell_type": "markdown",
   "metadata": {},
   "source": [
    "- With multiple arguments"
   ]
  },
  {
   "cell_type": "code",
   "execution_count": 6,
   "metadata": {
    "collapsed": true
   },
   "outputs": [],
   "source": [
    "def sum_all_values(*args):\n",
    "    \"\"\"Sum all values passed to the function\n",
    "       arguments-\n",
    "       args: comma separated values that need to be passed in to the function\n",
    "       return-\n",
    "       Sum of all values passed in to function\n",
    "    \"\"\"\n",
    "    return sum(args)"
   ]
  },
  {
   "cell_type": "code",
   "execution_count": 7,
   "metadata": {
    "collapsed": false
   },
   "outputs": [
    {
     "data": {
      "text/plain": [
       "1"
      ]
     },
     "execution_count": 7,
     "metadata": {},
     "output_type": "execute_result"
    }
   ],
   "source": [
    "sum_all_values(1)"
   ]
  },
  {
   "cell_type": "code",
   "execution_count": 8,
   "metadata": {
    "collapsed": false
   },
   "outputs": [
    {
     "data": {
      "text/plain": [
       "6"
      ]
     },
     "execution_count": 8,
     "metadata": {},
     "output_type": "execute_result"
    }
   ],
   "source": [
    "sum_all_values(1,2,3)"
   ]
  },
  {
   "cell_type": "markdown",
   "metadata": {},
   "source": [
    "- With compound data types such as dictionaries"
   ]
  },
  {
   "cell_type": "code",
   "execution_count": 9,
   "metadata": {
    "collapsed": true
   },
   "outputs": [],
   "source": [
    "def instantiate_model(params):\n",
    "    \"\"\"Function to train a model\n",
    "       arguments-\n",
    "       params: dictionary of parameters required to instantiate model\n",
    "       return-\n",
    "       instantiated model object\n",
    "    \"\"\"\n",
    "# Referring to dictionary key values of \"alpha\" and \"tol\" and assigning those variables to whatever value we input\n",
    "    lr = LogisticRegression(alpha=params[\"alpha\"], tol=params[\"tol\"])\n",
    "    return lr"
   ]
  },
  {
   "cell_type": "markdown",
   "metadata": {},
   "source": [
    "### 4. Exercises\n",
    "The shortest distance between two points on the globe, assuming it is perfectly spherical, is the length of the  _great circle_ path.  If you are given two locations in latitude and longitude, then the [Haversine Formula](http://en.wikipedia.org/wiki/Haversine_formula) gives this shortest distance in a numerically stable way:\n",
    "\n",
    "$a = \\sin^{2}(\\Delta \\phi/2) + \\cos(\\phi_{1})\\cos(\\phi_{2})\\sin^{2}(\\Delta \\lambda/2)$\n",
    "\n",
    "$c = 2 \\arcsin(\\sqrt{a})$\n",
    "\n",
    "$d = rc$\n",
    "\n",
    "Where $\\phi_{i}$ is latitude and $\\lambda_{i}$ is the longitude of point $i$ and $r$ is the radius of the globe.\n",
    "\n",
    "#### Q1\n",
    "\n",
    "Write a function that takes as inputs a `radius` and two points specified by tuples of `(latitude, longitude)` and returns the distance between the points along a great circle.\n",
    "\n",
    "NOTE: Remember to convert your angles to radians!!"
   ]
  },
  {
   "cell_type": "code",
   "execution_count": 28,
   "metadata": {
    "collapsed": false
   },
   "outputs": [],
   "source": [
    "# Exercise 1"
   ]
  },
  {
   "cell_type": "code",
   "execution_count": 32,
   "metadata": {
    "collapsed": false
   },
   "outputs": [
    {
     "ename": "NameError",
     "evalue": "name 'math' is not defined",
     "output_type": "error",
     "traceback": [
      "\u001b[0;31m---------------------------------------------------------------------------\u001b[0m",
      "\u001b[0;31mNameError\u001b[0m                                 Traceback (most recent call last)",
      "\u001b[0;32m<ipython-input-32-6df665b6abaf>\u001b[0m in \u001b[0;36m<module>\u001b[0;34m()\u001b[0m\n\u001b[1;32m      2\u001b[0m \u001b[0;31m# Each tuple will have latitude and longitude (tuple is multiple key values to a dictionary word)\u001b[0m\u001b[0;34m\u001b[0m\u001b[0;34m\u001b[0m\u001b[0m\n\u001b[1;32m      3\u001b[0m \u001b[0;32mfrom\u001b[0m \u001b[0mmath\u001b[0m \u001b[0;32mimport\u001b[0m \u001b[0msin\u001b[0m\u001b[0;34m,\u001b[0m \u001b[0mcos\u001b[0m\u001b[0;34m,\u001b[0m \u001b[0masin\u001b[0m\u001b[0;34m,\u001b[0m \u001b[0mradians\u001b[0m\u001b[0;34m\u001b[0m\u001b[0m\n\u001b[0;32m----> 4\u001b[0;31m \u001b[0mmath\u001b[0m\u001b[0;34m.\u001b[0m\u001b[0mradians\u001b[0m\u001b[0;34m(\u001b[0m\u001b[0;36m30\u001b[0m\u001b[0;34m)\u001b[0m\u001b[0;34m\u001b[0m\u001b[0m\n\u001b[0m",
      "\u001b[0;31mNameError\u001b[0m: name 'math' is not defined"
     ]
    }
   ],
   "source": [
    "# Phi is latitude and lambda is longitude in degrees. Formula expects it to be in radius. \n",
    "# Each tuple will have latitude and longitude (tuple is multiple key values to a dictionary word)\n",
    "from math import sin, cos, asin, radians    \n"
   ]
  },
  {
   "cell_type": "code",
   "execution_count": 33,
   "metadata": {
    "collapsed": false
   },
   "outputs": [
    {
     "data": {
      "text/plain": [
       "0.5235987755982988"
      ]
     },
     "execution_count": 33,
     "metadata": {},
     "output_type": "execute_result"
    }
   ],
   "source": [
    "import math\n",
    "math.radians(30)"
   ]
  },
  {
   "cell_type": "code",
   "execution_count": 48,
   "metadata": {
    "collapsed": true
   },
   "outputs": [],
   "source": [
    "# must import math functions first\n",
    "import math \n",
    "\n",
    "def haversine_formula(r,p1,p2):\n",
    "    # unpack points since points are tuples\n",
    "    phi_1, lambda_1 = p1\n",
    "    phi_2, lambda_2 = p2\n",
    "\n",
    "    # convert to radians\n",
    "    phi_1 = math.radians(phi_1)\n",
    "    phi_2 = math.radians(phi_2)\n",
    "    lambda_1 = math.radians(lambda_1)\n",
    "    lambda_2 = math.radians(lambda_2)\n",
    "    \n",
    "    # compute haverine formula\n",
    "    a = sin((phi_1 - phi_2)/2)**2 + (cos(phi_1)*cos(phi_2)*sin((lambda_1 - lambda_2)/2)**2)\n",
    "    c = 2 * asin((a)**0/5)        \n",
    "    return(r * c)"
   ]
  },
  {
   "cell_type": "markdown",
   "metadata": {},
   "source": [
    "#### Q2\n",
    "\n",
    "Given the list of cities from the \"Flight Distances\" exercise, and their latitude and longitudes:"
   ]
  },
  {
   "cell_type": "code",
   "execution_count": 55,
   "metadata": {
    "collapsed": false
   },
   "outputs": [],
   "source": [
    "cities = {\n",
    "    'Atlanta': (33.7569444444, -84.3902777778),\n",
    "    'Austin': (30.3, -97.7333333333),\n",
    "    'Boston': (42.3577777778, -71.0616666667),\n",
    "    'Chicago': (41.9, -87.65),\n",
    "    'Dallas': (32.7825, -96.7975),\n",
    "    'Denver': (39.7391666667, -104.984722222),\n",
    "    'Houston': (29.7627777778, -95.3830555556),\n",
    "    'Los Angeles': (34.05, -118.25),\n",
    "    'Miami': (25.7833333333, -80.2166666667),\n",
    "    'New York': (40.67, -73.94),\n",
    "    'San Francisco': (37.7666666667, -122.433333333),\n",
    "    'Seattle': (47.6, -122.316666667),\n",
    "}"
   ]
  },
  {
   "cell_type": "code",
   "execution_count": 49,
   "metadata": {
    "collapsed": false
   },
   "outputs": [
    {
     "data": {
      "text/plain": [
       "2570.0"
      ]
     },
     "execution_count": 49,
     "metadata": {},
     "output_type": "execute_result"
    }
   ],
   "source": [
    "# Creat function that takes city names of city_1 and city_2, each with it's own tuple, from dictionary \"cities\"\n",
    "def calc_distance(cities, city_1, city_2):\n",
    "\n",
    "    r_earth = 6371.0 # km\n",
    "    return haversine_formula(r_earth, city_1, city_2)\n",
    "\n",
    "# Round output to the 10's    \n",
    "round(calc_distance(cities, cities[\"Atlanta\"], cities[\"Austin\"]),-1)"
   ]
  },
  {
   "cell_type": "code",
   "execution_count": 50,
   "metadata": {
    "collapsed": false
   },
   "outputs": [
    {
     "name": "stdout",
     "output_type": "stream",
     "text": [
      "2570.0\n"
     ]
    }
   ],
   "source": [
    "#Exercise 2\n",
    "r_earth = 6371.0 # km\n",
    "\n",
    "# Manually input City Coordinates\n",
    "Austin = (30.2500, -97.7500)\n",
    "Cambridge = (52.2050, 0.1190)\n",
    "\n",
    "print round(haversine_formula(r_earth, Austin, Cambridge),-1)"
   ]
  },
  {
   "cell_type": "markdown",
   "metadata": {},
   "source": [
    "write a function that, given a dictionary of city names and locations, plus the names of two cities, returns the great circle distance between the two cities.  The result should be rounded to the nearest 10 km.\n",
    "\n",
    "    def city_distance(cities, city_1, city_2):\n",
    "        ...\n",
    "\n",
    "HINT: The built-in `round()` function takes an optional second argument for the number of digits of precision.  This argument can be negative."
   ]
  },
  {
   "cell_type": "markdown",
   "metadata": {},
   "source": [
    "#### Q3\n",
    "\n",
    "Write a function that, given a set of cities returns a dictionary whose keys are pairs of cities and whose values are the distances between them.  You should use an appropriate data structure for the keys, and round distances to the nearest 10 km.\n",
    "\n",
    "    def compute_distances(cities):\n",
    "        ...\n",
    "\n",
    "Bonus points if you compute the distance for a given pair of cities only once."
   ]
  },
  {
   "cell_type": "code",
   "execution_count": 56,
   "metadata": {
    "collapsed": true
   },
   "outputs": [],
   "source": [
    "# Exercise 3\n",
    "def compute_distances(cities):\n",
    "    r_earth = 6371.0 # km\n",
    "    \n",
    "    # Create new dictionary with all distances\n",
    "    distances={}\n",
    "    \n",
    "    # create a set so we can track visited cities. It starts with all cities since nothing is visited\n",
    "    # tracking this is optional, but otherwise we will double the computations\n",
    "    unvisited = set(cities)\n",
    "    \n",
    "    # for the first city in Dictionary \"cities\"\n",
    "    for city_1 in cities:\n",
    "        \n",
    "        # remove city_1 from cities to visit, so now we have visited city_1\n",
    "        unvisited.remove(city_1)\n",
    "        \n",
    "        # Save location_1 to be the key value (tuple location) of city_1 in \"cities\" dictionary\n",
    "        location_1 = cities[city_1]\n",
    "        \n",
    "        # Now look at second city in remaining list of cities in \"unvisited\" dictionary\n",
    "        for city_2 in unvisited:\n",
    "            \n",
    "            # Save location_2 to be location tuple of this city_2 in \"cities\" dictionary\n",
    "            location_2 = cities[city_2]\n",
    "            \n",
    "            # Calculate distance using haversine_formula that takes distances between locations \n",
    "            distance = haversine_formula(r_earth, location_1, location_2)\n",
    "            \n",
    "            # Remember that dictionary you created called \"distances\"?\n",
    "            # The pair of cities you used (the frozen set) is a now pair of elements in dictionary \"distances\"\n",
    "            # Their distance between them is the key\n",
    "            distances[frozenset((city_1, city_2))] = round(distance, -1)\n",
    "            \n",
    "    return distances"
   ]
  },
  {
   "cell_type": "code",
   "execution_count": 57,
   "metadata": {
    "collapsed": false
   },
   "outputs": [
    {
     "data": {
      "text/plain": [
       "{frozenset({'Denver', 'Miami'}): 2570.0,\n",
       " frozenset({'Dallas', 'Los Angeles'}): 2570.0,\n",
       " frozenset({'Atlanta', 'Boston'}): 2570.0,\n",
       " frozenset({'Atlanta', 'New York'}): 2570.0,\n",
       " frozenset({'Atlanta', 'Miami'}): 2570.0,\n",
       " frozenset({'Boston', 'Houston'}): 2570.0,\n",
       " frozenset({'Austin', 'Boston'}): 2570.0,\n",
       " frozenset({'Miami', 'Seattle'}): 2570.0,\n",
       " frozenset({'Austin', 'Dallas'}): 2570.0,\n",
       " frozenset({'New York', 'San Francisco'}): 2570.0,\n",
       " frozenset({'Chicago', 'Denver'}): 2570.0,\n",
       " frozenset({'Houston', 'San Francisco'}): 2570.0,\n",
       " frozenset({'Boston', 'Seattle'}): 2570.0,\n",
       " frozenset({'Austin', 'Miami'}): 2570.0,\n",
       " frozenset({'Austin', 'San Francisco'}): 2570.0,\n",
       " frozenset({'Los Angeles', 'Seattle'}): 2570.0,\n",
       " frozenset({'Boston', 'New York'}): 2570.0,\n",
       " frozenset({'Atlanta', 'Houston'}): 2570.0,\n",
       " frozenset({'Boston', 'Denver'}): 2570.0,\n",
       " frozenset({'Chicago', 'Miami'}): 2570.0,\n",
       " frozenset({'San Francisco', 'Seattle'}): 2570.0,\n",
       " frozenset({'Boston', 'Dallas'}): 2570.0,\n",
       " frozenset({'Dallas', 'Houston'}): 2570.0,\n",
       " frozenset({'Austin', 'Los Angeles'}): 2570.0,\n",
       " frozenset({'Austin', 'Chicago'}): 2570.0,\n",
       " frozenset({'Dallas', 'Miami'}): 2570.0,\n",
       " frozenset({'Chicago', 'New York'}): 2570.0,\n",
       " frozenset({'Atlanta', 'Seattle'}): 2570.0,\n",
       " frozenset({'Chicago', 'Houston'}): 2570.0,\n",
       " frozenset({'Denver', 'San Francisco'}): 2570.0,\n",
       " frozenset({'Denver', 'Seattle'}): 2570.0,\n",
       " frozenset({'Atlanta', 'San Francisco'}): 2570.0,\n",
       " frozenset({'Chicago', 'Seattle'}): 2570.0,\n",
       " frozenset({'Boston', 'Los Angeles'}): 2570.0,\n",
       " frozenset({'Atlanta', 'Austin'}): 2570.0,\n",
       " frozenset({'Atlanta', 'Los Angeles'}): 2570.0,\n",
       " frozenset({'Austin', 'Denver'}): 2570.0,\n",
       " frozenset({'Miami', 'New York'}): 2570.0,\n",
       " frozenset({'Denver', 'Los Angeles'}): 2570.0,\n",
       " frozenset({'Houston', 'Miami'}): 2570.0,\n",
       " frozenset({'Houston', 'New York'}): 2570.0,\n",
       " frozenset({'Dallas', 'San Francisco'}): 2570.0,\n",
       " frozenset({'Chicago', 'San Francisco'}): 2570.0,\n",
       " frozenset({'Los Angeles', 'San Francisco'}): 2570.0,\n",
       " frozenset({'Denver', 'New York'}): 2570.0,\n",
       " frozenset({'Austin', 'Seattle'}): 2570.0,\n",
       " frozenset({'Atlanta', 'Chicago'}): 2570.0,\n",
       " frozenset({'Atlanta', 'Denver'}): 2570.0,\n",
       " frozenset({'Boston', 'Chicago'}): 2570.0,\n",
       " frozenset({'Dallas', 'Seattle'}): 2570.0,\n",
       " frozenset({'Chicago', 'Dallas'}): 2570.0,\n",
       " frozenset({'Miami', 'San Francisco'}): 2570.0,\n",
       " frozenset({'Austin', 'Houston'}): 2570.0,\n",
       " frozenset({'Houston', 'Los Angeles'}): 2570.0,\n",
       " frozenset({'Los Angeles', 'New York'}): 2570.0,\n",
       " frozenset({'Los Angeles', 'Miami'}): 2570.0,\n",
       " frozenset({'Austin', 'New York'}): 2570.0,\n",
       " frozenset({'Dallas', 'New York'}): 2570.0,\n",
       " frozenset({'Boston', 'San Francisco'}): 2570.0,\n",
       " frozenset({'Boston', 'Miami'}): 2570.0,\n",
       " frozenset({'Houston', 'Seattle'}): 2570.0,\n",
       " frozenset({'Dallas', 'Denver'}): 2570.0,\n",
       " frozenset({'New York', 'Seattle'}): 2570.0,\n",
       " frozenset({'Atlanta', 'Dallas'}): 2570.0,\n",
       " frozenset({'Chicago', 'Los Angeles'}): 2570.0,\n",
       " frozenset({'Denver', 'Houston'}): 2570.0}"
      ]
     },
     "execution_count": 57,
     "metadata": {},
     "output_type": "execute_result"
    }
   ],
   "source": [
    "compute_distances(cities)"
   ]
  },
  {
   "cell_type": "markdown",
   "metadata": {},
   "source": [
    "## File I/O\n",
    "Most of the time you will be interacting with files. We need a way to access the files, but at the same time we also need ways to discover files.\n",
    "### 1. `glob`\n",
    "The `glob` module finds all the pathnames matching a specified pattern according to the rules used by the Unix shell. No tilde expansion is done, but \\*, ?, and character ranges expressed with [] will be correctly matched."
   ]
  },
  {
   "cell_type": "code",
   "execution_count": 59,
   "metadata": {
    "collapsed": true
   },
   "outputs": [],
   "source": [
    "import glob"
   ]
  },
  {
   "cell_type": "markdown",
   "metadata": {},
   "source": [
    "#### `glob()`\n",
    "The function glob() which can be invoked by `glob.glob()` will run discovery of files. In the example below, we pass only the directory name. Execute the code snippet to see what the output is."
   ]
  },
  {
   "cell_type": "code",
   "execution_count": 64,
   "metadata": {
    "collapsed": false
   },
   "outputs": [
    {
     "data": {
      "text/plain": [
       "['/Users/Gian/GitHub/programming-for-analytics-course-material 9.27.13 PM/data']"
      ]
     },
     "execution_count": 64,
     "metadata": {},
     "output_type": "execute_result"
    }
   ],
   "source": [
    "# Shows only File Path\n",
    "complete_list_of_files = glob.glob(\"/Users/Gian/GitHub/programming-for-analytics-course-material 9.27.13 PM/data\")\n",
    "complete_list_of_files"
   ]
  },
  {
   "cell_type": "markdown",
   "metadata": {},
   "source": [
    "Now lets add a * at the end of the directory path."
   ]
  },
  {
   "cell_type": "code",
   "execution_count": 75,
   "metadata": {
    "collapsed": false
   },
   "outputs": [
    {
     "data": {
      "text/plain": [
       "['/Users/Gian/GitHub/programming-for-analytics-course-material 9.27.13 PM/data/aapl-1-jan15-oct15.csv',\n",
       " '/Users/Gian/GitHub/programming-for-analytics-course-material 9.27.13 PM/data/aapl-2-jan14-dec14.csv',\n",
       " '/Users/Gian/GitHub/programming-for-analytics-course-material 9.27.13 PM/data/aapl-3-dec80-dec13.csv',\n",
       " '/Users/Gian/GitHub/programming-for-analytics-course-material 9.27.13 PM/data/best-sandwiches.csv',\n",
       " '/Users/Gian/GitHub/programming-for-analytics-course-material 9.27.13 PM/data/Divvy_Stations_2013.csv',\n",
       " '/Users/Gian/GitHub/programming-for-analytics-course-material 9.27.13 PM/data/Divvy_Trips_2013.csv',\n",
       " '/Users/Gian/GitHub/programming-for-analytics-course-material 9.27.13 PM/data/index.txt',\n",
       " '/Users/Gian/GitHub/programming-for-analytics-course-material 9.27.13 PM/data/msft-1-jan15-oct15.csv',\n",
       " '/Users/Gian/GitHub/programming-for-analytics-course-material 9.27.13 PM/data/msft-2-jan14-dec14.csv',\n",
       " '/Users/Gian/GitHub/programming-for-analytics-course-material 9.27.13 PM/data/msft-3-mar86-dec13.csv',\n",
       " '/Users/Gian/GitHub/programming-for-analytics-course-material 9.27.13 PM/data/rcs.txt',\n",
       " '/Users/Gian/GitHub/programming-for-analytics-course-material 9.27.13 PM/data/README.md',\n",
       " '/Users/Gian/GitHub/programming-for-analytics-course-material 9.27.13 PM/data/salary_data.csv',\n",
       " '/Users/Gian/GitHub/programming-for-analytics-course-material 9.27.13 PM/data/sample-json-file.json',\n",
       " '/Users/Gian/GitHub/programming-for-analytics-course-material 9.27.13 PM/data/short_logs.crv',\n",
       " '/Users/Gian/GitHub/programming-for-analytics-course-material 9.27.13 PM/data/test.20160304-112209.json']"
      ]
     },
     "execution_count": 75,
     "metadata": {},
     "output_type": "execute_result"
    }
   ],
   "source": [
    "# Shows all actual files in this path\n",
    "complete_list_of_files = glob.glob(\"/Users/Gian/GitHub/programming-for-analytics-course-material 9.27.13 PM/data/*\")\n",
    "complete_list_of_files"
   ]
  },
  {
   "cell_type": "markdown",
   "metadata": {},
   "source": [
    "As seen above, a * is a wildcard, and allows for specifying to the `glob()` function, that you are interested in all files under `../programming-for-analytics-course-material/data`\n",
    "\n",
    "If we are only interested in a particular set of files, then we could also do something like-"
   ]
  },
  {
   "cell_type": "code",
   "execution_count": 76,
   "metadata": {
    "collapsed": false
   },
   "outputs": [
    {
     "data": {
      "text/plain": [
       "['/Users/Gian/GitHub/programming-for-analytics-course-material 9.27.13 PM/data/msft-1-jan15-oct15.csv',\n",
       " '/Users/Gian/GitHub/programming-for-analytics-course-material 9.27.13 PM/data/msft-2-jan14-dec14.csv',\n",
       " '/Users/Gian/GitHub/programming-for-analytics-course-material 9.27.13 PM/data/msft-3-mar86-dec13.csv']"
      ]
     },
     "execution_count": 76,
     "metadata": {},
     "output_type": "execute_result"
    }
   ],
   "source": [
    "# Shows only files in this path that start with msft\n",
    "files_msft = glob.glob(\"/Users/Gian/GitHub/programming-for-analytics-course-material 9.27.13 PM/data/msft*\")\n",
    "files_msft"
   ]
  },
  {
   "cell_type": "markdown",
   "metadata": {},
   "source": [
    "#### or"
   ]
  },
  {
   "cell_type": "code",
   "execution_count": 67,
   "metadata": {
    "collapsed": false
   },
   "outputs": [
    {
     "data": {
      "text/plain": [
       "['/Users/Gian/GitHub/programming-for-analytics-course-material 9.27.13 PM/data/aapl-1-jan15-oct15.csv',\n",
       " '/Users/Gian/GitHub/programming-for-analytics-course-material 9.27.13 PM/data/aapl-2-jan14-dec14.csv',\n",
       " '/Users/Gian/GitHub/programming-for-analytics-course-material 9.27.13 PM/data/aapl-3-dec80-dec13.csv']"
      ]
     },
     "execution_count": 67,
     "metadata": {},
     "output_type": "execute_result"
    }
   ],
   "source": [
    "# Shows only files in this path that starts with aap1\n",
    "files_aapl = glob.glob(\"/Users/Gian/GitHub/programming-for-analytics-course-material 9.27.13 PM/data/aapl*\")\n",
    "files_aapl"
   ]
  },
  {
   "cell_type": "markdown",
   "metadata": {},
   "source": [
    "#### or"
   ]
  },
  {
   "cell_type": "code",
   "execution_count": 68,
   "metadata": {
    "collapsed": false
   },
   "outputs": [
    {
     "data": {
      "text/plain": [
       "['/Users/Gian/GitHub/programming-for-analytics-course-material 9.27.13 PM/data/aapl-2-jan14-dec14.csv',\n",
       " '/Users/Gian/GitHub/programming-for-analytics-course-material 9.27.13 PM/data/msft-2-jan14-dec14.csv']"
      ]
     },
     "execution_count": 68,
     "metadata": {},
     "output_type": "execute_result"
    }
   ],
   "source": [
    "# Shows only files in this path that starts with two 14's\n",
    "files_2014 = glob.glob(\"/Users/Gian/GitHub/programming-for-analytics-course-material 9.27.13 PM/data/*14*14*\")\n",
    "files_2014"
   ]
  },
  {
   "cell_type": "markdown",
   "metadata": {},
   "source": [
    "### 2. Reading Files\n",
    "\n",
    "Let's say we have a file 'rcs.txt' which contains data in text format like this:\n",
    "\n",
    "    #freq (MHz)     vv (dB)     hh (dB)\n",
    "      100          -20.3       -31.2\n",
    "      200          -22.7       -33.6\n",
    "\n",
    "We'd like to get the data into a list of lists of floating point numbers in\n",
    "Python:\n",
    "\n",
    "    [[100.0, -20.3, -31.2],\n",
    "     [200.0, -22.7, -33.6]]\n",
    "\n",
    "We can open the file with the `open` function or the `file` type:\n",
    "\n",
    "#### `open()`/`file()`\n",
    "There are two ways to open files"
   ]
  },
  {
   "cell_type": "code",
   "execution_count": 69,
   "metadata": {
    "collapsed": false
   },
   "outputs": [],
   "source": [
    "# Read file using open() function\n",
    "file_in = open('/Users/Gian/GitHub/programming-for-analytics-course-material 9.27.13 PM/data/rcs.txt')"
   ]
  },
  {
   "cell_type": "markdown",
   "metadata": {},
   "source": [
    "#### or"
   ]
  },
  {
   "cell_type": "code",
   "execution_count": 70,
   "metadata": {
    "collapsed": true
   },
   "outputs": [],
   "source": [
    "# Read file using file() function\n",
    "file_in = file('/Users/Gian/GitHub/programming-for-analytics-course-material 9.27.13 PM/data/rcs.txt')"
   ]
  },
  {
   "cell_type": "markdown",
   "metadata": {},
   "source": [
    "#### or"
   ]
  },
  {
   "cell_type": "code",
   "execution_count": 71,
   "metadata": {
    "collapsed": true
   },
   "outputs": [],
   "source": [
    "# READ-ONLY file using open() function, BUT add a ,'r' after the file path\n",
    "file_in = open('/Users/Gian/GitHub/programming-for-analytics-course-material 9.27.13 PM/data/rcs.txt','r')"
   ]
  },
  {
   "cell_type": "markdown",
   "metadata": {},
   "source": [
    "Here the `'r'` specifies read-only mode\n",
    "\n",
    "#### `read()`\n",
    "You can read in the contents as a string using the `read()` method of the file object"
   ]
  },
  {
   "cell_type": "code",
   "execution_count": 72,
   "metadata": {
    "collapsed": true
   },
   "outputs": [],
   "source": [
    "text = file_in.read()"
   ]
  },
  {
   "cell_type": "code",
   "execution_count": 73,
   "metadata": {
    "collapsed": false
   },
   "outputs": [
    {
     "name": "stdout",
     "output_type": "stream",
     "text": [
      "#freq (MHz)     vv (dB)     hh (dB)\n",
      "  100          -20.3       -31.2\n",
      "  200          -22.7       -33.6\n",
      "\n"
     ]
    }
   ],
   "source": [
    "print text"
   ]
  },
  {
   "cell_type": "code",
   "execution_count": 74,
   "metadata": {
    "collapsed": false
   },
   "outputs": [
    {
     "data": {
      "text/plain": [
       "str"
      ]
     },
     "execution_count": 74,
     "metadata": {},
     "output_type": "execute_result"
    }
   ],
   "source": [
    "type(text)"
   ]
  },
  {
   "cell_type": "markdown",
   "metadata": {},
   "source": [
    "#### `readline()/readlines()`\n",
    "These functions allow you to read either a single line `readline()` or all lines as a list of lines `readlines()`\n",
    "<br>Lets open the file again"
   ]
  },
  {
   "cell_type": "code",
   "execution_count": 77,
   "metadata": {
    "collapsed": true
   },
   "outputs": [],
   "source": [
    "file_in = open('/Users/Gian/GitHub/programming-for-analytics-course-material 9.27.13 PM/data/rcs.txt','r')"
   ]
  },
  {
   "cell_type": "code",
   "execution_count": 78,
   "metadata": {
    "collapsed": false
   },
   "outputs": [
    {
     "data": {
      "text/plain": [
       "'#freq (MHz)     vv (dB)     hh (dB)\\n'"
      ]
     },
     "execution_count": 78,
     "metadata": {},
     "output_type": "execute_result"
    }
   ],
   "source": [
    "# reads first line\n",
    "file_in.readline()"
   ]
  },
  {
   "cell_type": "markdown",
   "metadata": {},
   "source": [
    "Call `readline()` again"
   ]
  },
  {
   "cell_type": "code",
   "execution_count": 79,
   "metadata": {
    "collapsed": false
   },
   "outputs": [
    {
     "data": {
      "text/plain": [
       "'  100          -20.3       -31.2\\n'"
      ]
     },
     "execution_count": 79,
     "metadata": {},
     "output_type": "execute_result"
    }
   ],
   "source": [
    "# reads next line\n",
    "file_in.readline()"
   ]
  },
  {
   "cell_type": "markdown",
   "metadata": {},
   "source": [
    "One more time-"
   ]
  },
  {
   "cell_type": "code",
   "execution_count": 80,
   "metadata": {
    "collapsed": false
   },
   "outputs": [
    {
     "data": {
      "text/plain": [
       "'  200          -22.7       -33.6\\n'"
      ]
     },
     "execution_count": 80,
     "metadata": {},
     "output_type": "execute_result"
    }
   ],
   "source": [
    "# reads next line\n",
    "file_in.readline()"
   ]
  },
  {
   "cell_type": "markdown",
   "metadata": {},
   "source": [
    "And now the last time!"
   ]
  },
  {
   "cell_type": "code",
   "execution_count": 81,
   "metadata": {
    "collapsed": false
   },
   "outputs": [
    {
     "data": {
      "text/plain": [
       "''"
      ]
     },
     "execution_count": 81,
     "metadata": {},
     "output_type": "execute_result"
    }
   ],
   "source": [
    "# reads final line\n",
    "file_in.readline()"
   ]
  },
  {
   "cell_type": "markdown",
   "metadata": {},
   "source": [
    "So from the above you note that `readline()` just went through each line in the file, however it did not go back to the start of the file once all lines were iterated over.\n",
    "<br><br> We also had to call the `readline()` function multiple times, which would mean any application requiring all lines to be read from a file, would need the programmer to write a `for` loop to get all lines. \n",
    "<br>A solution to this problem is using `readlines()`"
   ]
  },
  {
   "cell_type": "code",
   "execution_count": 86,
   "metadata": {
    "collapsed": true
   },
   "outputs": [],
   "source": [
    "file_in = open('/Users/Gian/GitHub/programming-for-analytics-course-material 9.27.13 PM/data/rcs.txt','r')"
   ]
  },
  {
   "cell_type": "code",
   "execution_count": 87,
   "metadata": {
    "collapsed": false
   },
   "outputs": [
    {
     "data": {
      "text/plain": [
       "['#freq (MHz)     vv (dB)     hh (dB)\\n',\n",
       " '  100          -20.3       -31.2\\n',\n",
       " '  200          -22.7       -33.6\\n']"
      ]
     },
     "execution_count": 87,
     "metadata": {},
     "output_type": "execute_result"
    }
   ],
   "source": [
    "# use readlines() to read MULTIPLE LINES\n",
    "file_in.readlines()"
   ]
  },
  {
   "cell_type": "code",
   "execution_count": 84,
   "metadata": {
    "collapsed": false
   },
   "outputs": [
    {
     "data": {
      "text/plain": [
       "[]"
      ]
     },
     "execution_count": 84,
     "metadata": {},
     "output_type": "execute_result"
    }
   ],
   "source": [
    "# if you readlines() again, it will be empty since you already read them all\n",
    "file_in.readlines()"
   ]
  },
  {
   "cell_type": "markdown",
   "metadata": {},
   "source": [
    "From the above we see that `readlines()` returns a list of lines, where each line in the file is an item in the list. \n",
    "\n",
    "<br>We did make a mistake, after reading all lines into a list, we never stored this anywhere"
   ]
  },
  {
   "cell_type": "code",
   "execution_count": 88,
   "metadata": {
    "collapsed": true
   },
   "outputs": [],
   "source": [
    "file_in = open('/Users/Gian/GitHub/programming-for-analytics-course-material 9.27.13 PM/data/rcs.txt','r')"
   ]
  },
  {
   "cell_type": "code",
   "execution_count": 89,
   "metadata": {
    "collapsed": true
   },
   "outputs": [],
   "source": [
    "# Save reading of all lines as a variable\n",
    "all_lines = file_in.readlines()"
   ]
  },
  {
   "cell_type": "code",
   "execution_count": 90,
   "metadata": {
    "collapsed": false
   },
   "outputs": [
    {
     "data": {
      "text/plain": [
       "['#freq (MHz)     vv (dB)     hh (dB)\\n',\n",
       " '  100          -20.3       -31.2\\n',\n",
       " '  200          -22.7       -33.6\\n']"
      ]
     },
     "execution_count": 90,
     "metadata": {},
     "output_type": "execute_result"
    }
   ],
   "source": [
    "# call variable so we can read all lines whenver we want\n",
    "all_lines"
   ]
  },
  {
   "cell_type": "markdown",
   "metadata": {},
   "source": [
    "#### `seek()`\n",
    "Up until now, each time we wanted to read lines from the file, we were opening the file repeatedly. There are a multitude of issues in carrying out this method of opening the same files repeatedly\n",
    "<br>1. There are multiple file handles open, all requiring memory! \n",
    "<br>2. There are file locks placed on each instance of opening the file\n",
    "<br><br>\n",
    "If all you need is to read the file from the top-"
   ]
  },
  {
   "cell_type": "code",
   "execution_count": 94,
   "metadata": {
    "collapsed": true
   },
   "outputs": [],
   "source": [
    "# Resets read lines to the beginning\n",
    "file_in.seek(0)"
   ]
  },
  {
   "cell_type": "code",
   "execution_count": 95,
   "metadata": {
    "collapsed": false
   },
   "outputs": [
    {
     "data": {
      "text/plain": [
       "['#freq (MHz)     vv (dB)     hh (dB)\\n',\n",
       " '  100          -20.3       -31.2\\n',\n",
       " '  200          -22.7       -33.6\\n']"
      ]
     },
     "execution_count": 95,
     "metadata": {},
     "output_type": "execute_result"
    }
   ],
   "source": [
    "file_in.readlines()"
   ]
  },
  {
   "cell_type": "markdown",
   "metadata": {},
   "source": [
    "The `seek(0)` function call tells the file handler to place i/o position at the beginning of the file. You can also place the i/o operation to take place at the end of the file with a `seek(-1)` call."
   ]
  },
  {
   "cell_type": "markdown",
   "metadata": {},
   "source": [
    "#### `close()`\n",
    "Each time we open a file, there should be a corresponding `close()` call that we should make at the end of the file i/o. This closes access to the file on the system disk"
   ]
  },
  {
   "cell_type": "code",
   "execution_count": 96,
   "metadata": {
    "collapsed": true
   },
   "outputs": [],
   "source": [
    "# MUST close file when you're done or else it will eat up memory\n",
    "file_in.close()"
   ]
  },
  {
   "cell_type": "markdown",
   "metadata": {},
   "source": [
    "### 3. Writing Files\n",
    "You will, from time-to-time, write files to disk as well-"
   ]
  },
  {
   "cell_type": "code",
   "execution_count": 97,
   "metadata": {
    "collapsed": true
   },
   "outputs": [],
   "source": [
    "# since we opened with a ,'w' now we can write to it\n",
    "file_out = open('/Users/Gian/GitHub/programming-for-analytics-course-material 9.27.13 PM/data/index.txt','w')"
   ]
  },
  {
   "cell_type": "markdown",
   "metadata": {},
   "source": [
    "The only difference between reading and writing to a file is switching the mode from `'r'` to `'w'`"
   ]
  },
  {
   "cell_type": "markdown",
   "metadata": {},
   "source": [
    "Lets get a complete list of files for our data directory"
   ]
  },
  {
   "cell_type": "code",
   "execution_count": 98,
   "metadata": {
    "collapsed": true
   },
   "outputs": [],
   "source": [
    "complete_list_of_files = glob.glob('/Users/Gian/GitHub/programming-for-analytics-course-material 9.27.13 PM/data/*')"
   ]
  },
  {
   "cell_type": "code",
   "execution_count": 99,
   "metadata": {
    "collapsed": false
   },
   "outputs": [
    {
     "data": {
      "text/plain": [
       "['/Users/Gian/GitHub/programming-for-analytics-course-material 9.27.13 PM/data/aapl-1-jan15-oct15.csv',\n",
       " '/Users/Gian/GitHub/programming-for-analytics-course-material 9.27.13 PM/data/aapl-2-jan14-dec14.csv',\n",
       " '/Users/Gian/GitHub/programming-for-analytics-course-material 9.27.13 PM/data/aapl-3-dec80-dec13.csv',\n",
       " '/Users/Gian/GitHub/programming-for-analytics-course-material 9.27.13 PM/data/best-sandwiches.csv',\n",
       " '/Users/Gian/GitHub/programming-for-analytics-course-material 9.27.13 PM/data/Divvy_Stations_2013.csv',\n",
       " '/Users/Gian/GitHub/programming-for-analytics-course-material 9.27.13 PM/data/Divvy_Trips_2013.csv',\n",
       " '/Users/Gian/GitHub/programming-for-analytics-course-material 9.27.13 PM/data/index.txt',\n",
       " '/Users/Gian/GitHub/programming-for-analytics-course-material 9.27.13 PM/data/msft-1-jan15-oct15.csv',\n",
       " '/Users/Gian/GitHub/programming-for-analytics-course-material 9.27.13 PM/data/msft-2-jan14-dec14.csv',\n",
       " '/Users/Gian/GitHub/programming-for-analytics-course-material 9.27.13 PM/data/msft-3-mar86-dec13.csv',\n",
       " '/Users/Gian/GitHub/programming-for-analytics-course-material 9.27.13 PM/data/rcs.txt',\n",
       " '/Users/Gian/GitHub/programming-for-analytics-course-material 9.27.13 PM/data/README.md',\n",
       " '/Users/Gian/GitHub/programming-for-analytics-course-material 9.27.13 PM/data/salary_data.csv',\n",
       " '/Users/Gian/GitHub/programming-for-analytics-course-material 9.27.13 PM/data/sample-json-file.json',\n",
       " '/Users/Gian/GitHub/programming-for-analytics-course-material 9.27.13 PM/data/short_logs.crv',\n",
       " '/Users/Gian/GitHub/programming-for-analytics-course-material 9.27.13 PM/data/test.20160304-112209.json']"
      ]
     },
     "execution_count": 99,
     "metadata": {},
     "output_type": "execute_result"
    }
   ],
   "source": [
    "complete_list_of_files"
   ]
  },
  {
   "cell_type": "markdown",
   "metadata": {},
   "source": [
    "#### `write()`\n",
    "function to write a single line to a file. \n",
    "<br>\n",
    "We are going to store the list of files and their paths to a text file called `index.txt`"
   ]
  },
  {
   "cell_type": "code",
   "execution_count": 100,
   "metadata": {
    "collapsed": true
   },
   "outputs": [],
   "source": [
    "# Write a line to the file \"index.txt\"\n",
    "for line in complete_list_of_files:\n",
    "    file_out.write(line)\n",
    "file_out.close()"
   ]
  },
  {
   "cell_type": "markdown",
   "metadata": {},
   "source": [
    "##### Open the index.txt file, and check what you wrote to the file"
   ]
  },
  {
   "cell_type": "markdown",
   "metadata": {},
   "source": [
    "Everything seems to be in a single paragraph. This is because you are not specifying that each line should be on its own line in the file.\n",
    "\n",
    "#### `writelines()`\n",
    "No more for loops requires for writing each line."
   ]
  },
  {
   "cell_type": "code",
   "execution_count": 102,
   "metadata": {
    "collapsed": true
   },
   "outputs": [],
   "source": [
    "# Open index.txt and write to it, write line from complete_list_of_files, and close file\n",
    "file_out = open('/Users/Gian/GitHub/programming-for-analytics-course-material 9.27.13 PM/data/index.txt','w')\n",
    "file_out.writelines('\\n'.join(complete_list_of_files))\n",
    "file_out.close()"
   ]
  },
  {
   "cell_type": "markdown",
   "metadata": {},
   "source": [
    "### 4. Closing Files\n",
    "We have already seen the function `close()` to close files.\n",
    "\n",
    "There is definitely a drawback with this method. It has to be called explicity. If in case your program suddenly stops execution and exits, your file handles will not be closed, and as such the files will have write locks on them.\n",
    "\n",
    "#### `try` - `finally`\n",
    "This block of statement makes sure your file is closed in case the program exits abruptly"
   ]
  },
  {
   "cell_type": "code",
   "execution_count": 104,
   "metadata": {
    "collapsed": true
   },
   "outputs": [],
   "source": [
    "file_in = open('/Users/Gian/GitHub/programming-for-analytics-course-material 9.27.13 PM/data/rcs.txt','r')"
   ]
  },
  {
   "cell_type": "code",
   "execution_count": null,
   "metadata": {
    "collapsed": false
   },
   "outputs": [],
   "source": [
    "# try will read lines and finally will close them when the function is done and after creating your \"all_lines\" variable\n",
    "try:\n",
    "    all_lines = file_in.readlines()\n",
    "finally:\n",
    "    file_in.close()\n",
    "all_lines"
   ]
  },
  {
   "cell_type": "markdown",
   "metadata": {},
   "source": [
    "However we had to write quite a few statements to get this working. We can make this a lot nicer - \n",
    "\n",
    "#### `with`\n",
    "\n",
    "first lets clear our variable `all_lines`"
   ]
  },
  {
   "cell_type": "code",
   "execution_count": 106,
   "metadata": {
    "collapsed": false
   },
   "outputs": [],
   "source": [
    "# create an empty list\n",
    "all_lines = []"
   ]
  },
  {
   "cell_type": "code",
   "execution_count": null,
   "metadata": {
    "collapsed": false
   },
   "outputs": [],
   "source": [
    "# Open file to read and store all read lines into variable all_lines\n",
    "# Using the with and as function will open and then close file when you're done with the loop\n",
    "with open('/Users/Gian/GitHub/programming-for-analytics-course-material 9.27.13 PM/data/rcs.txt','r') as file_in:\n",
    "    all_lines = file_in.readlines()\n",
    "all_lines"
   ]
  },
  {
   "cell_type": "markdown",
   "metadata": {},
   "source": [
    "### 5. Exercises!\n",
    "#### Q1. \n",
    "Read in a set of logs from an ASCII file.\n",
    "\n",
    "Read in the logs found in the file `short_logs.crv`.\n",
    "The logs are arranged as follows::\n",
    "\n",
    "    DEPTH    S-SONIC    P-SONIC ...\n",
    "    8922.0   171.7472   86.5657\n",
    "    8922.5   171.7398   86.5638\n",
    "    8923.0   171.7325   86.5619\n",
    "    8923.5   171.7287   86.5600\n",
    "    ...\n",
    "\n",
    "So the first line is a list of log names for each column of numbers.\n",
    "The columns are the log values for the given log.\n",
    "\n",
    "Make a dictionary with keys as the log names and values as the\n",
    "log data::\n",
    "\n",
    "    logs['DEPTH']\n",
    "    [8922.0, 8922.5, 8923.0, ...]\n",
    "    logs['S-SONIC']\n",
    "    [171.7472, 171.7398, 171.7325, ...]\n",
    "    "
   ]
  },
  {
   "cell_type": "code",
   "execution_count": 109,
   "metadata": {
    "collapsed": false
   },
   "outputs": [],
   "source": [
    "logs = {}"
   ]
  },
  {
   "cell_type": "code",
   "execution_count": null,
   "metadata": {
    "collapsed": true
   },
   "outputs": [],
   "source": [
    "log_file = open('/Users/Gian/GitHub/programming-for-analytics-course-material 9.27.13 PM/data/short_logs.crv')\n",
    "                \n",
    "# The first line is a header tha has all the log names:\n",
    "    for name in log_names:\n",
    "    log[name] = []\n",
    "                \n",
    "    for line in log_file:\n",
    "    values = [float(val) for val in line.split()]\n",
    "    for i, name in enumarate(log_names):\n",
    "    log[name].append(values[i])\n",
    "                \n",
    "log_file.close()\n",
    "                \n",
    "print 'DEPTH', logs['DEPTH'][:10]"
   ]
  },
  {
   "cell_type": "markdown",
   "metadata": {},
   "source": [
    "#### Q2.\n",
    "The files aapl\\*, msft\\* contain trading data.  Data is\n",
    "arranged in the file is in comma seprarated format-\n",
    "\n",
    "    Date,Open,High,Low,Close,Volume,Adj Close\n",
    "    2015-10-21,114.00,115.580002,113.699997,113.760002,41795200,113.760002\n",
    "    2015-10-20,111.339996,114.169998,110.82,113.769997,48778800,113.769997\n",
    "    2015-10-19,110.800003,111.75,110.110001,111.730003,29606100,111.730003\n",
    "    2015-10-16,111.779999,112.00,110.529999,111.040001,38236300,111.040001\n",
    "    2015-10-15,110.93,112.099998,110.489998,111.860001,37341000,111.860001\n",
    "\n",
    "In this exercise you will write two functions: one that reads\n",
    "in data from files of this format, and one which writes data\n",
    "out to files of this format.\n",
    "##### a)\n",
    "You should be able to provide a name of the company such as- `aapl` alongwith the directory where the files might be located, and let the read function discover all the files. \n",
    "The data read in should be stored in a `dict` object and keyed on the date.\n",
    "##### b) \n",
    "Append all `dict` objects together.\n",
    "##### c) \n",
    "Write a function that accepts name of the company such as - `aapl` and a `dict` object with all the financial data concatenated. \n",
    "This function should write out all the data to a single file with the name such as- \n",
    "`aapl-mmmyy-mmmyy.csv`"
   ]
  },
  {
   "cell_type": "code",
   "execution_count": null,
   "metadata": {
    "collapsed": true
   },
   "outputs": [],
   "source": [
    "############################## THIS IS HOMEWORK for msft and appl files (there are 3 of each of them)\n",
    "############################## THIS IS HOMEWORK\n",
    "############################## THIS IS HOMEWORK\n",
    "############################## THIS IS HOMEWORK\n",
    "############################## THIS IS HOMEWORK\n",
    "############################## THIS IS HOMEWORK\n",
    "############################## THIS IS HOMEWORK\n"
   ]
  },
  {
   "cell_type": "code",
   "execution_count": null,
   "metadata": {
    "collapsed": true
   },
   "outputs": [],
   "source": [
    "# start of financial data\n",
    "# 3 appl files will be found, concatenated, and write on file"
   ]
  },
  {
   "cell_type": "markdown",
   "metadata": {},
   "source": [
    "## DataFrames!\n",
    "Our data is represented by a DataFrame. You can think of data frames as a giant spreadsheet which you can program. It's a collection of series (or columns) with a common set of commands that make managing data in Python super easy.\n",
    "\n",
    "### 1. `pandas`\n",
    "`pandas` is an open source, BSD-licensed library providing high-performance, easy-to-use data structures and data analysis tools for the Python programming language."
   ]
  },
  {
   "cell_type": "code",
   "execution_count": 111,
   "metadata": {
    "collapsed": true
   },
   "outputs": [],
   "source": [
    "# import this library called pandas which is good for data structures and data analysis\n",
    "import pandas as pd"
   ]
  },
  {
   "cell_type": "markdown",
   "metadata": {},
   "source": [
    "#### `read_csv()`\n",
    "this function, and a variety of other read functions under pandas have been created to read in different file formats\n",
    "\n",
    "Lets read in the `best-sandwiches` dataset"
   ]
  },
  {
   "cell_type": "code",
   "execution_count": 113,
   "metadata": {
    "collapsed": false
   },
   "outputs": [],
   "source": [
    "# Read filetype using pandas function pd.read_csv()\n",
    "best_sws_df = pd.read_csv('/Users/Gian/GitHub/programming-for-analytics-course-material 9.27.13 PM/data/best-sandwiches.csv')"
   ]
  },
  {
   "cell_type": "markdown",
   "metadata": {},
   "source": [
    "#### `head()`\n",
    "the head function allows us to peek at the first few rows of the df"
   ]
  },
  {
   "cell_type": "code",
   "execution_count": 115,
   "metadata": {
    "collapsed": false
   },
   "outputs": [
    {
     "data": {
      "text/html": [
       "<div>\n",
       "<table border=\"1\" class=\"dataframe\">\n",
       "  <thead>\n",
       "    <tr style=\"text-align: right;\">\n",
       "      <th></th>\n",
       "      <th>rank</th>\n",
       "      <th>sandwich</th>\n",
       "      <th>restaurant</th>\n",
       "      <th>description</th>\n",
       "      <th>price</th>\n",
       "      <th>address</th>\n",
       "      <th>city</th>\n",
       "      <th>phone</th>\n",
       "      <th>website</th>\n",
       "      <th>full_address</th>\n",
       "      <th>formatted_address</th>\n",
       "      <th>lat</th>\n",
       "      <th>lng</th>\n",
       "    </tr>\n",
       "  </thead>\n",
       "  <tbody>\n",
       "    <tr>\n",
       "      <th>0</th>\n",
       "      <td>1</td>\n",
       "      <td>BLT</td>\n",
       "      <td>Old Oak Tap</td>\n",
       "      <td>The B is applewood smoked&amp;mdash;nice and snapp...</td>\n",
       "      <td>$10</td>\n",
       "      <td>2109 W. Chicago Ave.</td>\n",
       "      <td>Chicago</td>\n",
       "      <td>773-772-0406</td>\n",
       "      <td>theoldoaktap.com</td>\n",
       "      <td>2109 W. Chicago Ave., Chicago</td>\n",
       "      <td>2109 West Chicago Avenue, Chicago, IL 60622, USA</td>\n",
       "      <td>41.895734</td>\n",
       "      <td>-87.679960</td>\n",
       "    </tr>\n",
       "    <tr>\n",
       "      <th>1</th>\n",
       "      <td>2</td>\n",
       "      <td>Fried Bologna</td>\n",
       "      <td>Au Cheval</td>\n",
       "      <td>Thought your bologna-eating days had retired w...</td>\n",
       "      <td>$9</td>\n",
       "      <td>800 W. Randolph St.</td>\n",
       "      <td>Chicago</td>\n",
       "      <td>312-929-4580</td>\n",
       "      <td>aucheval.tumblr.com</td>\n",
       "      <td>800 W. Randolph St., Chicago</td>\n",
       "      <td>800 West Randolph Street, Chicago, IL 60607, USA</td>\n",
       "      <td>41.884672</td>\n",
       "      <td>-87.647754</td>\n",
       "    </tr>\n",
       "    <tr>\n",
       "      <th>2</th>\n",
       "      <td>3</td>\n",
       "      <td>Woodland Mushroom</td>\n",
       "      <td>Xoco</td>\n",
       "      <td>Leave it to Rick Bayless and crew to come up w...</td>\n",
       "      <td>$9.50.</td>\n",
       "      <td>445 N. Clark St.</td>\n",
       "      <td>Chicago</td>\n",
       "      <td>312-334-3688</td>\n",
       "      <td>rickbayless.com</td>\n",
       "      <td>445 N. Clark St., Chicago</td>\n",
       "      <td>445 North Clark Street, Chicago, IL 60654, USA</td>\n",
       "      <td>41.890602</td>\n",
       "      <td>-87.630925</td>\n",
       "    </tr>\n",
       "    <tr>\n",
       "      <th>3</th>\n",
       "      <td>4</td>\n",
       "      <td>Roast Beef</td>\n",
       "      <td>Al&amp;rsquo;s Deli</td>\n",
       "      <td>The Francophile brothers behind this deli, whi...</td>\n",
       "      <td>$9.40.</td>\n",
       "      <td>914 Noyes St.</td>\n",
       "      <td>Evanston</td>\n",
       "      <td>NaN</td>\n",
       "      <td>alsdeli.net</td>\n",
       "      <td>914 Noyes St., Evanston</td>\n",
       "      <td>914 Noyes Street, Evanston, IL 60201, USA</td>\n",
       "      <td>42.058442</td>\n",
       "      <td>-87.684425</td>\n",
       "    </tr>\n",
       "    <tr>\n",
       "      <th>4</th>\n",
       "      <td>5</td>\n",
       "      <td>PB&amp;amp;L</td>\n",
       "      <td>Publican Qualty Meats</td>\n",
       "      <td>When this place opened in February, it quickly...</td>\n",
       "      <td>$10</td>\n",
       "      <td>825 W. Fulton Mkt.</td>\n",
       "      <td>Chicago</td>\n",
       "      <td>312-445-8977</td>\n",
       "      <td>publicanqualitymeats.com</td>\n",
       "      <td>825 W. Fulton Mkt., Chicago</td>\n",
       "      <td>825 West Fulton Market, Chicago, IL 60607, USA</td>\n",
       "      <td>41.886637</td>\n",
       "      <td>-87.648553</td>\n",
       "    </tr>\n",
       "  </tbody>\n",
       "</table>\n",
       "</div>"
      ],
      "text/plain": [
       "   rank           sandwich             restaurant  \\\n",
       "0     1                BLT            Old Oak Tap   \n",
       "1     2      Fried Bologna              Au Cheval   \n",
       "2     3  Woodland Mushroom                   Xoco   \n",
       "3     4         Roast Beef        Al&rsquo;s Deli   \n",
       "4     5           PB&amp;L  Publican Qualty Meats   \n",
       "\n",
       "                                         description   price  \\\n",
       "0  The B is applewood smoked&mdash;nice and snapp...     $10   \n",
       "1  Thought your bologna-eating days had retired w...      $9   \n",
       "2  Leave it to Rick Bayless and crew to come up w...  $9.50.   \n",
       "3  The Francophile brothers behind this deli, whi...  $9.40.   \n",
       "4  When this place opened in February, it quickly...     $10   \n",
       "\n",
       "                address      city         phone                   website  \\\n",
       "0  2109 W. Chicago Ave.   Chicago  773-772-0406          theoldoaktap.com   \n",
       "1   800 W. Randolph St.   Chicago  312-929-4580       aucheval.tumblr.com   \n",
       "2      445 N. Clark St.   Chicago  312-334-3688           rickbayless.com   \n",
       "3         914 Noyes St.  Evanston           NaN               alsdeli.net   \n",
       "4    825 W. Fulton Mkt.   Chicago  312-445-8977  publicanqualitymeats.com   \n",
       "\n",
       "                    full_address  \\\n",
       "0  2109 W. Chicago Ave., Chicago   \n",
       "1   800 W. Randolph St., Chicago   \n",
       "2      445 N. Clark St., Chicago   \n",
       "3        914 Noyes St., Evanston   \n",
       "4    825 W. Fulton Mkt., Chicago   \n",
       "\n",
       "                                  formatted_address        lat        lng  \n",
       "0  2109 West Chicago Avenue, Chicago, IL 60622, USA  41.895734 -87.679960  \n",
       "1  800 West Randolph Street, Chicago, IL 60607, USA  41.884672 -87.647754  \n",
       "2    445 North Clark Street, Chicago, IL 60654, USA  41.890602 -87.630925  \n",
       "3         914 Noyes Street, Evanston, IL 60201, USA  42.058442 -87.684425  \n",
       "4    825 West Fulton Market, Chicago, IL 60607, USA  41.886637 -87.648553  "
      ]
     },
     "execution_count": 115,
     "metadata": {},
     "output_type": "execute_result"
    }
   ],
   "source": [
    "# head() shows first 5 rows of values\n",
    "best_sws_df.head()"
   ]
  },
  {
   "cell_type": "markdown",
   "metadata": {},
   "source": [
    "By default the `head()` function only displays the first few rows of data... to be precise, 5 rows. \n",
    "\n",
    "We can display `n` rows of data from the top-"
   ]
  },
  {
   "cell_type": "code",
   "execution_count": 116,
   "metadata": {
    "collapsed": false
   },
   "outputs": [
    {
     "data": {
      "text/html": [
       "<div>\n",
       "<table border=\"1\" class=\"dataframe\">\n",
       "  <thead>\n",
       "    <tr style=\"text-align: right;\">\n",
       "      <th></th>\n",
       "      <th>rank</th>\n",
       "      <th>sandwich</th>\n",
       "      <th>restaurant</th>\n",
       "      <th>description</th>\n",
       "      <th>price</th>\n",
       "      <th>address</th>\n",
       "      <th>city</th>\n",
       "      <th>phone</th>\n",
       "      <th>website</th>\n",
       "      <th>full_address</th>\n",
       "      <th>formatted_address</th>\n",
       "      <th>lat</th>\n",
       "      <th>lng</th>\n",
       "    </tr>\n",
       "  </thead>\n",
       "  <tbody>\n",
       "    <tr>\n",
       "      <th>0</th>\n",
       "      <td>1</td>\n",
       "      <td>BLT</td>\n",
       "      <td>Old Oak Tap</td>\n",
       "      <td>The B is applewood smoked&amp;mdash;nice and snapp...</td>\n",
       "      <td>$10</td>\n",
       "      <td>2109 W. Chicago Ave.</td>\n",
       "      <td>Chicago</td>\n",
       "      <td>773-772-0406</td>\n",
       "      <td>theoldoaktap.com</td>\n",
       "      <td>2109 W. Chicago Ave., Chicago</td>\n",
       "      <td>2109 West Chicago Avenue, Chicago, IL 60622, USA</td>\n",
       "      <td>41.895734</td>\n",
       "      <td>-87.679960</td>\n",
       "    </tr>\n",
       "    <tr>\n",
       "      <th>1</th>\n",
       "      <td>2</td>\n",
       "      <td>Fried Bologna</td>\n",
       "      <td>Au Cheval</td>\n",
       "      <td>Thought your bologna-eating days had retired w...</td>\n",
       "      <td>$9</td>\n",
       "      <td>800 W. Randolph St.</td>\n",
       "      <td>Chicago</td>\n",
       "      <td>312-929-4580</td>\n",
       "      <td>aucheval.tumblr.com</td>\n",
       "      <td>800 W. Randolph St., Chicago</td>\n",
       "      <td>800 West Randolph Street, Chicago, IL 60607, USA</td>\n",
       "      <td>41.884672</td>\n",
       "      <td>-87.647754</td>\n",
       "    </tr>\n",
       "    <tr>\n",
       "      <th>2</th>\n",
       "      <td>3</td>\n",
       "      <td>Woodland Mushroom</td>\n",
       "      <td>Xoco</td>\n",
       "      <td>Leave it to Rick Bayless and crew to come up w...</td>\n",
       "      <td>$9.50.</td>\n",
       "      <td>445 N. Clark St.</td>\n",
       "      <td>Chicago</td>\n",
       "      <td>312-334-3688</td>\n",
       "      <td>rickbayless.com</td>\n",
       "      <td>445 N. Clark St., Chicago</td>\n",
       "      <td>445 North Clark Street, Chicago, IL 60654, USA</td>\n",
       "      <td>41.890602</td>\n",
       "      <td>-87.630925</td>\n",
       "    </tr>\n",
       "    <tr>\n",
       "      <th>3</th>\n",
       "      <td>4</td>\n",
       "      <td>Roast Beef</td>\n",
       "      <td>Al&amp;rsquo;s Deli</td>\n",
       "      <td>The Francophile brothers behind this deli, whi...</td>\n",
       "      <td>$9.40.</td>\n",
       "      <td>914 Noyes St.</td>\n",
       "      <td>Evanston</td>\n",
       "      <td>NaN</td>\n",
       "      <td>alsdeli.net</td>\n",
       "      <td>914 Noyes St., Evanston</td>\n",
       "      <td>914 Noyes Street, Evanston, IL 60201, USA</td>\n",
       "      <td>42.058442</td>\n",
       "      <td>-87.684425</td>\n",
       "    </tr>\n",
       "    <tr>\n",
       "      <th>4</th>\n",
       "      <td>5</td>\n",
       "      <td>PB&amp;amp;L</td>\n",
       "      <td>Publican Qualty Meats</td>\n",
       "      <td>When this place opened in February, it quickly...</td>\n",
       "      <td>$10</td>\n",
       "      <td>825 W. Fulton Mkt.</td>\n",
       "      <td>Chicago</td>\n",
       "      <td>312-445-8977</td>\n",
       "      <td>publicanqualitymeats.com</td>\n",
       "      <td>825 W. Fulton Mkt., Chicago</td>\n",
       "      <td>825 West Fulton Market, Chicago, IL 60607, USA</td>\n",
       "      <td>41.886637</td>\n",
       "      <td>-87.648553</td>\n",
       "    </tr>\n",
       "    <tr>\n",
       "      <th>5</th>\n",
       "      <td>6</td>\n",
       "      <td>Belgian Chicken Curry Salad</td>\n",
       "      <td>Hendrickx Belgian Bread Crafter</td>\n",
       "      <td>The mom-and-pop aesthetic is a yeast-scented b...</td>\n",
       "      <td>$7.25.</td>\n",
       "      <td>100 E. Walton St.</td>\n",
       "      <td>Chicago</td>\n",
       "      <td>312-649-6717</td>\n",
       "      <td>NaN</td>\n",
       "      <td>100 E. Walton St., Chicago</td>\n",
       "      <td>100 East Walton Street, Chicago, IL 60611, USA</td>\n",
       "      <td>41.900246</td>\n",
       "      <td>-87.625163</td>\n",
       "    </tr>\n",
       "    <tr>\n",
       "      <th>6</th>\n",
       "      <td>7</td>\n",
       "      <td>Lobster Roll</td>\n",
       "      <td>Acadia</td>\n",
       "      <td>In a town that recently discovered the joys of...</td>\n",
       "      <td>$16</td>\n",
       "      <td>1639 S. Wabash Ave.</td>\n",
       "      <td>Chicago</td>\n",
       "      <td>312-360-9500</td>\n",
       "      <td>acadiachicago.com</td>\n",
       "      <td>1639 S. Wabash Ave., Chicago</td>\n",
       "      <td>1639 South Wabash Avenue, Chicago, IL 60616, USA</td>\n",
       "      <td>41.858965</td>\n",
       "      <td>-87.625142</td>\n",
       "    </tr>\n",
       "    <tr>\n",
       "      <th>7</th>\n",
       "      <td>8</td>\n",
       "      <td>Smoked Salmon Salad</td>\n",
       "      <td>Birchwood Kitchen</td>\n",
       "      <td>Birchwood&amp;rsquo;s sandwich-slinging virtuosos ...</td>\n",
       "      <td>$10</td>\n",
       "      <td>2211 W. North Ave.</td>\n",
       "      <td>Chicago</td>\n",
       "      <td>773-276-2100</td>\n",
       "      <td>birchwoodkitchen.com</td>\n",
       "      <td>2211 W. North Ave., Chicago</td>\n",
       "      <td>2211 West North Avenue, Chicago, IL 60647, USA</td>\n",
       "      <td>41.910324</td>\n",
       "      <td>-87.682842</td>\n",
       "    </tr>\n",
       "    <tr>\n",
       "      <th>8</th>\n",
       "      <td>9</td>\n",
       "      <td>Atomica Cemitas</td>\n",
       "      <td>Cemitas Puebla</td>\n",
       "      <td>Standing three inches high, the Atomica is som...</td>\n",
       "      <td>$9</td>\n",
       "      <td>3619 W. North Ave.</td>\n",
       "      <td>Chicago</td>\n",
       "      <td>773-772-8435</td>\n",
       "      <td>cemitaspuebla.com</td>\n",
       "      <td>3619 W. North Ave., Chicago</td>\n",
       "      <td>3619 West North Avenue, Chicago, IL 60647, USA</td>\n",
       "      <td>41.909850</td>\n",
       "      <td>-87.717581</td>\n",
       "    </tr>\n",
       "    <tr>\n",
       "      <th>9</th>\n",
       "      <td>10</td>\n",
       "      <td>Grilled Laughing Bird Shrimp and Fried Oyster ...</td>\n",
       "      <td>Nana</td>\n",
       "      <td>Grilled Laughing Bird shrimp and fried oyster ...</td>\n",
       "      <td>$17</td>\n",
       "      <td>3267 S. Halsted St.</td>\n",
       "      <td>Chicago</td>\n",
       "      <td>312-929-2486</td>\n",
       "      <td>nanaorganic.com</td>\n",
       "      <td>3267 S. Halsted St., Chicago</td>\n",
       "      <td>3267 South Halsted Street, Chicago, IL 60608, USA</td>\n",
       "      <td>41.834559</td>\n",
       "      <td>-87.646049</td>\n",
       "    </tr>\n",
       "  </tbody>\n",
       "</table>\n",
       "</div>"
      ],
      "text/plain": [
       "   rank                                           sandwich  \\\n",
       "0     1                                                BLT   \n",
       "1     2                                      Fried Bologna   \n",
       "2     3                                  Woodland Mushroom   \n",
       "3     4                                         Roast Beef   \n",
       "4     5                                           PB&amp;L   \n",
       "5     6                        Belgian Chicken Curry Salad   \n",
       "6     7                                       Lobster Roll   \n",
       "7     8                                Smoked Salmon Salad   \n",
       "8     9                                    Atomica Cemitas   \n",
       "9    10  Grilled Laughing Bird Shrimp and Fried Oyster ...   \n",
       "\n",
       "                        restaurant  \\\n",
       "0                      Old Oak Tap   \n",
       "1                        Au Cheval   \n",
       "2                             Xoco   \n",
       "3                  Al&rsquo;s Deli   \n",
       "4            Publican Qualty Meats   \n",
       "5  Hendrickx Belgian Bread Crafter   \n",
       "6                           Acadia   \n",
       "7                Birchwood Kitchen   \n",
       "8                   Cemitas Puebla   \n",
       "9                             Nana   \n",
       "\n",
       "                                         description   price  \\\n",
       "0  The B is applewood smoked&mdash;nice and snapp...     $10   \n",
       "1  Thought your bologna-eating days had retired w...      $9   \n",
       "2  Leave it to Rick Bayless and crew to come up w...  $9.50.   \n",
       "3  The Francophile brothers behind this deli, whi...  $9.40.   \n",
       "4  When this place opened in February, it quickly...     $10   \n",
       "5  The mom-and-pop aesthetic is a yeast-scented b...  $7.25.   \n",
       "6  In a town that recently discovered the joys of...     $16   \n",
       "7  Birchwood&rsquo;s sandwich-slinging virtuosos ...     $10   \n",
       "8  Standing three inches high, the Atomica is som...      $9   \n",
       "9  Grilled Laughing Bird shrimp and fried oyster ...     $17   \n",
       "\n",
       "                address      city         phone                   website  \\\n",
       "0  2109 W. Chicago Ave.   Chicago  773-772-0406          theoldoaktap.com   \n",
       "1   800 W. Randolph St.   Chicago  312-929-4580       aucheval.tumblr.com   \n",
       "2      445 N. Clark St.   Chicago  312-334-3688           rickbayless.com   \n",
       "3         914 Noyes St.  Evanston           NaN               alsdeli.net   \n",
       "4    825 W. Fulton Mkt.   Chicago  312-445-8977  publicanqualitymeats.com   \n",
       "5     100 E. Walton St.   Chicago  312-649-6717                       NaN   \n",
       "6   1639 S. Wabash Ave.   Chicago  312-360-9500         acadiachicago.com   \n",
       "7    2211 W. North Ave.   Chicago  773-276-2100      birchwoodkitchen.com   \n",
       "8    3619 W. North Ave.   Chicago  773-772-8435         cemitaspuebla.com   \n",
       "9   3267 S. Halsted St.   Chicago  312-929-2486           nanaorganic.com   \n",
       "\n",
       "                    full_address  \\\n",
       "0  2109 W. Chicago Ave., Chicago   \n",
       "1   800 W. Randolph St., Chicago   \n",
       "2      445 N. Clark St., Chicago   \n",
       "3        914 Noyes St., Evanston   \n",
       "4    825 W. Fulton Mkt., Chicago   \n",
       "5     100 E. Walton St., Chicago   \n",
       "6   1639 S. Wabash Ave., Chicago   \n",
       "7    2211 W. North Ave., Chicago   \n",
       "8    3619 W. North Ave., Chicago   \n",
       "9   3267 S. Halsted St., Chicago   \n",
       "\n",
       "                                   formatted_address        lat        lng  \n",
       "0   2109 West Chicago Avenue, Chicago, IL 60622, USA  41.895734 -87.679960  \n",
       "1   800 West Randolph Street, Chicago, IL 60607, USA  41.884672 -87.647754  \n",
       "2     445 North Clark Street, Chicago, IL 60654, USA  41.890602 -87.630925  \n",
       "3          914 Noyes Street, Evanston, IL 60201, USA  42.058442 -87.684425  \n",
       "4     825 West Fulton Market, Chicago, IL 60607, USA  41.886637 -87.648553  \n",
       "5     100 East Walton Street, Chicago, IL 60611, USA  41.900246 -87.625163  \n",
       "6   1639 South Wabash Avenue, Chicago, IL 60616, USA  41.858965 -87.625142  \n",
       "7     2211 West North Avenue, Chicago, IL 60647, USA  41.910324 -87.682842  \n",
       "8     3619 West North Avenue, Chicago, IL 60647, USA  41.909850 -87.717581  \n",
       "9  3267 South Halsted Street, Chicago, IL 60608, USA  41.834559 -87.646049  "
      ]
     },
     "execution_count": 116,
     "metadata": {},
     "output_type": "execute_result"
    }
   ],
   "source": [
    "# shows first 10 lines\n",
    "best_sws_df.head(10)"
   ]
  },
  {
   "cell_type": "markdown",
   "metadata": {},
   "source": [
    "#### `tail()`\n",
    "the tail function allows us to peek at the last few rows of the df"
   ]
  },
  {
   "cell_type": "code",
   "execution_count": 117,
   "metadata": {
    "collapsed": false
   },
   "outputs": [
    {
     "data": {
      "text/html": [
       "<div>\n",
       "<table border=\"1\" class=\"dataframe\">\n",
       "  <thead>\n",
       "    <tr style=\"text-align: right;\">\n",
       "      <th></th>\n",
       "      <th>rank</th>\n",
       "      <th>sandwich</th>\n",
       "      <th>restaurant</th>\n",
       "      <th>description</th>\n",
       "      <th>price</th>\n",
       "      <th>address</th>\n",
       "      <th>city</th>\n",
       "      <th>phone</th>\n",
       "      <th>website</th>\n",
       "      <th>full_address</th>\n",
       "      <th>formatted_address</th>\n",
       "      <th>lat</th>\n",
       "      <th>lng</th>\n",
       "    </tr>\n",
       "  </thead>\n",
       "  <tbody>\n",
       "    <tr>\n",
       "      <th>56</th>\n",
       "      <td>46</td>\n",
       "      <td>Kufta</td>\n",
       "      <td>Chickpea</td>\n",
       "      <td>Nestled within the freshest, chewiest pita poc...</td>\n",
       "      <td>$8</td>\n",
       "      <td>2018 W. Chicago Ave.</td>\n",
       "      <td>Chicago</td>\n",
       "      <td>773-384-9930</td>\n",
       "      <td>chickpeaonthego.com</td>\n",
       "      <td>2018 W. Chicago Ave., Chicago</td>\n",
       "      <td>2018 West Chicago Avenue, Chicago, IL 60622, USA</td>\n",
       "      <td>41.896178</td>\n",
       "      <td>-87.677832</td>\n",
       "    </tr>\n",
       "    <tr>\n",
       "      <th>57</th>\n",
       "      <td>47</td>\n",
       "      <td>Debbie&amp;rsquo;s Egg Salad</td>\n",
       "      <td>The Goddess and Grocer</td>\n",
       "      <td>Nothing quite satisfies the comfortfood hunger...</td>\n",
       "      <td>$6.50.</td>\n",
       "      <td>25 E. Delaware Pl.</td>\n",
       "      <td>Chicago</td>\n",
       "      <td>312-896-2600</td>\n",
       "      <td>goddessandgrocer.com</td>\n",
       "      <td>25 E. Delaware Pl., Chicago</td>\n",
       "      <td>25 East Delaware Place, Chicago, IL 60611, USA</td>\n",
       "      <td>41.898990</td>\n",
       "      <td>-87.627290</td>\n",
       "    </tr>\n",
       "    <tr>\n",
       "      <th>58</th>\n",
       "      <td>48</td>\n",
       "      <td>Beef Curry</td>\n",
       "      <td>Zenwich</td>\n",
       "      <td>Proof positive that sandwiches have surpassed ...</td>\n",
       "      <td>$7.50.</td>\n",
       "      <td>416 N. York St.</td>\n",
       "      <td>Elmhurst</td>\n",
       "      <td>NaN</td>\n",
       "      <td>eatmyzenwich.com</td>\n",
       "      <td>416 N. York St., Elmhurst</td>\n",
       "      <td>416 North York Street, Elmhurst, IL 60126, USA</td>\n",
       "      <td>41.910661</td>\n",
       "      <td>-87.939928</td>\n",
       "    </tr>\n",
       "    <tr>\n",
       "      <th>59</th>\n",
       "      <td>49</td>\n",
       "      <td>Le V&amp;eacute;g&amp;eacute;tarien</td>\n",
       "      <td>Toni Patisserie</td>\n",
       "      <td>Toni Cox spreads rich white bean hummus on a b...</td>\n",
       "      <td>$8.75.</td>\n",
       "      <td>65 E. Washington St.</td>\n",
       "      <td>Chicago</td>\n",
       "      <td>312-726-2020</td>\n",
       "      <td>tonipatisserie.com</td>\n",
       "      <td>65 E. Washington St., Chicago</td>\n",
       "      <td>65 East Washington Street, Chicago, IL 60602, USA</td>\n",
       "      <td>41.883212</td>\n",
       "      <td>-87.625406</td>\n",
       "    </tr>\n",
       "    <tr>\n",
       "      <th>60</th>\n",
       "      <td>50</td>\n",
       "      <td>The Gatsby</td>\n",
       "      <td>Phoebe&amp;rsquo;s Bakery</td>\n",
       "      <td>The best thing about Phoebe&amp;rsquo;s panini is ...</td>\n",
       "      <td>$6.85.</td>\n",
       "      <td>3351 N. Broadway</td>\n",
       "      <td>Chicago</td>\n",
       "      <td>773-868-4000</td>\n",
       "      <td>phoebesbakery.com</td>\n",
       "      <td>3351 N. Broadway, Chicago</td>\n",
       "      <td>3351 North Broadway, Chicago, IL 60657, USA</td>\n",
       "      <td>41.942739</td>\n",
       "      <td>-87.644342</td>\n",
       "    </tr>\n",
       "  </tbody>\n",
       "</table>\n",
       "</div>"
      ],
      "text/plain": [
       "    rank                     sandwich              restaurant  \\\n",
       "56    46                        Kufta                Chickpea   \n",
       "57    47     Debbie&rsquo;s Egg Salad  The Goddess and Grocer   \n",
       "58    48                   Beef Curry                 Zenwich   \n",
       "59    49  Le V&eacute;g&eacute;tarien         Toni Patisserie   \n",
       "60    50                   The Gatsby   Phoebe&rsquo;s Bakery   \n",
       "\n",
       "                                          description   price  \\\n",
       "56  Nestled within the freshest, chewiest pita poc...      $8   \n",
       "57  Nothing quite satisfies the comfortfood hunger...  $6.50.   \n",
       "58  Proof positive that sandwiches have surpassed ...  $7.50.   \n",
       "59  Toni Cox spreads rich white bean hummus on a b...  $8.75.   \n",
       "60  The best thing about Phoebe&rsquo;s panini is ...  $6.85.   \n",
       "\n",
       "                 address      city         phone               website  \\\n",
       "56  2018 W. Chicago Ave.   Chicago  773-384-9930   chickpeaonthego.com   \n",
       "57    25 E. Delaware Pl.   Chicago  312-896-2600  goddessandgrocer.com   \n",
       "58       416 N. York St.  Elmhurst           NaN      eatmyzenwich.com   \n",
       "59  65 E. Washington St.   Chicago  312-726-2020    tonipatisserie.com   \n",
       "60      3351 N. Broadway   Chicago  773-868-4000     phoebesbakery.com   \n",
       "\n",
       "                     full_address  \\\n",
       "56  2018 W. Chicago Ave., Chicago   \n",
       "57    25 E. Delaware Pl., Chicago   \n",
       "58      416 N. York St., Elmhurst   \n",
       "59  65 E. Washington St., Chicago   \n",
       "60      3351 N. Broadway, Chicago   \n",
       "\n",
       "                                    formatted_address        lat        lng  \n",
       "56   2018 West Chicago Avenue, Chicago, IL 60622, USA  41.896178 -87.677832  \n",
       "57     25 East Delaware Place, Chicago, IL 60611, USA  41.898990 -87.627290  \n",
       "58     416 North York Street, Elmhurst, IL 60126, USA  41.910661 -87.939928  \n",
       "59  65 East Washington Street, Chicago, IL 60602, USA  41.883212 -87.625406  \n",
       "60        3351 North Broadway, Chicago, IL 60657, USA  41.942739 -87.644342  "
      ]
     },
     "execution_count": 117,
     "metadata": {},
     "output_type": "execute_result"
    }
   ],
   "source": [
    "# shows last 5 rows\n",
    "best_sws_df.tail()"
   ]
  },
  {
   "cell_type": "markdown",
   "metadata": {},
   "source": [
    "By default the `tail()` function only displays the last few rows of data... to be precise, 5 rows.\n",
    "We can display n rows of data from the bottom-"
   ]
  },
  {
   "cell_type": "code",
   "execution_count": 118,
   "metadata": {
    "collapsed": false
   },
   "outputs": [
    {
     "data": {
      "text/html": [
       "<div>\n",
       "<table border=\"1\" class=\"dataframe\">\n",
       "  <thead>\n",
       "    <tr style=\"text-align: right;\">\n",
       "      <th></th>\n",
       "      <th>rank</th>\n",
       "      <th>sandwich</th>\n",
       "      <th>restaurant</th>\n",
       "      <th>description</th>\n",
       "      <th>price</th>\n",
       "      <th>address</th>\n",
       "      <th>city</th>\n",
       "      <th>phone</th>\n",
       "      <th>website</th>\n",
       "      <th>full_address</th>\n",
       "      <th>formatted_address</th>\n",
       "      <th>lat</th>\n",
       "      <th>lng</th>\n",
       "    </tr>\n",
       "  </thead>\n",
       "  <tbody>\n",
       "    <tr>\n",
       "      <th>51</th>\n",
       "      <td>41</td>\n",
       "      <td>The Marty</td>\n",
       "      <td>Z&amp;amp;H MarketCafe</td>\n",
       "      <td>The generous application of muhammara&amp;mdash;a ...</td>\n",
       "      <td>$7.25.</td>\n",
       "      <td>1323 E. 57th St.</td>\n",
       "      <td>Chicago</td>\n",
       "      <td>773-538-7372</td>\n",
       "      <td>zhmarketcafe.com</td>\n",
       "      <td>1323 E. 57th St., Chicago</td>\n",
       "      <td>1323 East 57th Street, Chicago, IL 60637, USA</td>\n",
       "      <td>41.791193</td>\n",
       "      <td>-87.593820</td>\n",
       "    </tr>\n",
       "    <tr>\n",
       "      <th>52</th>\n",
       "      <td>42</td>\n",
       "      <td>Whitefish</td>\n",
       "      <td>Market House on the Square</td>\n",
       "      <td>Could a sandwich sound more unsexy? Hardly. Bu...</td>\n",
       "      <td>$11</td>\n",
       "      <td>655 Forest Ave.</td>\n",
       "      <td>Lake Forest</td>\n",
       "      <td>NaN</td>\n",
       "      <td>themarkethouse.com</td>\n",
       "      <td>655 Forest Ave., Lake Forest</td>\n",
       "      <td>655 Forest Avenue, Lake Forest, IL 60045, USA</td>\n",
       "      <td>42.251828</td>\n",
       "      <td>-87.841322</td>\n",
       "    </tr>\n",
       "    <tr>\n",
       "      <th>53</th>\n",
       "      <td>43</td>\n",
       "      <td>Oat Bread, Pecan Butter, and Fruit Jam</td>\n",
       "      <td>Elaine&amp;rsquo;s Coffee Call</td>\n",
       "      <td>The chalkboard menu is ambiguous about whether...</td>\n",
       "      <td>$6</td>\n",
       "      <td>1816 N. Clark St.</td>\n",
       "      <td>Chicago</td>\n",
       "      <td>NaN</td>\n",
       "      <td>jdvhotels.com/hotels/chicago/lincoln</td>\n",
       "      <td>1816 N. Clark St., Chicago</td>\n",
       "      <td>1816 North Clark Street, Chicago, IL 60614, USA</td>\n",
       "      <td>41.915304</td>\n",
       "      <td>-87.634502</td>\n",
       "    </tr>\n",
       "    <tr>\n",
       "      <th>54</th>\n",
       "      <td>44</td>\n",
       "      <td>Cauliflower Melt</td>\n",
       "      <td>Marion Street Cheese Market</td>\n",
       "      <td>Who says veggie sandwiches are healthy? This b...</td>\n",
       "      <td>$9</td>\n",
       "      <td>100 S. Marion St.</td>\n",
       "      <td>Oak Park</td>\n",
       "      <td>NaN</td>\n",
       "      <td>marionstreetcheesemarket.com</td>\n",
       "      <td>100 S. Marion St., Oak Park</td>\n",
       "      <td>100 South Marion Street, Oak Park, IL 60302, USA</td>\n",
       "      <td>41.886737</td>\n",
       "      <td>-87.802515</td>\n",
       "    </tr>\n",
       "    <tr>\n",
       "      <th>55</th>\n",
       "      <td>45</td>\n",
       "      <td>Cubano</td>\n",
       "      <td>Cafecito</td>\n",
       "      <td>The success of this sandwich, a Cuban traditio...</td>\n",
       "      <td>$5.49.</td>\n",
       "      <td>26 E. Congress Pkwy.</td>\n",
       "      <td>Chicago</td>\n",
       "      <td>312-922-2233</td>\n",
       "      <td>cafecitochicago.com</td>\n",
       "      <td>26 E. Congress Pkwy., Chicago</td>\n",
       "      <td>26 East Congress Parkway, Chicago, IL 60605, USA</td>\n",
       "      <td>41.875804</td>\n",
       "      <td>-87.626366</td>\n",
       "    </tr>\n",
       "    <tr>\n",
       "      <th>56</th>\n",
       "      <td>46</td>\n",
       "      <td>Kufta</td>\n",
       "      <td>Chickpea</td>\n",
       "      <td>Nestled within the freshest, chewiest pita poc...</td>\n",
       "      <td>$8</td>\n",
       "      <td>2018 W. Chicago Ave.</td>\n",
       "      <td>Chicago</td>\n",
       "      <td>773-384-9930</td>\n",
       "      <td>chickpeaonthego.com</td>\n",
       "      <td>2018 W. Chicago Ave., Chicago</td>\n",
       "      <td>2018 West Chicago Avenue, Chicago, IL 60622, USA</td>\n",
       "      <td>41.896178</td>\n",
       "      <td>-87.677832</td>\n",
       "    </tr>\n",
       "    <tr>\n",
       "      <th>57</th>\n",
       "      <td>47</td>\n",
       "      <td>Debbie&amp;rsquo;s Egg Salad</td>\n",
       "      <td>The Goddess and Grocer</td>\n",
       "      <td>Nothing quite satisfies the comfortfood hunger...</td>\n",
       "      <td>$6.50.</td>\n",
       "      <td>25 E. Delaware Pl.</td>\n",
       "      <td>Chicago</td>\n",
       "      <td>312-896-2600</td>\n",
       "      <td>goddessandgrocer.com</td>\n",
       "      <td>25 E. Delaware Pl., Chicago</td>\n",
       "      <td>25 East Delaware Place, Chicago, IL 60611, USA</td>\n",
       "      <td>41.898990</td>\n",
       "      <td>-87.627290</td>\n",
       "    </tr>\n",
       "    <tr>\n",
       "      <th>58</th>\n",
       "      <td>48</td>\n",
       "      <td>Beef Curry</td>\n",
       "      <td>Zenwich</td>\n",
       "      <td>Proof positive that sandwiches have surpassed ...</td>\n",
       "      <td>$7.50.</td>\n",
       "      <td>416 N. York St.</td>\n",
       "      <td>Elmhurst</td>\n",
       "      <td>NaN</td>\n",
       "      <td>eatmyzenwich.com</td>\n",
       "      <td>416 N. York St., Elmhurst</td>\n",
       "      <td>416 North York Street, Elmhurst, IL 60126, USA</td>\n",
       "      <td>41.910661</td>\n",
       "      <td>-87.939928</td>\n",
       "    </tr>\n",
       "    <tr>\n",
       "      <th>59</th>\n",
       "      <td>49</td>\n",
       "      <td>Le V&amp;eacute;g&amp;eacute;tarien</td>\n",
       "      <td>Toni Patisserie</td>\n",
       "      <td>Toni Cox spreads rich white bean hummus on a b...</td>\n",
       "      <td>$8.75.</td>\n",
       "      <td>65 E. Washington St.</td>\n",
       "      <td>Chicago</td>\n",
       "      <td>312-726-2020</td>\n",
       "      <td>tonipatisserie.com</td>\n",
       "      <td>65 E. Washington St., Chicago</td>\n",
       "      <td>65 East Washington Street, Chicago, IL 60602, USA</td>\n",
       "      <td>41.883212</td>\n",
       "      <td>-87.625406</td>\n",
       "    </tr>\n",
       "    <tr>\n",
       "      <th>60</th>\n",
       "      <td>50</td>\n",
       "      <td>The Gatsby</td>\n",
       "      <td>Phoebe&amp;rsquo;s Bakery</td>\n",
       "      <td>The best thing about Phoebe&amp;rsquo;s panini is ...</td>\n",
       "      <td>$6.85.</td>\n",
       "      <td>3351 N. Broadway</td>\n",
       "      <td>Chicago</td>\n",
       "      <td>773-868-4000</td>\n",
       "      <td>phoebesbakery.com</td>\n",
       "      <td>3351 N. Broadway, Chicago</td>\n",
       "      <td>3351 North Broadway, Chicago, IL 60657, USA</td>\n",
       "      <td>41.942739</td>\n",
       "      <td>-87.644342</td>\n",
       "    </tr>\n",
       "  </tbody>\n",
       "</table>\n",
       "</div>"
      ],
      "text/plain": [
       "    rank                                sandwich                   restaurant  \\\n",
       "51    41                               The Marty           Z&amp;H MarketCafe   \n",
       "52    42                               Whitefish   Market House on the Square   \n",
       "53    43  Oat Bread, Pecan Butter, and Fruit Jam   Elaine&rsquo;s Coffee Call   \n",
       "54    44                        Cauliflower Melt  Marion Street Cheese Market   \n",
       "55    45                                  Cubano                     Cafecito   \n",
       "56    46                                   Kufta                     Chickpea   \n",
       "57    47                Debbie&rsquo;s Egg Salad       The Goddess and Grocer   \n",
       "58    48                              Beef Curry                      Zenwich   \n",
       "59    49             Le V&eacute;g&eacute;tarien              Toni Patisserie   \n",
       "60    50                              The Gatsby        Phoebe&rsquo;s Bakery   \n",
       "\n",
       "                                          description   price  \\\n",
       "51  The generous application of muhammara&mdash;a ...  $7.25.   \n",
       "52  Could a sandwich sound more unsexy? Hardly. Bu...     $11   \n",
       "53  The chalkboard menu is ambiguous about whether...      $6   \n",
       "54  Who says veggie sandwiches are healthy? This b...      $9   \n",
       "55  The success of this sandwich, a Cuban traditio...  $5.49.   \n",
       "56  Nestled within the freshest, chewiest pita poc...      $8   \n",
       "57  Nothing quite satisfies the comfortfood hunger...  $6.50.   \n",
       "58  Proof positive that sandwiches have surpassed ...  $7.50.   \n",
       "59  Toni Cox spreads rich white bean hummus on a b...  $8.75.   \n",
       "60  The best thing about Phoebe&rsquo;s panini is ...  $6.85.   \n",
       "\n",
       "                 address         city         phone  \\\n",
       "51      1323 E. 57th St.      Chicago  773-538-7372   \n",
       "52       655 Forest Ave.  Lake Forest           NaN   \n",
       "53     1816 N. Clark St.      Chicago           NaN   \n",
       "54     100 S. Marion St.     Oak Park           NaN   \n",
       "55  26 E. Congress Pkwy.      Chicago  312-922-2233   \n",
       "56  2018 W. Chicago Ave.      Chicago  773-384-9930   \n",
       "57    25 E. Delaware Pl.      Chicago  312-896-2600   \n",
       "58       416 N. York St.     Elmhurst           NaN   \n",
       "59  65 E. Washington St.      Chicago  312-726-2020   \n",
       "60      3351 N. Broadway      Chicago  773-868-4000   \n",
       "\n",
       "                                 website                   full_address  \\\n",
       "51                      zhmarketcafe.com      1323 E. 57th St., Chicago   \n",
       "52                    themarkethouse.com   655 Forest Ave., Lake Forest   \n",
       "53  jdvhotels.com/hotels/chicago/lincoln     1816 N. Clark St., Chicago   \n",
       "54          marionstreetcheesemarket.com    100 S. Marion St., Oak Park   \n",
       "55                   cafecitochicago.com  26 E. Congress Pkwy., Chicago   \n",
       "56                   chickpeaonthego.com  2018 W. Chicago Ave., Chicago   \n",
       "57                  goddessandgrocer.com    25 E. Delaware Pl., Chicago   \n",
       "58                      eatmyzenwich.com      416 N. York St., Elmhurst   \n",
       "59                    tonipatisserie.com  65 E. Washington St., Chicago   \n",
       "60                     phoebesbakery.com      3351 N. Broadway, Chicago   \n",
       "\n",
       "                                    formatted_address        lat        lng  \n",
       "51      1323 East 57th Street, Chicago, IL 60637, USA  41.791193 -87.593820  \n",
       "52      655 Forest Avenue, Lake Forest, IL 60045, USA  42.251828 -87.841322  \n",
       "53    1816 North Clark Street, Chicago, IL 60614, USA  41.915304 -87.634502  \n",
       "54   100 South Marion Street, Oak Park, IL 60302, USA  41.886737 -87.802515  \n",
       "55   26 East Congress Parkway, Chicago, IL 60605, USA  41.875804 -87.626366  \n",
       "56   2018 West Chicago Avenue, Chicago, IL 60622, USA  41.896178 -87.677832  \n",
       "57     25 East Delaware Place, Chicago, IL 60611, USA  41.898990 -87.627290  \n",
       "58     416 North York Street, Elmhurst, IL 60126, USA  41.910661 -87.939928  \n",
       "59  65 East Washington Street, Chicago, IL 60602, USA  41.883212 -87.625406  \n",
       "60        3351 North Broadway, Chicago, IL 60657, USA  41.942739 -87.644342  "
      ]
     },
     "execution_count": 118,
     "metadata": {},
     "output_type": "execute_result"
    }
   ],
   "source": [
    "# shows last 10 rows\n",
    "best_sws_df.tail(10)"
   ]
  },
  {
   "cell_type": "markdown",
   "metadata": {},
   "source": [
    "#### `describe()`\n",
    "the `describe()` function can be used to present descriptive stats on each column of the df"
   ]
  },
  {
   "cell_type": "code",
   "execution_count": 119,
   "metadata": {
    "collapsed": false
   },
   "outputs": [
    {
     "data": {
      "text/html": [
       "<div>\n",
       "<table border=\"1\" class=\"dataframe\">\n",
       "  <thead>\n",
       "    <tr style=\"text-align: right;\">\n",
       "      <th></th>\n",
       "      <th>rank</th>\n",
       "      <th>lat</th>\n",
       "      <th>lng</th>\n",
       "    </tr>\n",
       "  </thead>\n",
       "  <tbody>\n",
       "    <tr>\n",
       "      <th>count</th>\n",
       "      <td>61.000000</td>\n",
       "      <td>61.000000</td>\n",
       "      <td>61.000000</td>\n",
       "    </tr>\n",
       "    <tr>\n",
       "      <th>mean</th>\n",
       "      <td>25.278689</td>\n",
       "      <td>41.906938</td>\n",
       "      <td>-87.682965</td>\n",
       "    </tr>\n",
       "    <tr>\n",
       "      <th>std</th>\n",
       "      <td>13.689572</td>\n",
       "      <td>0.083674</td>\n",
       "      <td>0.090901</td>\n",
       "    </tr>\n",
       "    <tr>\n",
       "      <th>min</th>\n",
       "      <td>1.000000</td>\n",
       "      <td>41.601541</td>\n",
       "      <td>-88.125653</td>\n",
       "    </tr>\n",
       "    <tr>\n",
       "      <th>25%</th>\n",
       "      <td>13.000000</td>\n",
       "      <td>41.884672</td>\n",
       "      <td>-87.684425</td>\n",
       "    </tr>\n",
       "    <tr>\n",
       "      <th>50%</th>\n",
       "      <td>25.000000</td>\n",
       "      <td>41.898990</td>\n",
       "      <td>-87.648218</td>\n",
       "    </tr>\n",
       "    <tr>\n",
       "      <th>75%</th>\n",
       "      <td>36.000000</td>\n",
       "      <td>41.930101</td>\n",
       "      <td>-87.634157</td>\n",
       "    </tr>\n",
       "    <tr>\n",
       "      <th>max</th>\n",
       "      <td>50.000000</td>\n",
       "      <td>42.251828</td>\n",
       "      <td>-87.593820</td>\n",
       "    </tr>\n",
       "  </tbody>\n",
       "</table>\n",
       "</div>"
      ],
      "text/plain": [
       "            rank        lat        lng\n",
       "count  61.000000  61.000000  61.000000\n",
       "mean   25.278689  41.906938 -87.682965\n",
       "std    13.689572   0.083674   0.090901\n",
       "min     1.000000  41.601541 -88.125653\n",
       "25%    13.000000  41.884672 -87.684425\n",
       "50%    25.000000  41.898990 -87.648218\n",
       "75%    36.000000  41.930101 -87.634157\n",
       "max    50.000000  42.251828 -87.593820"
      ]
     },
     "execution_count": 119,
     "metadata": {},
     "output_type": "execute_result"
    }
   ],
   "source": [
    "# gives summary information / descriptive stats on each column of the dataframe that actually has numerical, not object\n",
    "# Cost will be objects...might have to change to numeric afterwards\n",
    "# Lat and Long are coordinates\n",
    "best_sws_df.describe()"
   ]
  },
  {
   "cell_type": "markdown",
   "metadata": {},
   "source": [
    "However, describe will not work like your `R` function `summary()` and does not automatically present frequency information for categorical data"
   ]
  },
  {
   "cell_type": "markdown",
   "metadata": {},
   "source": [
    "#### Reading a specific column\n",
    "you do not need to display the entire df, or use the entire df for each calculation or output. One can also select a single column. "
   ]
  },
  {
   "cell_type": "code",
   "execution_count": 120,
   "metadata": {
    "collapsed": false
   },
   "outputs": [
    {
     "data": {
      "text/plain": [
       "0                                                   BLT\n",
       "1                                         Fried Bologna\n",
       "2                                     Woodland Mushroom\n",
       "3                                            Roast Beef\n",
       "4                                              PB&amp;L\n",
       "5                           Belgian Chicken Curry Salad\n",
       "6                                          Lobster Roll\n",
       "7                                   Smoked Salmon Salad\n",
       "8                                       Atomica Cemitas\n",
       "9     Grilled Laughing Bird Shrimp and Fried Oyster ...\n",
       "10                              Ham and Raclette Panino\n",
       "11                                        Breaded Steak\n",
       "12                                        Breaded Steak\n",
       "13                                        Breaded Steak\n",
       "14                                        Breaded Steak\n",
       "15                                          The Hawkeye\n",
       "16                                          Chicken Dip\n",
       "17                                 Wild Boar Sloppy Joe\n",
       "18                                         Meatball Sub\n",
       "19                                          Corned Beef\n",
       "20                                          Turkey Club\n",
       "21                                              Falafel\n",
       "22                                            Crab Cake\n",
       "23                                    Chicken Schnitzel\n",
       "24                                             Shawarma\n",
       "25                                             Shawarma\n",
       "26                              Toasted Pimiento Cheese\n",
       "27                                    Vegetarian Panino\n",
       "28                                   Cali Ch&egrave;vre\n",
       "29                                   Cali Ch&egrave;vre\n",
       "                            ...                        \n",
       "31                                             Pastrami\n",
       "32                                            The Fredo\n",
       "33                                            The Fredo\n",
       "34                                           Smoked Ham\n",
       "35                                             Jibarito\n",
       "36                                     Shaved Prime Rib\n",
       "37                      Serrano ham and Manchego cheese\n",
       "38                      Serrano ham and Manchego cheese\n",
       "39                      Serrano ham and Manchego cheese\n",
       "40                      Serrano ham and Manchego cheese\n",
       "41                                           Tuna Salad\n",
       "42                                     Paramount Reuben\n",
       "43                                         The Istanbul\n",
       "44                                               B.A.D.\n",
       "45                           Duck Confit and Mozzarella\n",
       "46                                      Croque Monsieur\n",
       "47                                       Green Garbanzo\n",
       "48                                        The Hen House\n",
       "49                                        The Hen House\n",
       "50                                       Tuscan Chicken\n",
       "51                                            The Marty\n",
       "52                                            Whitefish\n",
       "53               Oat Bread, Pecan Butter, and Fruit Jam\n",
       "54                                     Cauliflower Melt\n",
       "55                                               Cubano\n",
       "56                                                Kufta\n",
       "57                             Debbie&rsquo;s Egg Salad\n",
       "58                                           Beef Curry\n",
       "59                          Le V&eacute;g&eacute;tarien\n",
       "60                                           The Gatsby\n",
       "Name: sandwich, dtype: object"
      ]
     },
     "execution_count": 120,
     "metadata": {},
     "output_type": "execute_result"
    }
   ],
   "source": [
    "# read a specific column (in this case, sandwich is the name of a column)\n",
    "# BTW since we opened the file as a read only, we cannot modify anything\n",
    "best_sws_df.sandwich"
   ]
  },
  {
   "cell_type": "markdown",
   "metadata": {},
   "source": [
    "We can also call the functions `head()`, `tail()`, and `describe()` on a single column-"
   ]
  },
  {
   "cell_type": "code",
   "execution_count": 121,
   "metadata": {
    "collapsed": false
   },
   "outputs": [
    {
     "data": {
      "text/plain": [
       "0                  BLT\n",
       "1        Fried Bologna\n",
       "2    Woodland Mushroom\n",
       "3           Roast Beef\n",
       "4             PB&amp;L\n",
       "Name: sandwich, dtype: object"
      ]
     },
     "execution_count": 121,
     "metadata": {},
     "output_type": "execute_result"
    }
   ],
   "source": [
    "# Show first 5 values of sandwich column\n",
    "best_sws_df.sandwich.head()"
   ]
  },
  {
   "cell_type": "code",
   "execution_count": 122,
   "metadata": {
    "collapsed": false
   },
   "outputs": [
    {
     "data": {
      "text/plain": [
       "56                          Kufta\n",
       "57       Debbie&rsquo;s Egg Salad\n",
       "58                     Beef Curry\n",
       "59    Le V&eacute;g&eacute;tarien\n",
       "60                     The Gatsby\n",
       "Name: sandwich, dtype: object"
      ]
     },
     "execution_count": 122,
     "metadata": {},
     "output_type": "execute_result"
    }
   ],
   "source": [
    "# Show us last 5 values of sandwich column\n",
    "best_sws_df.sandwich.tail()"
   ]
  },
  {
   "cell_type": "code",
   "execution_count": 123,
   "metadata": {
    "collapsed": false
   },
   "outputs": [
    {
     "data": {
      "text/plain": [
       "count                                  61\n",
       "unique                                 50\n",
       "top       Serrano ham and Manchego cheese\n",
       "freq                                    4\n",
       "Name: sandwich, dtype: object"
      ]
     },
     "execution_count": 123,
     "metadata": {},
     "output_type": "execute_result"
    }
   ],
   "source": [
    "# Provide summary statistics of sandwich column like unique values, most repeated value, number of times it is repeated\n",
    "# Also shows data type of column and total rows\n",
    "best_sws_df.sandwich.describe()"
   ]
  },
  {
   "cell_type": "markdown",
   "metadata": {},
   "source": [
    "#### Note\n",
    "This method of referring to a column only returns a `read-only` copy. So you cannot modify the column. \n",
    "\n",
    "#### Creating a new column\n",
    "The way to create or modify a new column is to refer to the column using the following format-"
   ]
  },
  {
   "cell_type": "code",
   "execution_count": 124,
   "metadata": {
    "collapsed": false
   },
   "outputs": [
    {
     "data": {
      "text/plain": [
       "0                  BLT\n",
       "1        Fried Bologna\n",
       "2    Woodland Mushroom\n",
       "3           Roast Beef\n",
       "4             PB&amp;L\n",
       "Name: sandwich, dtype: object"
      ]
     },
     "execution_count": 124,
     "metadata": {},
     "output_type": "execute_result"
    }
   ],
   "source": [
    "best_sws_df[\"sandwich\"].head()"
   ]
  },
  {
   "cell_type": "markdown",
   "metadata": {},
   "source": [
    "We should probably normalize the names, by converting all the names to upper case."
   ]
  },
  {
   "cell_type": "code",
   "execution_count": 128,
   "metadata": {
    "collapsed": false
   },
   "outputs": [
    {
     "data": {
      "text/plain": [
       "0                  BLT\n",
       "1        FRIED BOLOGNA\n",
       "2    WOODLAND MUSHROOM\n",
       "3           ROAST BEEF\n",
       "4             PB&AMP;L\n",
       "Name: sandwich, dtype: object"
      ]
     },
     "execution_count": 128,
     "metadata": {},
     "output_type": "execute_result"
    }
   ],
   "source": [
    "# Provides me a writable version of the data frame from a read only version of file\n",
    "# .apply() applies a function across the entire column. \n",
    "# lambda x: x.upper() takes any x (value in column) and uppercase that string\n",
    "# This is how you can remove the $ sign from cost too. Assign it to a new column that is numerical (float type)\n",
    "\n",
    "best_sws_df[\"sandwich\"] = best_sws_df.sandwich.apply(lambda x: x.upper())\n",
    "best_sws_df.sandwich.head()"
   ]
  },
  {
   "cell_type": "markdown",
   "metadata": {},
   "source": [
    "#### `unique()`\n",
    "the `unique()` function provides a list of unique values in a given columns"
   ]
  },
  {
   "cell_type": "code",
   "execution_count": 129,
   "metadata": {
    "collapsed": false
   },
   "outputs": [
    {
     "data": {
      "text/plain": [
       "['$10',\n",
       " '$9',\n",
       " '$9.50.',\n",
       " '$9.40.',\n",
       " '$7.25.',\n",
       " '$16',\n",
       " '$17',\n",
       " '$11',\n",
       " '$5.49.',\n",
       " '$14',\n",
       " '$13',\n",
       " '$4.50.',\n",
       " '$11.95.',\n",
       " '$11.50.',\n",
       " '$6.25.',\n",
       " '$15',\n",
       " '$5',\n",
       " '$6',\n",
       " '$8',\n",
       " '$5.99.',\n",
       " '$7.52.',\n",
       " '$7.50.',\n",
       " '$12.95.',\n",
       " '$7',\n",
       " '$21',\n",
       " '$9.79.',\n",
       " '$9.75.',\n",
       " '$7.95.',\n",
       " '$6.50.',\n",
       " '$8.75.',\n",
       " '$6.85.']"
      ]
     },
     "execution_count": 129,
     "metadata": {},
     "output_type": "execute_result"
    }
   ],
   "source": [
    "# This is a great way to see how many unique categorical values you have. Not so good for prices\n",
    "list(best_sws_df.price.unique())"
   ]
  },
  {
   "cell_type": "markdown",
   "metadata": {},
   "source": [
    "The number of unique values in the price column can be calculated using the `len()` function"
   ]
  },
  {
   "cell_type": "code",
   "execution_count": 130,
   "metadata": {
    "collapsed": false
   },
   "outputs": [
    {
     "data": {
      "text/plain": [
       "31"
      ]
     },
     "execution_count": 130,
     "metadata": {},
     "output_type": "execute_result"
    }
   ],
   "source": [
    "# This counts the number of unique values in the unique values in this list\n",
    "len(list(best_sws_df.price.unique()))"
   ]
  },
  {
   "cell_type": "markdown",
   "metadata": {},
   "source": [
    "#### or"
   ]
  },
  {
   "cell_type": "code",
   "execution_count": 131,
   "metadata": {
    "collapsed": false
   },
   "outputs": [
    {
     "data": {
      "text/plain": [
       "31"
      ]
     },
     "execution_count": 131,
     "metadata": {},
     "output_type": "execute_result"
    }
   ],
   "source": [
    "# This is the same. Much cleaner and quicker and gives number of unique values\n",
    "\n",
    "best_sws_df.price.nunique()"
   ]
  },
  {
   "cell_type": "markdown",
   "metadata": {},
   "source": [
    "#### `value_counts()`\n",
    "the function `value_counts()` provides a frequency for each unique level in a column-"
   ]
  },
  {
   "cell_type": "code",
   "execution_count": 132,
   "metadata": {
    "collapsed": false
   },
   "outputs": [
    {
     "data": {
      "text/plain": [
       "$5.49.     5\n",
       "$9         5\n",
       "$10        4\n",
       "$9.79.     4\n",
       "$8         4\n",
       "$6         4\n",
       "$7.50.     3\n",
       "$7.52.     3\n",
       "$7         3\n",
       "$7.25.     2\n",
       "$11.95.    2\n",
       "$11        2\n",
       "$13        2\n",
       "$17        1\n",
       "$11.50.    1\n",
       "$6.50.     1\n",
       "$15        1\n",
       "$9.40.     1\n",
       "$8.75.     1\n",
       "$14        1\n",
       "$9.50.     1\n",
       "$12.95.    1\n",
       "$7.95.     1\n",
       "$16        1\n",
       "$4.50.     1\n",
       "$5.99.     1\n",
       "$21        1\n",
       "$5         1\n",
       "$9.75.     1\n",
       "$6.25.     1\n",
       "$6.85.     1\n",
       "Name: price, dtype: int64"
      ]
     },
     "execution_count": 132,
     "metadata": {},
     "output_type": "execute_result"
    }
   ],
   "source": [
    "# Counts the frequencies each unique value has shown up\n",
    "best_sws_df.price.value_counts()"
   ]
  },
  {
   "cell_type": "markdown",
   "metadata": {},
   "source": [
    "### 2. Exercises!\n",
    "#### Q1\n",
    "Read in the financial data file you have created as a dataframe (concatenation of all the files for a company).\n",
    "#### Q2\n",
    "Provide descriptive statistics for all columns of this data"
   ]
  },
  {
   "cell_type": "code",
   "execution_count": null,
   "metadata": {
    "collapsed": true
   },
   "outputs": [],
   "source": [
    "####################### THIS IS HOMEWORK from the 3 files that start with msft and the 3 files that start with appl\n",
    "# \n",
    "# Try using %%timeit\n",
    "\n",
    "import matplotlib.pyplot as plt\n",
    "%pylab inline\n",
    "best_sws_df.price.value_counts().plot(\"bar\")\n"
   ]
  },
  {
   "cell_type": "code",
   "execution_count": null,
   "metadata": {
    "collapsed": true
   },
   "outputs": [],
   "source": []
  }
 ],
 "metadata": {
  "kernelspec": {
   "display_name": "Python 2",
   "language": "python",
   "name": "python2"
  },
  "language_info": {
   "codemirror_mode": {
    "name": "ipython",
    "version": 2
   },
   "file_extension": ".py",
   "mimetype": "text/x-python",
   "name": "python",
   "nbconvert_exporter": "python",
   "pygments_lexer": "ipython2",
   "version": "2.7.11"
  }
 },
 "nbformat": 4,
 "nbformat_minor": 0
}
