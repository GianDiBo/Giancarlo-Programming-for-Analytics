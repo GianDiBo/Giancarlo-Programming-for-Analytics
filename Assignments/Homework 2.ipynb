{
 "cells": [
  {
   "cell_type": "code",
   "execution_count": 3,
   "metadata": {
    "collapsed": false
   },
   "outputs": [
    {
     "data": {
      "text/plain": [
       "'the wind was a torrent of darkness among the gusty trees   \\nthe moon was a ghostly galleon tossed upon cloudy seas   \\nthe road was a ribbon of moonlight over the purple moor   \\nand the highwayman came riding \\nriding riding \\nthe highwayman came riding, up to the old inn-door \\n'"
      ]
     },
     "execution_count": 3,
     "metadata": {},
     "output_type": "execute_result"
    }
   ],
   "source": [
    "# Exercise 1\n",
    "lyrics= '''the wind was a torrent of darkness among the gusty trees   \n",
    "the moon was a ghostly galleon tossed upon cloudy seas   \n",
    "the road was a ribbon of moonlight over the purple moor   \n",
    "and the highwayman came riding \n",
    "riding riding \n",
    "the highwayman came riding, up to the old inn-door \n",
    "''' \n",
    "lyrics"
   ]
  },
  {
   "cell_type": "code",
   "execution_count": 52,
   "metadata": {
    "collapsed": false
   },
   "outputs": [
    {
     "data": {
      "text/plain": [
       "['the',\n",
       " 'wind',\n",
       " 'was',\n",
       " 'a',\n",
       " 'torrent',\n",
       " 'of',\n",
       " 'darkness',\n",
       " 'among',\n",
       " 'the',\n",
       " 'gusty',\n",
       " 'trees',\n",
       " '',\n",
       " '',\n",
       " '\\nthe',\n",
       " 'moon',\n",
       " 'was',\n",
       " 'a',\n",
       " 'ghostly',\n",
       " 'galleon',\n",
       " 'tossed',\n",
       " 'upon',\n",
       " 'cloudy',\n",
       " 'seas',\n",
       " '',\n",
       " '',\n",
       " '\\nthe',\n",
       " 'road',\n",
       " 'was',\n",
       " 'a',\n",
       " 'ribbon',\n",
       " 'of',\n",
       " 'moonlight',\n",
       " 'over',\n",
       " 'the',\n",
       " 'purple',\n",
       " 'moor',\n",
       " '',\n",
       " '',\n",
       " '\\nand',\n",
       " 'the',\n",
       " 'highwayman',\n",
       " 'came',\n",
       " 'riding',\n",
       " '\\nriding',\n",
       " 'riding',\n",
       " '\\nthe',\n",
       " 'highwayman',\n",
       " 'came',\n",
       " 'riding,',\n",
       " 'up',\n",
       " 'to',\n",
       " 'the',\n",
       " 'old',\n",
       " 'inn-door',\n",
       " '\\n']"
      ]
     },
     "execution_count": 52,
     "metadata": {},
     "output_type": "execute_result"
    }
   ],
   "source": [
    "words = lyrics.split()"
   ]
  },
  {
   "cell_type": "code",
   "execution_count": 53,
   "metadata": {
    "collapsed": false
   },
   "outputs": [
    {
     "data": {
      "text/plain": [
       "['road', 'ribbon', 'riding', 'riding', 'riding,']"
      ]
     },
     "execution_count": 53,
     "metadata": {},
     "output_type": "execute_result"
    }
   ],
   "source": [
    "final = []\n",
    "for word in words:\n",
    "    if word.startswith('r'):\n",
    "        final.append(word)\n",
    "final"
   ]
  },
  {
   "cell_type": "code",
   "execution_count": 48,
   "metadata": {
    "collapsed": false
   },
   "outputs": [
    {
     "data": {
      "text/plain": [
       "set()"
      ]
     },
     "execution_count": 48,
     "metadata": {},
     "output_type": "execute_result"
    }
   ],
   "source": [
    "# Exercise 2\n",
    "set_words = set()\n",
    "set_words"
   ]
  },
  {
   "cell_type": "code",
   "execution_count": 33,
   "metadata": {
    "collapsed": false
   },
   "outputs": [
    {
     "data": {
      "text/plain": [
       "{'a',\n",
       " 'among',\n",
       " 'and',\n",
       " 'came',\n",
       " 'cloudy',\n",
       " 'darkness',\n",
       " 'galleon',\n",
       " 'ghostly',\n",
       " 'gusty',\n",
       " 'highwayman',\n",
       " 'inn-door',\n",
       " 'moon',\n",
       " 'moonlight',\n",
       " 'moor',\n",
       " 'of',\n",
       " 'old',\n",
       " 'over',\n",
       " 'purple',\n",
       " 'ribbon',\n",
       " 'riding',\n",
       " 'riding,',\n",
       " 'road',\n",
       " 'seas',\n",
       " 'the',\n",
       " 'to',\n",
       " 'torrent',\n",
       " 'tossed',\n",
       " 'trees',\n",
       " 'up',\n",
       " 'upon',\n",
       " 'was',\n",
       " 'wind'}"
      ]
     },
     "execution_count": 33,
     "metadata": {},
     "output_type": "execute_result"
    }
   ],
   "source": [
    "# This removes all duplicate words from entire Poem\n",
    "set_words = set(words)\n",
    "set_words"
   ]
  },
  {
   "cell_type": "code",
   "execution_count": 34,
   "metadata": {
    "collapsed": false
   },
   "outputs": [
    {
     "data": {
      "text/plain": [
       "{'ribbon', 'riding', 'riding,', 'road'}"
      ]
     },
     "execution_count": 34,
     "metadata": {},
     "output_type": "execute_result"
    }
   ],
   "source": [
    "# This removes all duplicate words from list of words starting with r\n",
    "set_words = set(final)\n",
    "set_words"
   ]
  },
  {
   "cell_type": "code",
   "execution_count": 76,
   "metadata": {
    "collapsed": false
   },
   "outputs": [
    {
     "data": {
      "text/plain": [
       "{'ribbon', 'riding', 'riding,', 'road'}"
      ]
     },
     "execution_count": 76,
     "metadata": {},
     "output_type": "execute_result"
    }
   ],
   "source": [
    "# Exercise 3\n",
    "final = []\n",
    "set_words = set()\n",
    "for word in words:\n",
    "    if word.startswith('r'):\n",
    "        final.append(word)\n",
    "    set_words = set(final)\n",
    "set_words"
   ]
  },
  {
   "cell_type": "code",
   "execution_count": 82,
   "metadata": {
    "collapsed": false
   },
   "outputs": [
    {
     "data": {
      "text/plain": [
       "{'ribbon': 1, 'riding': 2, 'riding,': 1, 'road': 1}"
      ]
     },
     "execution_count": 82,
     "metadata": {},
     "output_type": "execute_result"
    }
   ],
   "source": [
    "# Exercise 4\n",
    "dictionary_words = {}\n",
    "dictionary_words\n",
    "for word in words:\n",
    "    if word.startswith('r'):\n",
    "        dictionary_words[word] = dictionary_words.get(word, 0) + 1\n",
    "dictionary_words"
   ]
  }
 ],
 "metadata": {
  "kernelspec": {
   "display_name": "Python 2",
   "language": "python",
   "name": "python2"
  },
  "language_info": {
   "codemirror_mode": {
    "name": "ipython",
    "version": 2
   },
   "file_extension": ".py",
   "mimetype": "text/x-python",
   "name": "python",
   "nbconvert_exporter": "python",
   "pygments_lexer": "ipython2",
   "version": "2.7.11"
  }
 },
 "nbformat": 4,
 "nbformat_minor": 0
}
