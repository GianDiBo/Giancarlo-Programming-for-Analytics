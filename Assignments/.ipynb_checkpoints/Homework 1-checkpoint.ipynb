{
 "cells": [
  {
   "cell_type": "code",
   "execution_count": 16,
   "metadata": {
    "collapsed": false
   },
   "outputs": [
    {
     "name": "stdout",
     "output_type": "stream",
     "text": [
      "[0, 1, 1]\n",
      "[1, 1, 2]\n",
      "[1, 2, 3]\n",
      "[2, 3, 5]\n",
      "[3, 5, 8]\n",
      "[5, 8, 13]\n",
      "[8, 13, 21]\n",
      "[13, 21, 34]\n",
      "[21, 34, 55]\n"
     ]
    }
   ],
   "source": [
    "# write a fibonaci sequence code with loop\n",
    "second=0\n",
    "third=1\n",
    "# first is the first value in the print\n",
    "# second is the second value in the print that later becomes the first value in the next line of print\n",
    "# third is the third value in sequence that later becomes the second value in the next line of print...or first value in next 2 lines of print\n",
    "\n",
    "for i in range(0,9):\n",
    "    first = second\n",
    "    second = third\n",
    "    third = first + third\n",
    "    print[first, second]"
   ]
  },
  {
   "cell_type": "code",
   "execution_count": 1,
   "metadata": {
    "collapsed": false
   },
   "outputs": [
    {
     "name": "stdout",
     "output_type": "stream",
     "text": [
      "Yes, llamomall is a palindrome.\n"
     ]
    }
   ],
   "source": [
    "# write a snippet of code to check whether a string is palindrome\n",
    "x = str(\"llamomall\")\n",
    "x_length = len(x) - 1\n",
    "\n",
    "# Check the first letter of the string against the last one and work inwards. If letters are equal, test = True. Otherwise, test = False\n",
    "for i in range(0,x_length+1):\n",
    "    if x[i] == x[x_length - i]:\n",
    "        test = True\n",
    "    else:      \n",
    "        test = False\n",
    "\n",
    "if test == True:\n",
    "    print(\"Yes, \" + x + \" is a palindrome.\")\n",
    "else:\n",
    "    print(\"No, \" + x + \" is NOT a palindrome.\")"
   ]
  }
 ],
 "metadata": {
  "kernelspec": {
   "display_name": "Python 2",
   "language": "python",
   "name": "python2"
  },
  "language_info": {
   "codemirror_mode": {
    "name": "ipython",
    "version": 2
   },
   "file_extension": ".py",
   "mimetype": "text/x-python",
   "name": "python",
   "nbconvert_exporter": "python",
   "pygments_lexer": "ipython2",
   "version": "2.7.11"
  }
 },
 "nbformat": 4,
 "nbformat_minor": 0
}
