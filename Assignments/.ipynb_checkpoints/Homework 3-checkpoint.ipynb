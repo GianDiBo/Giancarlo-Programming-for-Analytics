{
 "cells": [
  {
   "cell_type": "code",
   "execution_count": 1,
   "metadata": {
    "collapsed": false
   },
   "outputs": [
    {
     "ename": "SyntaxError",
     "evalue": "invalid syntax (<ipython-input-1-9bd113b8fb21>, line 2)",
     "output_type": "error",
     "traceback": [
      "\u001b[0;36m  File \u001b[0;32m\"<ipython-input-1-9bd113b8fb21>\"\u001b[0;36m, line \u001b[0;32m2\u001b[0m\n\u001b[0;31m    The files aapl\\*, msft\\* contain trading data.  Data is\u001b[0m\n\u001b[0m            ^\u001b[0m\n\u001b[0;31mSyntaxError\u001b[0m\u001b[0;31m:\u001b[0m invalid syntax\n"
     ]
    }
   ],
   "source": [
    "#### Q2.\n",
    "The files aapl\\*, msft\\* contain trading data.  Data is\n",
    "arranged in the file is in comma seprarated format-\n",
    "\n",
    "    Date,Open,High,Low,Close,Volume,Adj Close\n",
    "    2015-10-21,114.00,115.580002,113.699997,113.760002,41795200,113.760002\n",
    "    2015-10-20,111.339996,114.169998,110.82,113.769997,48778800,113.769997\n",
    "    2015-10-19,110.800003,111.75,110.110001,111.730003,29606100,111.730003\n",
    "    2015-10-16,111.779999,112.00,110.529999,111.040001,38236300,111.040001\n",
    "    2015-10-15,110.93,112.099998,110.489998,111.860001,37341000,111.860001\n",
    "\n",
    "In this exercise you will write two functions: one that reads\n",
    "in data from files of this format, and one which writes data\n",
    "out to files of this format.\n",
    "##### a)\n",
    "You should be able to provide a name of the company such as- `aapl` alongwith the directory where the files might be located, and let the read function discover all the files. \n",
    "The data read in should be stored in a `dict` object and keyed on the date.\n",
    "##### b) \n",
    "Append all `dict` objects together.\n",
    "##### c) \n",
    "Write a function that accepts name of the company such as - `aapl` and a `dict` object with all the financial data concatenated. \n",
    "This function should write out all the data to a single file with the name such as- \n",
    "`aapl-mmmyy-mmmyy.csv`"
   ]
  },
  {
   "cell_type": "code",
   "execution_count": 2,
   "metadata": {
    "collapsed": true
   },
   "outputs": [],
   "source": [
    "############################## THIS IS HOMEWORK for msft and appl files (there are 3 of each of them)\n",
    "############################## THIS IS HOMEWORK\n",
    "############################## THIS IS HOMEWORK\n",
    "############################## THIS IS HOMEWORK\n",
    "############################## THIS IS HOMEWORK\n",
    "############################## THIS IS HOMEWORK\n",
    "############################## THIS IS HOMEWORK\n",
    "\n"
   ]
  },
  {
   "cell_type": "code",
   "execution_count": 3,
   "metadata": {
    "collapsed": true
   },
   "outputs": [],
   "source": [
    "# start of financial data\n",
    "# 3 appl files will be found, concatenated, and write on file"
   ]
  },
  {
   "cell_type": "code",
   "execution_count": 4,
   "metadata": {
    "collapsed": false
   },
   "outputs": [
    {
     "ename": "SyntaxError",
     "evalue": "invalid syntax (<ipython-input-4-3bef299376d4>, line 3)",
     "output_type": "error",
     "traceback": [
      "\u001b[0;36m  File \u001b[0;32m\"<ipython-input-4-3bef299376d4>\"\u001b[0;36m, line \u001b[0;32m3\u001b[0m\n\u001b[0;31m    Read in the financial data file you have created as a dataframe (concatenation of all the files for a company).\u001b[0m\n\u001b[0m                        ^\u001b[0m\n\u001b[0;31mSyntaxError\u001b[0m\u001b[0;31m:\u001b[0m invalid syntax\n"
     ]
    }
   ],
   "source": [
    "### 2. Exercises!\n",
    "#### Q1\n",
    "Read in the financial data file you have created as a dataframe (concatenation of all the files for a company).\n",
    "#### Q2\n",
    "Provide descriptive statistics for all columns of this data"
   ]
  },
  {
   "cell_type": "code",
   "execution_count": null,
   "metadata": {
    "collapsed": true
   },
   "outputs": [],
   "source": [
    "####################### THIS IS HOMEWORK from the 3 files that start with msft and the 3 files that start with appl\n",
    "# \n",
    "# Try using %%timeit\n",
    "\n",
    "import matplotlib.pyplot as plt\n",
    "%pylab inline\n",
    "best_sws_df.price.value_counts().plot(\"bar\")\n",
    "\n"
   ]
  }
 ],
 "metadata": {
  "kernelspec": {
   "display_name": "Python 2",
   "language": "python",
   "name": "python2"
  },
  "language_info": {
   "codemirror_mode": {
    "name": "ipython",
    "version": 2
   },
   "file_extension": ".py",
   "mimetype": "text/x-python",
   "name": "python",
   "nbconvert_exporter": "python",
   "pygments_lexer": "ipython2",
   "version": "2.7.11"
  }
 },
 "nbformat": 4,
 "nbformat_minor": 0
}
